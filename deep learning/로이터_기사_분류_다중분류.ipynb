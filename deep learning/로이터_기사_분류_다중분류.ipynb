{
  "nbformat": 4,
  "nbformat_minor": 0,
  "metadata": {
    "colab": {
      "provenance": [],
      "collapsed_sections": []
    },
    "kernelspec": {
      "name": "python3",
      "display_name": "Python 3"
    },
    "language_info": {
      "name": "python"
    }
  },
  "cells": [
    {
      "cell_type": "code",
      "execution_count": 1,
      "metadata": {
        "id": "6g3lHtIIYHdT"
      },
      "outputs": [],
      "source": [
        "import keras\n",
        "import numpy as np\n",
        "import matplotlib.pyplot as plt"
      ]
    },
    {
      "cell_type": "code",
      "source": [
        "# 로이터 기사 데이터 셋을 로딩합니다.\n",
        "\n",
        "from keras.datasets import reuters\n",
        "(train_data, train_labels),(test_data, test_labels) = reuters.load_data(num_words=10000) #너무 많으니 자주 쓰는 단어들만 가져오자."
      ],
      "metadata": {
        "id": "xXNlD5EvYXHL"
      },
      "execution_count": 15,
      "outputs": []
    },
    {
      "cell_type": "code",
      "source": [
        "train_data.shape"
      ],
      "metadata": {
        "colab": {
          "base_uri": "https://localhost:8080/"
        },
        "id": "qSrzpfjNY5L3",
        "outputId": "922b20ee-63b2-4e50-dfbf-47e56257023e"
      },
      "execution_count": 16,
      "outputs": [
        {
          "output_type": "execute_result",
          "data": {
            "text/plain": [
              "(8982,)"
            ]
          },
          "metadata": {},
          "execution_count": 16
        }
      ]
    },
    {
      "cell_type": "code",
      "source": [
        "train_data[0]"
      ],
      "metadata": {
        "colab": {
          "base_uri": "https://localhost:8080/"
        },
        "id": "XchDNFWlZWOl",
        "outputId": "bffe5ac2-4c97-47d8-9cf7-002961957faa"
      },
      "execution_count": 20,
      "outputs": [
        {
          "output_type": "execute_result",
          "data": {
            "text/plain": [
              "[1,\n",
              " 2,\n",
              " 2,\n",
              " 8,\n",
              " 43,\n",
              " 10,\n",
              " 447,\n",
              " 5,\n",
              " 25,\n",
              " 207,\n",
              " 270,\n",
              " 5,\n",
              " 3095,\n",
              " 111,\n",
              " 16,\n",
              " 369,\n",
              " 186,\n",
              " 90,\n",
              " 67,\n",
              " 7,\n",
              " 89,\n",
              " 5,\n",
              " 19,\n",
              " 102,\n",
              " 6,\n",
              " 19,\n",
              " 124,\n",
              " 15,\n",
              " 90,\n",
              " 67,\n",
              " 84,\n",
              " 22,\n",
              " 482,\n",
              " 26,\n",
              " 7,\n",
              " 48,\n",
              " 4,\n",
              " 49,\n",
              " 8,\n",
              " 864,\n",
              " 39,\n",
              " 209,\n",
              " 154,\n",
              " 6,\n",
              " 151,\n",
              " 6,\n",
              " 83,\n",
              " 11,\n",
              " 15,\n",
              " 22,\n",
              " 155,\n",
              " 11,\n",
              " 15,\n",
              " 7,\n",
              " 48,\n",
              " 9,\n",
              " 4579,\n",
              " 1005,\n",
              " 504,\n",
              " 6,\n",
              " 258,\n",
              " 6,\n",
              " 272,\n",
              " 11,\n",
              " 15,\n",
              " 22,\n",
              " 134,\n",
              " 44,\n",
              " 11,\n",
              " 15,\n",
              " 16,\n",
              " 8,\n",
              " 197,\n",
              " 1245,\n",
              " 90,\n",
              " 67,\n",
              " 52,\n",
              " 29,\n",
              " 209,\n",
              " 30,\n",
              " 32,\n",
              " 132,\n",
              " 6,\n",
              " 109,\n",
              " 15,\n",
              " 17,\n",
              " 12]"
            ]
          },
          "metadata": {},
          "execution_count": 20
        }
      ]
    },
    {
      "cell_type": "code",
      "source": [
        "word_index = reuters.get_word_index()\n",
        "reverse_word_index = dict([(value, key) for (key, value) in word_index.items()])\n",
        "\n",
        "decoded_newsire = ' '.join([reverse_word_index.get(i-3,'?') for i in train_data[0]])"
      ],
      "metadata": {
        "id": "R9rkKG5mZZLP"
      },
      "execution_count": 24,
      "outputs": []
    },
    {
      "cell_type": "code",
      "source": [
        "decoded_newsire"
      ],
      "metadata": {
        "colab": {
          "base_uri": "https://localhost:8080/",
          "height": 53
        },
        "id": "wQ1NfyjyZ3A0",
        "outputId": "6c33f78f-e782-40d7-e8c5-0d4997a07dba"
      },
      "execution_count": 25,
      "outputs": [
        {
          "output_type": "execute_result",
          "data": {
            "text/plain": [
              "'? ? ? said as a result of its december acquisition of space co it expects earnings per share in 1987 of 1 15 to 1 30 dlrs per share up from 70 cts in 1986 the company said pretax net should rise to nine to 10 mln dlrs from six mln dlrs in 1986 and rental operation revenues to 19 to 22 mln dlrs from 12 5 mln dlrs it said cash flow per share this year should be 2 50 to three dlrs reuter 3'"
            ],
            "application/vnd.google.colaboratory.intrinsic+json": {
              "type": "string"
            }
          },
          "metadata": {},
          "execution_count": 25
        }
      ]
    },
    {
      "cell_type": "code",
      "source": [
        "train_labels[0]"
      ],
      "metadata": {
        "colab": {
          "base_uri": "https://localhost:8080/"
        },
        "id": "4WwBsBiHadR6",
        "outputId": "159d261a-fb84-48a4-c5b6-aab41354700c"
      },
      "execution_count": 28,
      "outputs": [
        {
          "output_type": "execute_result",
          "data": {
            "text/plain": [
              "3"
            ]
          },
          "metadata": {},
          "execution_count": 28
        }
      ]
    },
    {
      "cell_type": "code",
      "source": [
        "# 데이터의 준비\n",
        "\n",
        "def vectorize_sequences(sequences, dimension=10000):\n",
        "\n",
        "  results = np.zeros((len(sequences),dimension))\n",
        "\n",
        "  for i, sequence in enumerate(sequences):\n",
        "    results[i, sequence] = 1\n",
        "\n",
        "  return results\n",
        "\n",
        "# 데이터의 변환\n",
        "x_train = vectorize_sequences(train_data)\n",
        "x_test = vectorize_sequences(test_data)"
      ],
      "metadata": {
        "id": "p1W2al_oaetW"
      },
      "execution_count": 30,
      "outputs": []
    },
    {
      "cell_type": "code",
      "source": [
        "train_labels"
      ],
      "metadata": {
        "colab": {
          "base_uri": "https://localhost:8080/"
        },
        "id": "k3_xkpyPb0Hq",
        "outputId": "beb84894-ae1f-4dba-904d-d5e4ca45473f"
      },
      "execution_count": 31,
      "outputs": [
        {
          "output_type": "execute_result",
          "data": {
            "text/plain": [
              "array([ 3,  4,  3, ..., 25,  3, 25])"
            ]
          },
          "metadata": {},
          "execution_count": 31
        }
      ]
    },
    {
      "cell_type": "code",
      "source": [
        "# 라벨 데이터의 엔코딩\n",
        "def to_one_hot(labels, dimension=46): #46은 이 데이터의 topic수\n",
        "  results = np.zeros((len(labels),dimension))\n",
        "\n",
        "  for i, sequence in enumerate(labels):\n",
        "    results[i, sequence] = 1\n",
        "\n",
        "  return results\n",
        "\n",
        "one_hot_train_labels = to_one_hot(train_labels)\n",
        "one_hot_test_labels = to_one_hot(test_labels)"
      ],
      "metadata": {
        "id": "UgI9hWedcGta"
      },
      "execution_count": 32,
      "outputs": []
    },
    {
      "cell_type": "code",
      "source": [
        "# categorical 데이터로 변환 (컴퓨터가 숫자로 인식해버려서 계산하는 것을 방지)\n",
        "from keras.utils.np_utils import to_categorical\n",
        "\n",
        "one_hot_train_labels = to_categorical(train_labels) #원핫을 날려도 되고 그냥 카테고리로 바로 날려도 되고, 본인 선택의 몫(이건 회사마다 다르다고 함.)\n",
        "one_hot_test_labels = to_categorical(test_labels) #32번째(윗단계)는 학습을 위해서 써본거지 실제론 이것만써도 충분하다고 함."
      ],
      "metadata": {
        "id": "okCINKjueXHC"
      },
      "execution_count": 34,
      "outputs": []
    },
    {
      "cell_type": "code",
      "source": [
        "# 신경망을 구성합니다.\n",
        "from keras import models\n",
        "from keras import layers\n",
        "\n",
        "model = models.Sequential()\n",
        "model.add(layers.Dense(64, activation='relu', input_shape=(10000,)))\n",
        "model.add(layers.Dense(64, activation='relu'))\n",
        "model.add(layers.Dense(46, activation='softmax'))"
      ],
      "metadata": {
        "id": "MfjRMY73f_H4"
      },
      "execution_count": 37,
      "outputs": []
    },
    {
      "cell_type": "code",
      "source": [
        "model.summary() #얽히고 설킨 params를 확인. 맨 위 레이어와 아래의 레이어 Param 차이가 크다(정보의 유실이 일어날 수 있다.해결법->모든 유닛을 특정 값으로 고정.)"
      ],
      "metadata": {
        "colab": {
          "base_uri": "https://localhost:8080/"
        },
        "id": "x09ZkZfngq5-",
        "outputId": "894022d0-97cf-4f77-c9af-461b2694c8e0"
      },
      "execution_count": 39,
      "outputs": [
        {
          "output_type": "stream",
          "name": "stdout",
          "text": [
            "Model: \"sequential_2\"\n",
            "_________________________________________________________________\n",
            " Layer (type)                Output Shape              Param #   \n",
            "=================================================================\n",
            " dense_4 (Dense)             (None, 64)                640064    \n",
            "                                                                 \n",
            " dense_5 (Dense)             (None, 64)                4160      \n",
            "                                                                 \n",
            " dense_6 (Dense)             (None, 46)                2990      \n",
            "                                                                 \n",
            "=================================================================\n",
            "Total params: 647,214\n",
            "Trainable params: 647,214\n",
            "Non-trainable params: 0\n",
            "_________________________________________________________________\n"
          ]
        }
      ]
    },
    {
      "cell_type": "code",
      "source": [
        "model.compile(optimizer='rmsprop',\n",
        "loss='categorical_crossentropy',\n",
        "metrics=['accuracy'])# 분류 문제에선 기본이 accuracy"
      ],
      "metadata": {
        "id": "IjFo9QNihJu7"
      },
      "execution_count": 48,
      "outputs": []
    },
    {
      "cell_type": "code",
      "source": [
        "# 훈련 데이터의 준비\n",
        "\n",
        "x_val = x_train[:1000] #데이터가 많지않아 검증용 데이터는 1000번째까지 잡음.\n",
        "partial_x_train = x_train[1000:]\n",
        "y_val = one_hot_train_labels[:1000]\n",
        "partial_y_train = one_hot_train_labels[1000:]"
      ],
      "metadata": {
        "id": "CtgTfnQZoDQR"
      },
      "execution_count": 49,
      "outputs": []
    },
    {
      "cell_type": "code",
      "source": [
        "history = model.fit(partial_x_train, \n",
        "                    partial_y_train,\n",
        "                    epochs=20,\n",
        "                    batch_size=512,\n",
        "                    validation_data=(x_val, y_val))"
      ],
      "metadata": {
        "colab": {
          "base_uri": "https://localhost:8080/"
        },
        "id": "oAk51KpEo5Hk",
        "outputId": "6c1d3055-bb85-42b0-b2d2-d5cf9c8e256b"
      },
      "execution_count": 50,
      "outputs": [
        {
          "output_type": "stream",
          "name": "stdout",
          "text": [
            "Epoch 1/20\n",
            "16/16 [==============================] - 2s 80ms/step - loss: 2.6695 - accuracy: 0.5192 - val_loss: 1.7132 - val_accuracy: 0.6250\n",
            "Epoch 2/20\n",
            "16/16 [==============================] - 1s 60ms/step - loss: 1.4111 - accuracy: 0.7098 - val_loss: 1.2851 - val_accuracy: 0.7190\n",
            "Epoch 3/20\n",
            "16/16 [==============================] - 1s 60ms/step - loss: 1.0428 - accuracy: 0.7793 - val_loss: 1.1173 - val_accuracy: 0.7590\n",
            "Epoch 4/20\n",
            "16/16 [==============================] - 1s 59ms/step - loss: 0.8209 - accuracy: 0.8266 - val_loss: 1.0224 - val_accuracy: 0.7830\n",
            "Epoch 5/20\n",
            "16/16 [==============================] - 1s 63ms/step - loss: 0.6604 - accuracy: 0.8608 - val_loss: 0.9588 - val_accuracy: 0.8000\n",
            "Epoch 6/20\n",
            "16/16 [==============================] - 1s 68ms/step - loss: 0.5305 - accuracy: 0.8900 - val_loss: 0.9351 - val_accuracy: 0.8060\n",
            "Epoch 7/20\n",
            "16/16 [==============================] - 1s 67ms/step - loss: 0.4291 - accuracy: 0.9100 - val_loss: 0.9366 - val_accuracy: 0.8000\n",
            "Epoch 8/20\n",
            "16/16 [==============================] - 1s 67ms/step - loss: 0.3509 - accuracy: 0.9285 - val_loss: 0.8973 - val_accuracy: 0.8150\n",
            "Epoch 9/20\n",
            "16/16 [==============================] - 1s 67ms/step - loss: 0.2910 - accuracy: 0.9352 - val_loss: 0.8867 - val_accuracy: 0.8180\n",
            "Epoch 10/20\n",
            "16/16 [==============================] - 1s 68ms/step - loss: 0.2484 - accuracy: 0.9417 - val_loss: 0.9152 - val_accuracy: 0.8130\n",
            "Epoch 11/20\n",
            "16/16 [==============================] - 1s 68ms/step - loss: 0.2087 - accuracy: 0.9498 - val_loss: 0.9306 - val_accuracy: 0.8160\n",
            "Epoch 12/20\n",
            "16/16 [==============================] - 1s 68ms/step - loss: 0.1879 - accuracy: 0.9504 - val_loss: 0.9224 - val_accuracy: 0.8200\n",
            "Epoch 13/20\n",
            "16/16 [==============================] - 1s 69ms/step - loss: 0.1702 - accuracy: 0.9528 - val_loss: 1.0010 - val_accuracy: 0.8020\n",
            "Epoch 14/20\n",
            "16/16 [==============================] - 1s 71ms/step - loss: 0.1567 - accuracy: 0.9545 - val_loss: 0.9760 - val_accuracy: 0.8100\n",
            "Epoch 15/20\n",
            "16/16 [==============================] - 1s 70ms/step - loss: 0.1422 - accuracy: 0.9560 - val_loss: 1.0411 - val_accuracy: 0.7970\n",
            "Epoch 16/20\n",
            "16/16 [==============================] - 1s 69ms/step - loss: 0.1382 - accuracy: 0.9560 - val_loss: 1.0664 - val_accuracy: 0.7910\n",
            "Epoch 17/20\n",
            "16/16 [==============================] - 1s 68ms/step - loss: 0.1281 - accuracy: 0.9559 - val_loss: 1.0362 - val_accuracy: 0.8090\n",
            "Epoch 18/20\n",
            "16/16 [==============================] - 1s 68ms/step - loss: 0.1245 - accuracy: 0.9562 - val_loss: 1.0533 - val_accuracy: 0.8120\n",
            "Epoch 19/20\n",
            "16/16 [==============================] - 1s 67ms/step - loss: 0.1149 - accuracy: 0.9578 - val_loss: 1.0745 - val_accuracy: 0.8070\n",
            "Epoch 20/20\n",
            "16/16 [==============================] - 1s 67ms/step - loss: 0.1161 - accuracy: 0.9579 - val_loss: 1.0916 - val_accuracy: 0.8110\n"
          ]
        }
      ]
    },
    {
      "cell_type": "code",
      "source": [
        "loss = history.history['loss']\n",
        "val_loss = history.history['val_loss']\n",
        "acc = history.history['accuracy']\n",
        "val_acc = history.history['val_accuracy']\n",
        "\n",
        "epochs = range(1, len(loss) + 1)"
      ],
      "metadata": {
        "id": "3pO91oPhpdeZ"
      },
      "execution_count": 53,
      "outputs": []
    },
    {
      "cell_type": "code",
      "source": [
        "# 결과를 시각화 한다.\n",
        "plt.figure(figsize=(10,6))\n",
        "plt.plot(epochs, loss, 'bo', label='Training Loss')\n",
        "plt.plot(epochs, val_loss, 'b-', label='Validation Loss')\n",
        "plt.title('Training and validation loss')\n",
        "plt.xlabel('Epochs')\n",
        "plt.ylabel('Loss')\n",
        "plt.legend()\n",
        "\n",
        "# 8번 정도 epochs를 돌리면 최상의 모델을 뽑아 낼 수 있다."
      ],
      "metadata": {
        "colab": {
          "base_uri": "https://localhost:8080/",
          "height": 421
        },
        "id": "78wHi5Cjq4-w",
        "outputId": "48559ab8-739c-4016-a41b-8e9a95883482"
      },
      "execution_count": 59,
      "outputs": [
        {
          "output_type": "execute_result",
          "data": {
            "text/plain": [
              "<matplotlib.legend.Legend at 0x7fa74b367690>"
            ]
          },
          "metadata": {},
          "execution_count": 59
        },
        {
          "output_type": "display_data",
          "data": {
            "text/plain": [
              "<Figure size 720x432 with 1 Axes>"
            ],
            "image/png": "[encoded data removed]"
          },
          "metadata": {
            "needs_background": "light"
          }
        }
      ]
    },
    {
      "cell_type": "code",
      "source": [
        "# 결과를 시각화 한다. (accurancy 기반으로)\n",
        "plt.figure(figsize=(10,6))\n",
        "plt.plot(epochs, acc, 'bo', label='Training Accuracy')\n",
        "plt.plot(epochs, val_acc, 'b-', label='Validation Accuracy')\n",
        "plt.title('Training and validation Accuracy')\n",
        "plt.xlabel('Epochs')\n",
        "plt.ylabel('Accuracy')\n",
        "plt.legend()"
      ],
      "metadata": {
        "colab": {
          "base_uri": "https://localhost:8080/",
          "height": 421
        },
        "id": "BW2gTjQVrjJP",
        "outputId": "a377e230-b7f0-49ab-cfed-3a3e247427a8"
      },
      "execution_count": 60,
      "outputs": [
        {
          "output_type": "execute_result",
          "data": {
            "text/plain": [
              "<matplotlib.legend.Legend at 0x7fa74c44fdd0>"
            ]
          },
          "metadata": {},
          "execution_count": 60
        },
        {
          "output_type": "display_data",
          "data": {
            "text/plain": [
              "<Figure size 720x432 with 1 Axes>"
            ],
            "image/png": "[encoded data removed]"
          },
          "metadata": {
            "needs_background": "light"
          }
        }
      ]
    },
    {
      "cell_type": "code",
      "source": [
        "# 극단적으로 가보자. (정보의 갯수를 작게)\n",
        "model = models.Sequential()\n",
        "model.add(layers.Dense(64, activation='relu', input_shape=(10000,)))\n",
        "model.add(layers.Dense(4, activation='relu')) # 64 -> 4로 바꿈.\n",
        "model.add(layers.Dense(46, activation='softmax'))"
      ],
      "metadata": {
        "id": "dkolzIfIsi6B"
      },
      "execution_count": 61,
      "outputs": []
    },
    {
      "cell_type": "code",
      "source": [
        "model.compile(optimizer='rmsprop',\n",
        "               loss='categorical_crossentropy',\n",
        "               metrics=['accuracy'])\n",
        " \n",
        "x_val = x_train[:1000]\n",
        "partial_x_train = x_train[1000:]\n",
        "y_val = one_hot_train_labels[:1000]\n",
        "partial_y_train = one_hot_train_labels[1000:]\n",
        "\n",
        "\n",
        "history = model.fit(partial_x_train, \n",
        "                    partial_y_train,\n",
        "                    epochs=20,\n",
        "                    batch_size=512,\n",
        "                    validation_data=(x_val, y_val))\n",
        "\n",
        "loss = history.history['loss']\n",
        "val_loss = history.history['val_loss']\n",
        "acc = history.history['accuracy']\n",
        "val_acc = history.history['val_accuracy']\n",
        "\n",
        "epochs = range(1, len(loss) + 1)\n",
        "\n",
        "\n",
        "# 결과를 시각화 한다. \n",
        "plt.plot(epochs, loss, 'bo', label='Training Loss')\n",
        "plt.plot(epochs, val_loss, 'b-', label='Validation Loss')\n",
        "plt.title('Training and validation loss')\n",
        "plt.xlabel('Epochs')\n",
        "plt.ylabel('Loss')\n",
        "plt.legend()"
      ],
      "metadata": {
        "colab": {
          "base_uri": "https://localhost:8080/",
          "height": 1000
        },
        "id": "z1Wb8TkDtExi",
        "outputId": "6e2a6be4-dc04-41e0-a72b-203f424e57f7"
      },
      "execution_count": 62,
      "outputs": [
        {
          "output_type": "stream",
          "name": "stdout",
          "text": [
            "Epoch 1/20\n",
            "16/16 [==============================] - 3s 89ms/step - loss: 3.5133 - accuracy: 0.2963 - val_loss: 3.1937 - val_accuracy: 0.3740\n",
            "Epoch 2/20\n",
            "16/16 [==============================] - 1s 58ms/step - loss: 2.9346 - accuracy: 0.3969 - val_loss: 2.7353 - val_accuracy: 0.4070\n",
            "Epoch 3/20\n",
            "16/16 [==============================] - 1s 58ms/step - loss: 2.4980 - accuracy: 0.4245 - val_loss: 2.4196 - val_accuracy: 0.4160\n",
            "Epoch 4/20\n",
            "16/16 [==============================] - 1s 60ms/step - loss: 2.2074 - accuracy: 0.4385 - val_loss: 2.2219 - val_accuracy: 0.4230\n",
            "Epoch 5/20\n",
            "16/16 [==============================] - 1s 60ms/step - loss: 2.0098 - accuracy: 0.4459 - val_loss: 2.0899 - val_accuracy: 0.4360\n",
            "Epoch 6/20\n",
            "16/16 [==============================] - 2s 112ms/step - loss: 1.8531 - accuracy: 0.4580 - val_loss: 1.9651 - val_accuracy: 0.4440\n",
            "Epoch 7/20\n",
            "16/16 [==============================] - 2s 102ms/step - loss: 1.7062 - accuracy: 0.4757 - val_loss: 1.8471 - val_accuracy: 0.4680\n",
            "Epoch 8/20\n",
            "16/16 [==============================] - 2s 144ms/step - loss: 1.5554 - accuracy: 0.4967 - val_loss: 1.7393 - val_accuracy: 0.4990\n",
            "Epoch 9/20\n",
            "16/16 [==============================] - 2s 107ms/step - loss: 1.3874 - accuracy: 0.5573 - val_loss: 1.5769 - val_accuracy: 0.5930\n",
            "Epoch 10/20\n",
            "16/16 [==============================] - 1s 59ms/step - loss: 1.2158 - accuracy: 0.6938 - val_loss: 1.4650 - val_accuracy: 0.6560\n",
            "Epoch 11/20\n",
            "16/16 [==============================] - 1s 59ms/step - loss: 1.0828 - accuracy: 0.7256 - val_loss: 1.3824 - val_accuracy: 0.6730\n",
            "Epoch 12/20\n",
            "16/16 [==============================] - 1s 59ms/step - loss: 0.9942 - accuracy: 0.7362 - val_loss: 1.3619 - val_accuracy: 0.6750\n",
            "Epoch 13/20\n",
            "16/16 [==============================] - 1s 59ms/step - loss: 0.9294 - accuracy: 0.7474 - val_loss: 1.3344 - val_accuracy: 0.6800\n",
            "Epoch 14/20\n",
            "16/16 [==============================] - 1s 60ms/step - loss: 0.8743 - accuracy: 0.7647 - val_loss: 1.3337 - val_accuracy: 0.6860\n",
            "Epoch 15/20\n",
            "16/16 [==============================] - 1s 59ms/step - loss: 0.8285 - accuracy: 0.7793 - val_loss: 1.3079 - val_accuracy: 0.6860\n",
            "Epoch 16/20\n",
            "16/16 [==============================] - 1s 60ms/step - loss: 0.7856 - accuracy: 0.7865 - val_loss: 1.3282 - val_accuracy: 0.6930\n",
            "Epoch 17/20\n",
            "16/16 [==============================] - 1s 58ms/step - loss: 0.7478 - accuracy: 0.7954 - val_loss: 1.3517 - val_accuracy: 0.6980\n",
            "Epoch 18/20\n",
            "16/16 [==============================] - 1s 58ms/step - loss: 0.7155 - accuracy: 0.7994 - val_loss: 1.3338 - val_accuracy: 0.7010\n",
            "Epoch 19/20\n",
            "16/16 [==============================] - 1s 59ms/step - loss: 0.6840 - accuracy: 0.8043 - val_loss: 1.3383 - val_accuracy: 0.6950\n",
            "Epoch 20/20\n",
            "16/16 [==============================] - 1s 58ms/step - loss: 0.6578 - accuracy: 0.8091 - val_loss: 1.3609 - val_accuracy: 0.6980\n"
          ]
        },
        {
          "output_type": "execute_result",
          "data": {
            "text/plain": [
              "<matplotlib.legend.Legend at 0x7fa74b12f590>"
            ]
          },
          "metadata": {},
          "execution_count": 62
        },
        {
          "output_type": "display_data",
          "data": {
            "text/plain": [
              "<Figure size 432x288 with 1 Axes>"
            ],
            "image/png": "[encoded data removed]"
          },
          "metadata": {
            "needs_background": "light"
          }
        }
      ]
    },
    {
      "cell_type": "code",
      "source": [
        "# 충분한 정보의 갯수가 필요함을 알 수 있다."
      ],
      "metadata": {
        "id": "hkRaxpegtQkn"
      },
      "execution_count": null,
      "outputs": []
    },
    {
      "cell_type": "code",
      "source": [
        "# 극단적으로 가보자. (정보의 갯수를 크게)\n",
        "model = models.Sequential()\n",
        "model.add(layers.Dense(64, activation='relu', input_shape=(10000,)))\n",
        "model.add(layers.Dense(1000, activation='relu')) # 64 -> 4로 바꿈.\n",
        "model.add(layers.Dense(46, activation='softmax'))"
      ],
      "metadata": {
        "id": "votPb9k8t7DP"
      },
      "execution_count": 63,
      "outputs": []
    },
    {
      "cell_type": "code",
      "source": [
        "model.compile(optimizer='rmsprop',\n",
        "               loss='categorical_crossentropy',\n",
        "               metrics=['accuracy'])\n",
        " \n",
        "x_val = x_train[:1000]\n",
        "partial_x_train = x_train[1000:]\n",
        "y_val = one_hot_train_labels[:1000]\n",
        "partial_y_train = one_hot_train_labels[1000:]\n",
        "\n",
        "\n",
        "history = model.fit(partial_x_train, \n",
        "                    partial_y_train,\n",
        "                    epochs=20,\n",
        "                    batch_size=512,\n",
        "                    validation_data=(x_val, y_val))\n",
        "\n",
        "loss = history.history['loss']\n",
        "val_loss = history.history['val_loss']\n",
        "acc = history.history['accuracy']\n",
        "val_acc = history.history['val_accuracy']\n",
        "\n",
        "epochs = range(1, len(loss) + 1)\n",
        "\n",
        "\n",
        "# 결과를 시각화 한다. \n",
        "plt.plot(epochs, loss, 'bo', label='Training Loss')\n",
        "plt.plot(epochs, val_loss, 'b-', label='Validation Loss')\n",
        "plt.title('Training and validation loss')\n",
        "plt.xlabel('Epochs')\n",
        "plt.ylabel('Loss')\n",
        "plt.legend()"
      ],
      "metadata": {
        "colab": {
          "base_uri": "https://localhost:8080/",
          "height": 1000
        },
        "id": "-9C1pk6ot9uL",
        "outputId": "ae332116-3ae2-4447-886d-7e30425c3641"
      },
      "execution_count": 64,
      "outputs": [
        {
          "output_type": "stream",
          "name": "stdout",
          "text": [
            "Epoch 1/20\n",
            "16/16 [==============================] - 3s 81ms/step - loss: 2.2000 - accuracy: 0.5239 - val_loss: 1.4465 - val_accuracy: 0.6650\n",
            "Epoch 2/20\n",
            "16/16 [==============================] - 1s 67ms/step - loss: 1.2204 - accuracy: 0.7197 - val_loss: 1.1727 - val_accuracy: 0.7320\n",
            "Epoch 3/20\n",
            "16/16 [==============================] - 1s 67ms/step - loss: 0.9201 - accuracy: 0.7863 - val_loss: 1.0486 - val_accuracy: 0.7680\n",
            "Epoch 4/20\n",
            "16/16 [==============================] - 1s 67ms/step - loss: 0.6835 - accuracy: 0.8384 - val_loss: 0.9986 - val_accuracy: 0.7770\n",
            "Epoch 5/20\n",
            "16/16 [==============================] - 1s 67ms/step - loss: 0.5249 - accuracy: 0.8722 - val_loss: 0.9545 - val_accuracy: 0.7970\n",
            "Epoch 6/20\n",
            "16/16 [==============================] - 1s 67ms/step - loss: 0.4008 - accuracy: 0.9052 - val_loss: 0.9530 - val_accuracy: 0.8100\n",
            "Epoch 7/20\n",
            "16/16 [==============================] - 1s 69ms/step - loss: 0.3042 - accuracy: 0.9303 - val_loss: 0.9391 - val_accuracy: 0.8200\n",
            "Epoch 8/20\n",
            "16/16 [==============================] - 1s 68ms/step - loss: 0.2462 - accuracy: 0.9384 - val_loss: 0.9782 - val_accuracy: 0.8180\n",
            "Epoch 9/20\n",
            "16/16 [==============================] - 1s 69ms/step - loss: 0.1974 - accuracy: 0.9481 - val_loss: 0.9834 - val_accuracy: 0.8150\n",
            "Epoch 10/20\n",
            "16/16 [==============================] - 1s 68ms/step - loss: 0.1740 - accuracy: 0.9526 - val_loss: 1.0511 - val_accuracy: 0.8140\n",
            "Epoch 11/20\n",
            "16/16 [==============================] - 1s 67ms/step - loss: 0.1658 - accuracy: 0.9535 - val_loss: 0.9774 - val_accuracy: 0.8220\n",
            "Epoch 12/20\n",
            "16/16 [==============================] - 1s 70ms/step - loss: 0.1396 - accuracy: 0.9567 - val_loss: 1.1026 - val_accuracy: 0.7990\n",
            "Epoch 13/20\n",
            "16/16 [==============================] - 1s 67ms/step - loss: 0.1392 - accuracy: 0.9562 - val_loss: 1.0056 - val_accuracy: 0.8190\n",
            "Epoch 14/20\n",
            "16/16 [==============================] - 1s 68ms/step - loss: 0.1314 - accuracy: 0.9563 - val_loss: 1.0824 - val_accuracy: 0.8040\n",
            "Epoch 15/20\n",
            "16/16 [==============================] - 1s 68ms/step - loss: 0.1262 - accuracy: 0.9574 - val_loss: 1.0963 - val_accuracy: 0.8020\n",
            "Epoch 16/20\n",
            "16/16 [==============================] - 1s 67ms/step - loss: 0.1195 - accuracy: 0.9580 - val_loss: 1.1600 - val_accuracy: 0.7870\n",
            "Epoch 17/20\n",
            "16/16 [==============================] - 1s 68ms/step - loss: 0.1155 - accuracy: 0.9565 - val_loss: 1.0686 - val_accuracy: 0.8100\n",
            "Epoch 18/20\n",
            "16/16 [==============================] - 1s 68ms/step - loss: 0.1113 - accuracy: 0.9572 - val_loss: 1.0700 - val_accuracy: 0.8110\n",
            "Epoch 19/20\n",
            "16/16 [==============================] - 1s 68ms/step - loss: 0.1042 - accuracy: 0.9577 - val_loss: 1.1266 - val_accuracy: 0.8180\n",
            "Epoch 20/20\n",
            "16/16 [==============================] - 1s 66ms/step - loss: 0.1036 - accuracy: 0.9560 - val_loss: 1.0861 - val_accuracy: 0.8160\n"
          ]
        },
        {
          "output_type": "execute_result",
          "data": {
            "text/plain": [
              "<matplotlib.legend.Legend at 0x7fa743a3f450>"
            ]
          },
          "metadata": {},
          "execution_count": 64
        },
        {
          "output_type": "display_data",
          "data": {
            "text/plain": [
              "<Figure size 432x288 with 1 Axes>"
            ],
            "image/png": "[encoded data removed]"
          },
          "metadata": {
            "needs_background": "light"
          }
        }
      ]
    },
    {
      "cell_type": "code",
      "source": [
        "# 값을 크게 늘려도 별 다른 차이가 없다.\n",
        "#즉, 최적화될 수 있는 최적의 값을 찾아서 돌려야 된다.(나중에 하다보면 노하우가 생김)"
      ],
      "metadata": {
        "id": "cg-dvguwt_h1"
      },
      "execution_count": null,
      "outputs": []
    }
  ]
}