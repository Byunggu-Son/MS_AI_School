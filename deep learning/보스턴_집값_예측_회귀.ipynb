{
  "nbformat": 4,
  "nbformat_minor": 0,
  "metadata": {
    "colab": {
      "provenance": []
    },
    "kernelspec": {
      "name": "python3",
      "display_name": "Python 3"
    },
    "language_info": {
      "name": "python"
    },
    "accelerator": "GPU",
    "gpuClass": "standard"
  },
  "cells": [
    {
      "cell_type": "code",
      "execution_count": 1,
      "metadata": {
        "id": "lPvJZzQ2x402"
      },
      "outputs": [],
      "source": [
        "import keras\n",
        "import numpy as np\n",
        "import matplotlib.pyplot as plt"
      ]
    },
    {
      "cell_type": "code",
      "source": [
        "# 보스턴 주택 가격 데이터셋\n",
        "from keras. datasets import boston_housing\n",
        "(train_data, train_labels),(test_data, test_labels) = boston_housing.load_data()"
      ],
      "metadata": {
        "colab": {
          "base_uri": "https://localhost:8080/"
        },
        "id": "II2iX6vzy8T9",
        "outputId": "ccbb6b9f-7171-44c6-db63-a5857f9b4d97"
      },
      "execution_count": 2,
      "outputs": [
        {
          "output_type": "stream",
          "name": "stdout",
          "text": [
            "Downloading data from https://storage.googleapis.com/tensorflow/tf-keras-datasets/boston_housing.npz\n",
            "57026/57026 [==============================] - 0s 0us/step\n"
          ]
        }
      ]
    },
    {
      "cell_type": "code",
      "source": [
        "train_data.shape"
      ],
      "metadata": {
        "colab": {
          "base_uri": "https://localhost:8080/"
        },
        "id": "14kE2LRBzXlv",
        "outputId": "f1a02527-db21-47fc-c7d4-a75d72265443"
      },
      "execution_count": 3,
      "outputs": [
        {
          "output_type": "execute_result",
          "data": {
            "text/plain": [
              "(404, 13)"
            ]
          },
          "metadata": {},
          "execution_count": 3
        }
      ]
    },
    {
      "cell_type": "code",
      "source": [
        "test_data.shape"
      ],
      "metadata": {
        "colab": {
          "base_uri": "https://localhost:8080/"
        },
        "id": "OVcDWp8ZzgjP",
        "outputId": "15d21fb8-f33d-4580-e82c-251ee5814687"
      },
      "execution_count": 4,
      "outputs": [
        {
          "output_type": "execute_result",
          "data": {
            "text/plain": [
              "(102, 13)"
            ]
          },
          "metadata": {},
          "execution_count": 4
        }
      ]
    },
    {
      "cell_type": "code",
      "source": [
        "# 데이터를 정규화.\n",
        "# sklearn을 가져다써도 되지만 직접 만들어보기로 하자.\n",
        "\n",
        "mean = train_data.mean(axis=0)"
      ],
      "metadata": {
        "id": "Fksyb-zhzkBU"
      },
      "execution_count": 5,
      "outputs": []
    },
    {
      "cell_type": "code",
      "source": [
        "mean"
      ],
      "metadata": {
        "colab": {
          "base_uri": "https://localhost:8080/"
        },
        "id": "wrc7SIPhz_H4",
        "outputId": "8d227ca4-4221-48cf-df2a-543e1442d039"
      },
      "execution_count": 6,
      "outputs": [
        {
          "output_type": "execute_result",
          "data": {
            "text/plain": [
              "array([3.74511057e+00, 1.14801980e+01, 1.11044307e+01, 6.18811881e-02,\n",
              "       5.57355941e-01, 6.26708168e+00, 6.90106436e+01, 3.74027079e+00,\n",
              "       9.44059406e+00, 4.05898515e+02, 1.84759901e+01, 3.54783168e+02,\n",
              "       1.27408168e+01])"
            ]
          },
          "metadata": {},
          "execution_count": 6
        }
      ]
    },
    {
      "cell_type": "code",
      "source": [
        "train_data -= mean\n",
        "# train_data = train_data - mean 과 같은 표현"
      ],
      "metadata": {
        "id": "E3Q-hw8J0AVc"
      },
      "execution_count": 7,
      "outputs": []
    },
    {
      "cell_type": "code",
      "source": [
        "# 표준 편차를 구한다.\n",
        "std = train_data.std(axis=0) #numpy배열이기에 numpy에 있는 표준편차 구하는 함수를 쓰자."
      ],
      "metadata": {
        "id": "rgn6WJNl2DUQ"
      },
      "execution_count": 8,
      "outputs": []
    },
    {
      "cell_type": "code",
      "source": [
        "train_data /= std\n",
        "#train_data  = tarin_data / std"
      ],
      "metadata": {
        "id": "FeO8Vm0p2_iX"
      },
      "execution_count": 9,
      "outputs": []
    },
    {
      "cell_type": "code",
      "source": [
        "train_data"
      ],
      "metadata": {
        "colab": {
          "base_uri": "https://localhost:8080/"
        },
        "id": "ytepdo1n3N-n",
        "outputId": "03d67228-09ee-4eba-ecf8-f09237c872da"
      },
      "execution_count": 10,
      "outputs": [
        {
          "output_type": "execute_result",
          "data": {
            "text/plain": [
              "array([[-0.27224633, -0.48361547, -0.43576161, ...,  1.14850044,\n",
              "         0.44807713,  0.8252202 ],\n",
              "       [-0.40342651,  2.99178419, -1.33391162, ..., -1.71818909,\n",
              "         0.43190599, -1.32920239],\n",
              "       [ 0.1249402 , -0.48361547,  1.0283258 , ...,  0.78447637,\n",
              "         0.22061726, -1.30850006],\n",
              "       ...,\n",
              "       [-0.40202987,  0.99079651, -0.7415148 , ..., -0.71712291,\n",
              "         0.07943894, -0.67776904],\n",
              "       [-0.17292018, -0.48361547,  1.24588095, ..., -1.71818909,\n",
              "        -0.98764362,  0.42083466],\n",
              "       [-0.40422614,  2.04394792, -1.20161456, ..., -1.30866202,\n",
              "         0.23317118, -1.15392266]])"
            ]
          },
          "metadata": {},
          "execution_count": 10
        }
      ]
    },
    {
      "cell_type": "code",
      "source": [
        " # 표준편차가 0이면 변별력이 없기에 의미가 없는 것.\n",
        "mean = test_data.mean(axis=0)\n",
        "test_data -= mean\n",
        "std = test_data.std(axis=0)\n",
        "test_data /=std"
      ],
      "metadata": {
        "id": "ZvrcvUZ43ZG6"
      },
      "execution_count": 11,
      "outputs": []
    },
    {
      "cell_type": "code",
      "source": [
        "test_data"
      ],
      "metadata": {
        "colab": {
          "base_uri": "https://localhost:8080/"
        },
        "id": "IRfgroKJ3_dR",
        "outputId": "a56ac263-8300-4f39-c45f-2a7b4e2976e8"
      },
      "execution_count": 12,
      "outputs": [
        {
          "output_type": "execute_result",
          "data": {
            "text/plain": [
              "array([[ 2.8040301 , -0.50784934,  0.96960877, ...,  0.90513041,\n",
              "        -4.27829517,  2.51324773],\n",
              "       [-0.55530596, -0.50784934, -0.17801704, ..., -0.28485844,\n",
              "         0.3909446 ,  0.58604286],\n",
              "       [-0.56808398, -0.50784934, -0.86176938, ...,  0.90513041,\n",
              "         0.41570668, -0.38506427],\n",
              "       ...,\n",
              "       [-0.23539182, -0.50784934,  1.17955762, ..., -1.82192738,\n",
              "         0.32313459, -1.55879807],\n",
              "       [-0.5113909 , -0.50784934, -0.71849348, ..., -0.48318992,\n",
              "         0.34967446, -0.38956708],\n",
              "       [-0.03148414, -0.50784934,  1.17955762, ..., -1.82192738,\n",
              "        -1.57465677, -0.3745577 ]])"
            ]
          },
          "metadata": {},
          "execution_count": 12
        }
      ]
    },
    {
      "cell_type": "code",
      "source": [
        "# 신경망을 만든다. \n",
        "from keras import models\n",
        "from keras import layers\n",
        "\n",
        "def build_model():\n",
        "  model = models.Sequential()\n",
        "  model.add(layers.Dense(64, activation='relu',input_shape=(train_data.shape[1],)))\n",
        "  model.add(layers.Dense(64, activation='relu'))\n",
        "  model.add(layers.Dense(1))# 결과로 집값 하나가 필요한 거니깐. 활성함수 안써주면 디폴트는 항등함수니깐 그냥 둬도 됨.(regression에선 대부분 그러는 듯.)\n",
        "\n",
        "  model.compile(optimizer='rmsprop', \n",
        "                loss='mse',\n",
        "                metrics=['mae'])\n",
        "  return model"
      ],
      "metadata": {
        "id": "PWEM4Lvc4AUQ"
      },
      "execution_count": 13,
      "outputs": []
    },
    {
      "cell_type": "code",
      "source": [
        "# K-folder 검증 #데이터가 적을때 쓴다.\n",
        "k = 4\n",
        "\n",
        "num_val_samples = len(train_data) // k #폴더의 사이즈\n",
        "all_scores = []\n",
        "\n",
        "for i in range(k):\n",
        "  print('처리중인 폴드 #',i)\n",
        "\n",
        "  # 검증 데이터를 준비: k번째 분할\n",
        "  val_data = train_data[i * num_val_samples : (i+1) * num_val_samples]\n",
        "  val_labels = train_labels[i * num_val_samples : (i+1) * num_val_samples]\n",
        "  # print(i,(i+1)*num_val_samples)\n",
        "\n",
        "  # 훈련 데이터의 준비:\n",
        "  partial_train_data = np.concatenate(#두개의 데이터를 합침.\n",
        "    [train_data[: i * num_val_samples],#처음부터 여기까지라는 뜻\n",
        "    train_data[(i+1)*num_val_samples:]], axis=0) #여기서부터 끝까지 라는 뜻을 슬라이싱으로 표현한 것.(k-folder 그림 참조)\n",
        "  \n",
        "  partial_train_labels = np.concatenate(\n",
        "    [train_labels[: i * num_val_samples],\n",
        "    train_labels[(i+1)*num_val_samples:]], axis=0)\n",
        "\n",
        "  model = build_model()\n",
        "  model.fit(partial_train_data,\n",
        "            partial_train_labels,\n",
        "            epochs=20,\n",
        "            batch_size=1,\n",
        "            verbose=0) # 불필요한 시스템 메세지 skip\n",
        "  \n",
        "  val_mse, val_mae = model.evaluate(val_data, val_labels,verbose=0)\n",
        "  all_scores.append(val_mae)"
      ],
      "metadata": {
        "colab": {
          "base_uri": "https://localhost:8080/"
        },
        "id": "pMAuHvok6vHR",
        "outputId": "b682a1e4-8b36-44ac-891f-d905156ae697"
      },
      "execution_count": 14,
      "outputs": [
        {
          "output_type": "stream",
          "name": "stdout",
          "text": [
            "처리중인 폴드 # 0\n",
            "처리중인 폴드 # 1\n",
            "처리중인 폴드 # 2\n",
            "처리중인 폴드 # 3\n"
          ]
        }
      ]
    },
    {
      "cell_type": "code",
      "source": [
        "all_scores"
      ],
      "metadata": {
        "colab": {
          "base_uri": "https://localhost:8080/"
        },
        "id": "ewRgpTxx6yFS",
        "outputId": "c9d0c5fc-a8df-4e6f-e50b-ee63f85669f2"
      },
      "execution_count": 15,
      "outputs": [
        {
          "output_type": "execute_result",
          "data": {
            "text/plain": [
              "[1.9884647130966187, 2.403876304626465, 2.5251777172088623, 2.5850555896759033]"
            ]
          },
          "metadata": {},
          "execution_count": 15
        }
      ]
    },
    {
      "cell_type": "code",
      "source": [
        "np.mean(all_scores)"
      ],
      "metadata": {
        "colab": {
          "base_uri": "https://localhost:8080/"
        },
        "id": "yYFGnWPaHiCj",
        "outputId": "94226dd3-32c3-4abf-c37b-8e9af0c6e8a7"
      },
      "execution_count": 16,
      "outputs": [
        {
          "output_type": "execute_result",
          "data": {
            "text/plain": [
              "2.3756435811519623"
            ]
          },
          "metadata": {},
          "execution_count": 16
        }
      ]
    },
    {
      "cell_type": "code",
      "source": [
        "# K-folder 검증\n",
        "k = 4\n",
        "num_epochs = 500\n",
        "\n",
        "num_val_samples = len(train_data) // k #폴더의 사이즈\n",
        "all_scores = []\n",
        "\n",
        "for i in range(k):\n",
        "  print('처리중인 폴드 #',i)\n",
        "\n",
        "  # 검증 데이터를 준비: k번째 분할\n",
        "  val_data = train_data[i * num_val_samples : (i+1) * num_val_samples]\n",
        "  val_labels = train_labels[i * num_val_samples : (i+1) * num_val_samples]\n",
        "  \n",
        "  # 훈련 데이터의 준비:\n",
        "  partial_train_data = np.concatenate(\n",
        "    [train_data[: i * num_val_samples],\n",
        "    train_data[(i+1)*num_val_samples:]], axis=0)\n",
        "  \n",
        "  partial_train_labels = np.concatenate(\n",
        "    [train_labels[: i * num_val_samples],\n",
        "    train_labels[(i+1)*num_val_samples:]], axis=0)\n",
        "\n",
        "  model = build_model()\n",
        "  history = model.fit(partial_train_data,\n",
        "              partial_train_labels,\n",
        "              epochs=num_epochs,#500번 돌게 됨.\n",
        "              batch_size=1,\n",
        "              validation_data=(val_data, val_labels), #fit에서 검증을 해보자.\n",
        "              verbose=0)\n",
        "  mae_history = history.history['mae']\n",
        "  \n",
        "  all_scores.append(mae_history)\n"
      ],
      "metadata": {
        "colab": {
          "base_uri": "https://localhost:8080/"
        },
        "id": "ibtUdoE8HjAk",
        "outputId": "303da764-8082-4274-f28c-5e6672c345dc"
      },
      "execution_count": 48,
      "outputs": [
        {
          "output_type": "stream",
          "name": "stdout",
          "text": [
            "처리중인 폴드 # 0\n",
            "처리중인 폴드 # 1\n",
            "처리중인 폴드 # 2\n",
            "처리중인 폴드 # 3\n"
          ]
        }
      ]
    },
    {
      "cell_type": "code",
      "source": [
        "average_mae_history = [np.mean([x[i] for x in all_scores]) for i in range(num_epochs)]"
      ],
      "metadata": {
        "id": "D4clp9IZJOXy"
      },
      "execution_count": 49,
      "outputs": []
    },
    {
      "cell_type": "code",
      "source": [
        "plt.plot(range(1, len(average_mae_history)+1), average_mae_history)\n",
        "plt.xlabel('Epochs')\n",
        "plt.ylabel('Validation MAE')"
      ],
      "metadata": {
        "colab": {
          "base_uri": "https://localhost:8080/",
          "height": 296
        },
        "id": "JNVAtSNBRmsn",
        "outputId": "9b6423ff-82be-4dc8-f8d3-abe84284330b"
      },
      "execution_count": 50,
      "outputs": [
        {
          "output_type": "execute_result",
          "data": {
            "text/plain": [
              "Text(0, 0.5, 'Validation MAE')"
            ]
          },
          "metadata": {},
          "execution_count": 50
        },
        {
          "output_type": "display_data",
          "data": {
            "text/plain": [
              "<Figure size 432x288 with 1 Axes>"
            ],
            "image/png": "[encoded data removed]"
          },
          "metadata": {
            "needs_background": "light"
          }
        }
      ]
    },
    {
      "cell_type": "code",
      "source": [],
      "metadata": {
        "id": "9O-QvEWiRnz_"
      },
      "execution_count": null,
      "outputs": []
    }
  ]
}