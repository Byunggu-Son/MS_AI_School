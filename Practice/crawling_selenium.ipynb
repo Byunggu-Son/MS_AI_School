{
 "cells": [
  {
   "cell_type": "code",
   "execution_count": 32,
   "metadata": {},
   "outputs": [
    {
     "data": {
      "text/plain": [
       "('test.jpg', <http.client.HTTPMessage at 0x1a6334d73a0>)"
      ]
     },
     "execution_count": 32,
     "metadata": {},
     "output_type": "execute_result"
    }
   ],
   "source": [
    "from selenium import webdriver\n",
    "from selenium.webdriver.common.keys import Keys\n",
    "import urllib.request\n",
    "import time\n",
    "import urllib.request\n",
    "\n",
    "\n",
    "\n",
    "driver = webdriver.Chrome()\n",
    "driver.get(\"https://www.google.co.kr/imghp?hl=ko&ogbl\")\n",
    "# elem = driver.find_element_by_name(\"q\") 업데이트로 인해 구문 바뀜\n",
    "elem = driver.find_element(\"name\", \"q\")\n",
    "elem.send_keys(\"붕어빵\")\n",
    "# elem.send_keys(Keys.RETURN) 더 간편한 submit()으로 대체\n",
    "elem.submit()\n",
    "\n",
    "driver.find_elements(By.CSS_SELECTOR,\"a.wXeWr.islib.nfEiy\")[0].click()\n",
    "time.sleep(3)\n",
    "# print(driver.find_element(By.CSS_SELECTOR,\".n3VNCb\").get_attribute(\"src\")) # src의 이미지 주소를 찍어봄.\n",
    "imgUrl = driver.find_element(By.CSS_SELECTOR,\".n3VNCb\").get_attribute(\"src\")\n",
    "urllib.request.urlretrieve(imgUrl, \"test.jpg\") # imgUrl을 통해 test용 사진을 저장함."
   ]
  },
  {
   "cell_type": "code",
   "execution_count": null,
   "metadata": {},
   "outputs": [],
   "source": []
  }
 ],
 "metadata": {
  "kernelspec": {
   "display_name": "Python 3.9.12 ('base')",
   "language": "python",
   "name": "python3"
  },
  "language_info": {
   "codemirror_mode": {
    "name": "ipython",
    "version": 3
   },
   "file_extension": ".py",
   "mimetype": "text/x-python",
   "name": "python",
   "nbconvert_exporter": "python",
   "pygments_lexer": "ipython3",
   "version": "3.9.12"
  },
  "orig_nbformat": 4,
  "vscode": {
   "interpreter": {
    "hash": "ad2bdc8ecc057115af97d19610ffacc2b4e99fae6737bb82f5d7fb13d2f2c186"
   }
  }
 },
 "nbformat": 4,
 "nbformat_minor": 2
}
