{
 "cells": [
  {
   "cell_type": "code",
   "execution_count": 4,
   "id": "5d7add99",
   "metadata": {},
   "outputs": [
    {
     "name": "stdout",
     "output_type": "stream",
     "text": [
      "Hello World\n"
     ]
    }
   ],
   "source": [
    "print('Hello World')"
   ]
  },
  {
   "cell_type": "markdown",
   "id": "5d3289d1",
   "metadata": {},
   "source": [
    "# Python의 기초\n",
    "## Python의 기초\n",
    "### Python의 기초"
   ]
  },
  {
   "cell_type": "code",
   "execution_count": 15,
   "id": "14088c87",
   "metadata": {},
   "outputs": [
    {
     "name": "stdout",
     "output_type": "stream",
     "text": [
      "Hello \"안녕하세요\"\n"
     ]
    }
   ],
   "source": [
    "print('Hello \"안녕하세요\"')"
   ]
  },
  {
   "cell_type": "code",
   "execution_count": 14,
   "id": "c69d3bdf",
   "metadata": {},
   "outputs": [
    {
     "name": "stdout",
     "output_type": "stream",
     "text": [
      "Hello '안녕하세요'\n"
     ]
    }
   ],
   "source": [
    "print(\"Hello '안녕하세요'\")"
   ]
  },
  {
   "cell_type": "code",
   "execution_count": 16,
   "id": "e77fc47c",
   "metadata": {},
   "outputs": [
    {
     "name": "stdout",
     "output_type": "stream",
     "text": [
      "안녕 하세요 반값습니다\n"
     ]
    }
   ],
   "source": [
    "print('안녕','하세요','반갑습니다')"
   ]
  },
  {
   "cell_type": "code",
   "execution_count": 18,
   "id": "ad2f3e1c",
   "metadata": {},
   "outputs": [
    {
     "name": "stdout",
     "output_type": "stream",
     "text": [
      "안녕하세요반갑습니다\n"
     ]
    }
   ],
   "source": [
    "print('안녕'+'하세요'+'반갑습니다')"
   ]
  },
  {
   "cell_type": "markdown",
   "id": "0531abcc",
   "metadata": {},
   "source": [
    "\\n 줄바꿈"
   ]
  },
  {
   "cell_type": "code",
   "execution_count": 20,
   "id": "32a53567",
   "metadata": {},
   "outputs": [
    {
     "name": "stdout",
     "output_type": "stream",
     "text": [
      "\n",
      "태양을 향해 서라\n",
      "그리하면 너는 그림자를 볼 수 없을 것이다.\n",
      "\n",
      " -헬렌 켈러\n",
      "\n",
      "\n"
     ]
    }
   ],
   "source": [
    "print(\"\"\"\n",
    "태양을 향해 서라\n",
    "그리하면 너는 그림자를 볼 수 없을 것이다.\n",
    "\n",
    " -헬렌 켈러\n",
    "\n",
    "\"\"\")"
   ]
  },
  {
   "cell_type": "code",
   "execution_count": 23,
   "id": "9908443c",
   "metadata": {},
   "outputs": [
    {
     "name": "stdout",
     "output_type": "stream",
     "text": [
      "Hello \n",
      " nice to meet you ^^\n"
     ]
    }
   ],
   "source": [
    "print('Hello \\n nice to meet you ^^')"
   ]
  },
  {
   "cell_type": "markdown",
   "id": "172fb9e0",
   "metadata": {},
   "source": [
    "★format함수 포매팅"
   ]
  },
  {
   "cell_type": "code",
   "execution_count": 1,
   "id": "ddb930d7",
   "metadata": {},
   "outputs": [
    {
     "name": "stdout",
     "output_type": "stream",
     "text": [
      "a = 123 b=안녕하세요\n"
     ]
    }
   ],
   "source": [
    "a=123\n",
    "b='안녕하세요'\n",
    "\n",
    "print('a = {} b={}'.format(a,b))"
   ]
  },
  {
   "cell_type": "code",
   "execution_count": 3,
   "id": "56ad31b5",
   "metadata": {},
   "outputs": [
    {
     "ename": "SyntaxError",
     "evalue": "invalid syntax (32473270.py, line 1)",
     "output_type": "error",
     "traceback": [
      "\u001b[1;36m  Input \u001b[1;32mIn [3]\u001b[1;36m\u001b[0m\n\u001b[1;33m    print=(f.'a={a} b={b}')\u001b[0m\n\u001b[1;37m             ^\u001b[0m\n\u001b[1;31mSyntaxError\u001b[0m\u001b[1;31m:\u001b[0m invalid syntax\n"
     ]
    }
   ],
   "source": [
    "print=(f'a={a} b={b}') \n",
    "# 이건 잘 안쓰임"
   ]
  },
  {
   "cell_type": "code",
   "execution_count": null,
   "id": "cb1ce5bd",
   "metadata": {},
   "outputs": [],
   "source": []
  },
  {
   "cell_type": "code",
   "execution_count": null,
   "id": "7bbbc711",
   "metadata": {},
   "outputs": [],
   "source": []
  }
 ],
 "metadata": {
  "kernelspec": {
   "display_name": "Python 3 (ipykernel)",
   "language": "python",
   "name": "python3"
  },
  "language_info": {
   "codemirror_mode": {
    "name": "ipython",
    "version": 3
   },
   "file_extension": ".py",
   "mimetype": "text/x-python",
   "name": "python",
   "nbconvert_exporter": "python",
   "pygments_lexer": "ipython3",
   "version": "3.9.12"
  }
 },
 "nbformat": 4,
 "nbformat_minor": 5
}
