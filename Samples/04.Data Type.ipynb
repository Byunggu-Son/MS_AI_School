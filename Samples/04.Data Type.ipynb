{
 "cells": [
  {
   "cell_type": "code",
   "execution_count": 2,
   "id": "7a46f646",
   "metadata": {},
   "outputs": [
    {
     "name": "stdout",
     "output_type": "stream",
     "text": [
      "[1, 2, 3, 4, 5]\n",
      "4\n"
     ]
    }
   ],
   "source": [
    "#List []\n",
    "a_list = [1,2,3,4,5]\n",
    "\n",
    "print(a_list)\n",
    "print(a_list[3])"
   ]
  },
  {
   "cell_type": "code",
   "execution_count": 11,
   "id": "92b8af90",
   "metadata": {},
   "outputs": [
    {
     "name": "stdout",
     "output_type": "stream",
     "text": [
      "[1, 2]\n",
      "[3, 4, 5]\n",
      "[1, 2, 3, 4, 5]\n",
      "[2]\n",
      "[2, 4]\n"
     ]
    }
   ],
   "source": [
    "# 슬라이싱\n",
    "print(a_list[:2])\n",
    "print(a_list[2:])\n",
    "print(a_list[:])\n",
    "print(a_list[1:2:2])\n",
    "# 2개씩증가\n",
    "print(a_list[1::2])"
   ]
  },
  {
   "cell_type": "code",
   "execution_count": 12,
   "id": "235213f9",
   "metadata": {},
   "outputs": [
    {
     "name": "stdout",
     "output_type": "stream",
     "text": [
      "[10, 2, 3, 4, 5]\n"
     ]
    }
   ],
   "source": [
    "b = a_list\n",
    "b[0] = 10\n",
    "print(b)\n",
    "print(a_list)\n",
    "# 주소 자체가 바껴서 a도 바뀜(깊은 복사 deep copy)"
   ]
  },
  {
   "cell_type": "code",
   "execution_count": 17,
   "id": "805762fd",
   "metadata": {},
   "outputs": [
    {
     "name": "stdout",
     "output_type": "stream",
     "text": [
      "[100, 2, 3, 4, 5]\n",
      "[10, 2, 3, 4, 5]\n"
     ]
    }
   ],
   "source": [
    "# 위의 해결방법은 슬라이싱 (얕은 복사), 주소가 아닌 값만 가져오기다\n",
    "b = a_list[:]\n",
    "b[0] = 100\n",
    "print(b)\n",
    "print(a_list)"
   ]
  },
  {
   "cell_type": "code",
   "execution_count": 21,
   "id": "356595a9",
   "metadata": {},
   "outputs": [
    {
     "name": "stdout",
     "output_type": "stream",
     "text": [
      "[1, 2, 3]\n"
     ]
    }
   ],
   "source": [
    "#추가\n",
    "b_list= []\n",
    "b_list.append(1)\n",
    "b_list.append(2)\n",
    "b_list.append(3)\n",
    "\n",
    "print(b_list)"
   ]
  },
  {
   "cell_type": "code",
   "execution_count": 27,
   "id": "6f31bf64",
   "metadata": {},
   "outputs": [
    {
     "name": "stdout",
     "output_type": "stream",
     "text": [
      "[1, 2, 100, 100, 100, 100, 100, 3]\n"
     ]
    }
   ],
   "source": [
    "# 중간에 집어넣기\n",
    "b_list.insert(2,100)\n",
    "print(b_list)"
   ]
  },
  {
   "cell_type": "code",
   "execution_count": 31,
   "id": "a6e05ed6",
   "metadata": {},
   "outputs": [
    {
     "name": "stdout",
     "output_type": "stream",
     "text": [
      "(1, 2, 3, 4, 5)\n"
     ]
    }
   ],
   "source": [
    "#tupple 배열 중에서 제일 빠르고 가벼움. 파이썬에선 디폴트로 쓰는 듯. 한번 만들면 읽기 전용(수정 불가), 내부적으로 사용 많이 됨.\n",
    "a_tuple = (1,2,3,4,5)\n",
    "\n",
    "print(a_tuple)"
   ]
  },
  {
   "cell_type": "code",
   "execution_count": 33,
   "id": "059390b0",
   "metadata": {},
   "outputs": [
    {
     "ename": "TypeError",
     "evalue": "'tuple' object does not support item assignment",
     "output_type": "error",
     "traceback": [
      "\u001b[1;31m---------------------------------------------------------------------------\u001b[0m",
      "\u001b[1;31mTypeError\u001b[0m                                 Traceback (most recent call last)",
      "Input \u001b[1;32mIn [33]\u001b[0m, in \u001b[0;36m<cell line: 1>\u001b[1;34m()\u001b[0m\n\u001b[1;32m----> 1\u001b[0m a_tuple[\u001b[38;5;241m0\u001b[39m] \u001b[38;5;241m=\u001b[39m \u001b[38;5;241m10\u001b[39m\n",
      "\u001b[1;31mTypeError\u001b[0m: 'tuple' object does not support item assignment"
     ]
    }
   ],
   "source": [
    "a_tuple[0] = 10\n",
    "#읽기전용이라 수정 불가"
   ]
  },
  {
   "cell_type": "code",
   "execution_count": 35,
   "id": "4acfd479",
   "metadata": {},
   "outputs": [
    {
     "name": "stdout",
     "output_type": "stream",
     "text": [
      "20 10\n",
      "10 20\n"
     ]
    }
   ],
   "source": [
    "# 값을 바꿔줄 때\n",
    "#보통은\n",
    "a = 10\n",
    "b = 20\n",
    "#일때\n",
    "c = b\n",
    "b = a\n",
    "a = c\n",
    "print(a,b)\n",
    "\n",
    "\n",
    "#이지만 파이썬에서는 이렇게 가능. 좀 더 직관적\n",
    "a, b = b, a\n",
    "print(a, b)"
   ]
  },
  {
   "cell_type": "code",
   "execution_count": 38,
   "id": "d39833a3",
   "metadata": {},
   "outputs": [
    {
     "name": "stdout",
     "output_type": "stream",
     "text": [
      "{1: 'a', 'b': [1, 2, 3], 'c': 3}\n"
     ]
    }
   ],
   "source": [
    "# Dict   {key : value}   JSON에 필요, 정말 많이 사용함.\n",
    "a_dic = {1:'a', 'b':[1,2,3], 'c':3}\n",
    "print(a_dic)\n"
   ]
  },
  {
   "cell_type": "code",
   "execution_count": 45,
   "id": "1347c03f",
   "metadata": {},
   "outputs": [
    {
     "name": "stdout",
     "output_type": "stream",
     "text": [
      "a\n",
      "4\n",
      "3\n"
     ]
    }
   ],
   "source": [
    "print(a_dic[1])\n",
    "print(a_dic['b'])\n",
    "print(a_dic['c'])"
   ]
  },
  {
   "cell_type": "code",
   "execution_count": 46,
   "id": "b8aaddb2",
   "metadata": {},
   "outputs": [
    {
     "name": "stdout",
     "output_type": "stream",
     "text": [
      "{1: 'a', 'b': 4, 'c': 3, 'd': 'Microsoft AI School'}\n"
     ]
    }
   ],
   "source": [
    "# 추가하기\n",
    "a_dic['d'] = 'Microsoft AI School'\n",
    "print(a_dic)"
   ]
  },
  {
   "cell_type": "markdown",
   "id": "d1a62419",
   "metadata": {},
   "source": [
    "## Set 합,교,차집합"
   ]
  },
  {
   "cell_type": "code",
   "execution_count": 48,
   "id": "d6001bcd",
   "metadata": {},
   "outputs": [
    {
     "name": "stdout",
     "output_type": "stream",
     "text": [
      "{1, 2, 3}\n",
      "<class 'set'>\n"
     ]
    }
   ],
   "source": [
    "a_set = {1,2,3}\n",
    "print(a_set)\n",
    "print(type(a_set))"
   ]
  },
  {
   "cell_type": "code",
   "execution_count": 49,
   "id": "1e81fede",
   "metadata": {},
   "outputs": [],
   "source": [
    "b_set = {3,4,5}"
   ]
  },
  {
   "cell_type": "code",
   "execution_count": 55,
   "id": "b36d988f",
   "metadata": {},
   "outputs": [
    {
     "data": {
      "text/plain": [
       "{1, 2, 3, 4, 5}"
      ]
     },
     "execution_count": 55,
     "metadata": {},
     "output_type": "execute_result"
    }
   ],
   "source": [
    "# 합집합\n",
    "a_set.union(b_set)\n"
   ]
  },
  {
   "cell_type": "code",
   "execution_count": 56,
   "id": "0d1b6f53",
   "metadata": {},
   "outputs": [
    {
     "data": {
      "text/plain": [
       "{1, 2, 3, 4, 5}"
      ]
     },
     "execution_count": 56,
     "metadata": {},
     "output_type": "execute_result"
    }
   ],
   "source": [
    "a_set | b_set"
   ]
  },
  {
   "cell_type": "code",
   "execution_count": 53,
   "id": "f6037b58",
   "metadata": {},
   "outputs": [
    {
     "data": {
      "text/plain": [
       "{3}"
      ]
     },
     "execution_count": 53,
     "metadata": {},
     "output_type": "execute_result"
    }
   ],
   "source": [
    "# 교집합\n",
    "a_set.intersection(b_set)"
   ]
  },
  {
   "cell_type": "code",
   "execution_count": 57,
   "id": "e9b67ba3",
   "metadata": {},
   "outputs": [
    {
     "data": {
      "text/plain": [
       "{3}"
      ]
     },
     "execution_count": 57,
     "metadata": {},
     "output_type": "execute_result"
    }
   ],
   "source": [
    "a_set & b_set"
   ]
  },
  {
   "cell_type": "code",
   "execution_count": 54,
   "id": "4d6ef3d4",
   "metadata": {},
   "outputs": [
    {
     "data": {
      "text/plain": [
       "{1, 2}"
      ]
     },
     "execution_count": 54,
     "metadata": {},
     "output_type": "execute_result"
    }
   ],
   "source": [
    "# 차집합\n",
    "a_set - b_set"
   ]
  },
  {
   "cell_type": "code",
   "execution_count": 58,
   "id": "fc9ac0ab",
   "metadata": {},
   "outputs": [
    {
     "name": "stdout",
     "output_type": "stream",
     "text": [
      "<class 'set'>\n"
     ]
    }
   ],
   "source": [
    "# 부록\n",
    "a = set((1,2,3,4))\n",
    "print(type(a)) #set로 변수를 감싸면 set으로 됨."
   ]
  },
  {
   "cell_type": "code",
   "execution_count": 59,
   "id": "54790482",
   "metadata": {},
   "outputs": [
    {
     "name": "stdout",
     "output_type": "stream",
     "text": [
      "<class 'list'>\n"
     ]
    }
   ],
   "source": [
    "b = list(a)\n",
    "print(type(b))"
   ]
  },
  {
   "cell_type": "code",
   "execution_count": 60,
   "id": "0da042ac",
   "metadata": {},
   "outputs": [
    {
     "name": "stdout",
     "output_type": "stream",
     "text": [
      "<class 'tuple'>\n"
     ]
    }
   ],
   "source": [
    "c = tuple(b)\n",
    "print(type(c))"
   ]
  },
  {
   "cell_type": "code",
   "execution_count": null,
   "id": "25989043",
   "metadata": {},
   "outputs": [],
   "source": []
  }
 ],
 "metadata": {
  "kernelspec": {
   "display_name": "Python 3 (ipykernel)",
   "language": "python",
   "name": "python3"
  },
  "language_info": {
   "codemirror_mode": {
    "name": "ipython",
    "version": 3
   },
   "file_extension": ".py",
   "mimetype": "text/x-python",
   "name": "python",
   "nbconvert_exporter": "python",
   "pygments_lexer": "ipython3",
   "version": "3.9.12"
  }
 },
 "nbformat": 4,
 "nbformat_minor": 5
}
