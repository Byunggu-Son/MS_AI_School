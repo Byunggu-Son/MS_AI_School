{
 "cells": [
  {
   "cell_type": "code",
   "execution_count": null,
   "id": "41441a81",
   "metadata": {},
   "outputs": [],
   "source": [
    "#코드가 파이프로 연결되어 있어서 어느 출력장치에 연결되느냐에 따라 \n",
    "# TV, 프린트기, 오디오 등등\n"
   ]
  },
  {
   "cell_type": "code",
   "execution_count": 10,
   "id": "5c3255b5",
   "metadata": {},
   "outputs": [],
   "source": [
    "import sys #시스템"
   ]
  },
  {
   "cell_type": "code",
   "execution_count": 4,
   "id": "63822b96",
   "metadata": {},
   "outputs": [
    {
     "name": "stderr",
     "output_type": "stream",
     "text": [
      "Welcome to  Python\n"
     ]
    }
   ],
   "source": [
    "print('Welcome to', ' Python', file=sys.stderr) #에러 발생시킴."
   ]
  },
  {
   "cell_type": "code",
   "execution_count": 7,
   "id": "2bf59496",
   "metadata": {},
   "outputs": [],
   "source": [
    "f = open('test.txt','w') #w : 쓰기모드이고, 이 파일은 실제 없지만 실행하는 순간 생성됨"
   ]
  },
  {
   "cell_type": "code",
   "execution_count": 9,
   "id": "320266f1",
   "metadata": {},
   "outputs": [],
   "source": [
    "print('file write', file=f) # 해당 문구에 대한 출력을 f에\n",
    "f.close() # 닫아주는 거 꼭 잊지말기\n",
    "# file들어가는 건 유닉스때부터 모든 입,출력은 전부 file로 간주했기 때문에.(TV, 키보드, 모니터, 프린터도 file로 봄)"
   ]
  },
  {
   "cell_type": "markdown",
   "id": "5dd1e59a",
   "metadata": {},
   "source": [
    "## File IO\n",
    "file 입출력을 다루다 보면 print를 사용할 수도 있지만, open을 사용하는게 좋다."
   ]
  },
  {
   "cell_type": "code",
   "execution_count": 12,
   "id": "8331f20c",
   "metadata": {},
   "outputs": [],
   "source": [
    "f = open('test.txt','w')\n",
    "f.write('plow depp\\nwhile sluggards sleep')\n",
    "f.close()"
   ]
  },
  {
   "cell_type": "code",
   "execution_count": 16,
   "id": "a916500a",
   "metadata": {},
   "outputs": [],
   "source": [
    "f = open('test.txt','r')\n",
    "f.read()\n",
    "f.close() # 읽었으면 항상 close해준다고 생각하기"
   ]
  },
  {
   "cell_type": "code",
   "execution_count": null,
   "id": "ec9d2e7b",
   "metadata": {},
   "outputs": [],
   "source": []
  }
 ],
 "metadata": {
  "kernelspec": {
   "display_name": "Python 3 (ipykernel)",
   "language": "python",
   "name": "python3"
  },
  "language_info": {
   "codemirror_mode": {
    "name": "ipython",
    "version": 3
   },
   "file_extension": ".py",
   "mimetype": "text/x-python",
   "name": "python",
   "nbconvert_exporter": "python",
   "pygments_lexer": "ipython3",
   "version": "3.9.12"
  }
 },
 "nbformat": 4,
 "nbformat_minor": 5
}
