{
 "cells": [
  {
   "cell_type": "code",
   "execution_count": 5,
   "id": "2cf97dd7",
   "metadata": {},
   "outputs": [],
   "source": [
    "def ReturnName():\n",
    "    print('My name is IU')\n",
    "#     return('My name is IU')"
   ]
  },
  {
   "cell_type": "code",
   "execution_count": 6,
   "id": "826d60d4",
   "metadata": {},
   "outputs": [
    {
     "name": "stdout",
     "output_type": "stream",
     "text": [
      "My name is IU\n"
     ]
    }
   ],
   "source": [
    "ReturnName()"
   ]
  },
  {
   "cell_type": "code",
   "execution_count": 12,
   "id": "c196613e",
   "metadata": {},
   "outputs": [],
   "source": [
    "def ReturnName2(name):\n",
    "    print('My name is {}'.format(name))"
   ]
  },
  {
   "cell_type": "code",
   "execution_count": 15,
   "id": "b850f523",
   "metadata": {},
   "outputs": [
    {
     "name": "stdout",
     "output_type": "stream",
     "text": [
      "My name is 레드벨벳\n"
     ]
    }
   ],
   "source": [
    "ReturnName2('레드벨벳')"
   ]
  },
  {
   "cell_type": "code",
   "execution_count": 18,
   "id": "93afb542",
   "metadata": {},
   "outputs": [],
   "source": [
    "# 2개의 파라미터를 통해서 곱셈해보기\n",
    "def calc(a, b):\n",
    "    c = a * b\n",
    "    \n",
    "    return c"
   ]
  },
  {
   "cell_type": "code",
   "execution_count": 20,
   "id": "1cf709df",
   "metadata": {},
   "outputs": [
    {
     "data": {
      "text/plain": [
       "200"
      ]
     },
     "execution_count": 20,
     "metadata": {},
     "output_type": "execute_result"
    }
   ],
   "source": [
    "calc(10,20) "
   ]
  },
  {
   "cell_type": "code",
   "execution_count": 22,
   "id": "953da343",
   "metadata": {},
   "outputs": [
    {
     "data": {
      "text/plain": [
       "20000"
      ]
     },
     "execution_count": 22,
     "metadata": {},
     "output_type": "execute_result"
    }
   ],
   "source": [
    "#값이 리턴되는 거니깐 리턴되는 값에다가도 계산가능\n",
    "calc(10,20) * 100"
   ]
  },
  {
   "cell_type": "code",
   "execution_count": 23,
   "id": "c567600e",
   "metadata": {},
   "outputs": [
    {
     "data": {
      "text/plain": [
       "<function __main__.calc(a, b)>"
      ]
     },
     "execution_count": 23,
     "metadata": {},
     "output_type": "execute_result"
    }
   ],
   "source": [
    "calc"
   ]
  },
  {
   "cell_type": "code",
   "execution_count": 24,
   "id": "a64c25da",
   "metadata": {},
   "outputs": [
    {
     "data": {
      "text/plain": [
       "2336003854400"
      ]
     },
     "execution_count": 24,
     "metadata": {},
     "output_type": "execute_result"
    }
   ],
   "source": [
    "# 메모리를 확인할 때는 id를 씀(ex) 함수 오류나서 같은 함수는 뭐가 있나 했을때, 디버깅 시 아주 가끔 사용\n",
    "id(calc)"
   ]
  },
  {
   "cell_type": "code",
   "execution_count": null,
   "id": "a35f3bea",
   "metadata": {},
   "outputs": [],
   "source": []
  }
 ],
 "metadata": {
  "kernelspec": {
   "display_name": "Python 3 (ipykernel)",
   "language": "python",
   "name": "python3"
  },
  "language_info": {
   "codemirror_mode": {
    "name": "ipython",
    "version": 3
   },
   "file_extension": ".py",
   "mimetype": "text/x-python",
   "name": "python",
   "nbconvert_exporter": "python",
   "pygments_lexer": "ipython3",
   "version": "3.9.12"
  }
 },
 "nbformat": 4,
 "nbformat_minor": 5
}
