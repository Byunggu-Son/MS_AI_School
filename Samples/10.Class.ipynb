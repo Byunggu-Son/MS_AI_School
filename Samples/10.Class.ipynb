{
 "cells": [
  {
   "cell_type": "code",
   "execution_count": 55,
   "id": "2dc1e821",
   "metadata": {},
   "outputs": [],
   "source": [
    "# 클래스는 설계도면\n",
    "# 인스턴스는 설계도면으로 만든 객체\n",
    "class MyClass:\n",
    "    pass # 빈 클래스를 만들어 굳이 내용을 구현하지 않을때 pass를 써줌."
   ]
  },
  {
   "cell_type": "code",
   "execution_count": 56,
   "id": "e33da45d",
   "metadata": {},
   "outputs": [
    {
     "data": {
      "text/plain": [
       "__main__.MyClass"
      ]
     },
     "execution_count": 56,
     "metadata": {},
     "output_type": "execute_result"
    }
   ],
   "source": [
    "MyClass"
   ]
  },
  {
   "cell_type": "code",
   "execution_count": 57,
   "id": "eb72a2b8",
   "metadata": {},
   "outputs": [
    {
     "data": {
      "text/plain": [
       "type"
      ]
     },
     "execution_count": 57,
     "metadata": {},
     "output_type": "execute_result"
    }
   ],
   "source": [
    "type(MyClass) #안에 애를 특정할 수 있는게 없기 때문에 그냥 type으로 나옴"
   ]
  },
  {
   "cell_type": "markdown",
   "id": "4a6e7907",
   "metadata": {},
   "source": [
    "OOP 객체지향"
   ]
  },
  {
   "cell_type": "code",
   "execution_count": 58,
   "id": "7b2106fd",
   "metadata": {},
   "outputs": [],
   "source": [
    "class Person:\n",
    "    Name = 'Default Name' #속성 perperty\n",
    "    \n",
    "    #뭔가 동작을 시키려한다면 함수를 만들어주자\n",
    "    def Print(self): #안에 self라는게 들어가야함.\n",
    "        print('My name is {0}'.format(self.Name)) #Person 안에 있는 것들을 self라고 함.\n",
    "\n",
    "#여기까지가 사람을 만드는 설계도면이라고 생각"
   ]
  },
  {
   "cell_type": "code",
   "execution_count": 59,
   "id": "dc455c1d",
   "metadata": {},
   "outputs": [],
   "source": [
    "son = Person()"
   ]
  },
  {
   "cell_type": "code",
   "execution_count": 60,
   "id": "73364c00",
   "metadata": {},
   "outputs": [
    {
     "name": "stdout",
     "output_type": "stream",
     "text": [
      "My name is Default Name\n"
     ]
    }
   ],
   "source": [
    "son.Print()"
   ]
  },
  {
   "cell_type": "code",
   "execution_count": 28,
   "id": "24709bb5",
   "metadata": {},
   "outputs": [
    {
     "name": "stdout",
     "output_type": "stream",
     "text": [
      "My name is 손흥민\n"
     ]
    }
   ],
   "source": [
    "son.Name = '손흥민'\n",
    "son.Print()"
   ]
  },
  {
   "cell_type": "code",
   "execution_count": 30,
   "id": "57f0bd94",
   "metadata": {},
   "outputs": [],
   "source": [
    "p1 = Person()\n",
    "p2 = Person()"
   ]
  },
  {
   "cell_type": "code",
   "execution_count": 31,
   "id": "451cf4d8",
   "metadata": {},
   "outputs": [],
   "source": [
    "p1.Name = '박보검'\n",
    "p2.Name = '민아'"
   ]
  },
  {
   "cell_type": "code",
   "execution_count": 34,
   "id": "fcdadbe8",
   "metadata": {},
   "outputs": [
    {
     "name": "stdout",
     "output_type": "stream",
     "text": [
      "박보검\n"
     ]
    }
   ],
   "source": [
    "print(p1.Name)"
   ]
  },
  {
   "cell_type": "code",
   "execution_count": 35,
   "id": "91654995",
   "metadata": {},
   "outputs": [],
   "source": [
    "# instance  위의 경우에는 son , p1, p2이다. 뭐로 만들었는지 확인해야될 사항이다.\n",
    "\n",
    "Person.title = 'New title' # 현재 Person이 가지고 있지 않은 속성인데도 추가가 된다."
   ]
  },
  {
   "cell_type": "code",
   "execution_count": 37,
   "id": "d0b9b7bc",
   "metadata": {},
   "outputs": [
    {
     "data": {
      "text/plain": [
       "'New title'"
      ]
     },
     "execution_count": 37,
     "metadata": {},
     "output_type": "execute_result"
    }
   ],
   "source": [
    "p1.title"
   ]
  },
  {
   "cell_type": "code",
   "execution_count": 40,
   "id": "e7cf6bf6",
   "metadata": {},
   "outputs": [],
   "source": [
    "# 추가한 속성이 인스턴스에서도 작동하는지 확인\n",
    "p1.age = 20"
   ]
  },
  {
   "cell_type": "code",
   "execution_count": 41,
   "id": "8b58d191",
   "metadata": {},
   "outputs": [
    {
     "data": {
      "text/plain": [
       "20"
      ]
     },
     "execution_count": 41,
     "metadata": {},
     "output_type": "execute_result"
    }
   ],
   "source": [
    "p1.age"
   ]
  },
  {
   "cell_type": "code",
   "execution_count": 42,
   "id": "ee11dd3e",
   "metadata": {},
   "outputs": [
    {
     "ename": "AttributeError",
     "evalue": "type object 'Person' has no attribute 'age'",
     "output_type": "error",
     "traceback": [
      "\u001b[1;31m---------------------------------------------------------------------------\u001b[0m",
      "\u001b[1;31mAttributeError\u001b[0m                            Traceback (most recent call last)",
      "Input \u001b[1;32mIn [42]\u001b[0m, in \u001b[0;36m<cell line: 2>\u001b[1;34m()\u001b[0m\n\u001b[0;32m      1\u001b[0m \u001b[38;5;66;03m# 하지만 인스턴스에만 전파되는거지 클래스에는 X\u001b[39;00m\n\u001b[1;32m----> 2\u001b[0m \u001b[43mPerson\u001b[49m\u001b[38;5;241;43m.\u001b[39;49m\u001b[43mage\u001b[49m\n",
      "\u001b[1;31mAttributeError\u001b[0m: type object 'Person' has no attribute 'age'"
     ]
    }
   ],
   "source": [
    "# 하지만 해당 인스턴스만 전파되는거지 클래스에는 X. 인스턴스에만 주는건 가급적 지양\n",
    "Person.age"
   ]
  },
  {
   "cell_type": "code",
   "execution_count": 44,
   "id": "e72eb138",
   "metadata": {},
   "outputs": [
    {
     "ename": "AttributeError",
     "evalue": "'Person' object has no attribute 'age'",
     "output_type": "error",
     "traceback": [
      "\u001b[1;31m---------------------------------------------------------------------------\u001b[0m",
      "\u001b[1;31mAttributeError\u001b[0m                            Traceback (most recent call last)",
      "Input \u001b[1;32mIn [44]\u001b[0m, in \u001b[0;36m<cell line: 2>\u001b[1;34m()\u001b[0m\n\u001b[0;32m      1\u001b[0m \u001b[38;5;66;03m# 전체에 영향을 준게 아니라서 다른 인스턴스에도 반영안됨\u001b[39;00m\n\u001b[1;32m----> 2\u001b[0m \u001b[43mp2\u001b[49m\u001b[38;5;241;43m.\u001b[39;49m\u001b[43mage\u001b[49m\n",
      "\u001b[1;31mAttributeError\u001b[0m: 'Person' object has no attribute 'age'"
     ]
    }
   ],
   "source": [
    "# 전체에 영향을 준게 아니라서 다른 인스턴스에도 반영안됨\n",
    "p2.age\n",
    "\n",
    "#고로 클래스에 바꿔서 전체 영향주는게 아니라 인스턴스 하나에다가 추가는 하지 말자"
   ]
  },
  {
   "cell_type": "markdown",
   "id": "38030a0d",
   "metadata": {},
   "source": [
    "# 클래스의 상속\n",
    "원클래스로 부터 바리에이션?"
   ]
  },
  {
   "cell_type": "code",
   "execution_count": 45,
   "id": "430d5028",
   "metadata": {},
   "outputs": [],
   "source": [
    "class Person:\n",
    "    pass"
   ]
  },
  {
   "cell_type": "code",
   "execution_count": 46,
   "id": "1be72330",
   "metadata": {},
   "outputs": [],
   "source": [
    "class Bird:\n",
    "    pass"
   ]
  },
  {
   "cell_type": "code",
   "execution_count": 48,
   "id": "008fc96b",
   "metadata": {},
   "outputs": [],
   "source": [
    "class Student(Person): # Student클래스는 Person에서 상속받은 것이다.\n",
    "        pass"
   ]
  },
  {
   "cell_type": "code",
   "execution_count": 49,
   "id": "34a013f2",
   "metadata": {},
   "outputs": [],
   "source": [
    "p = Person()\n",
    "s = Student()"
   ]
  },
  {
   "cell_type": "code",
   "execution_count": 53,
   "id": "c2732db3",
   "metadata": {},
   "outputs": [
    {
     "data": {
      "text/plain": [
       "True"
      ]
     },
     "execution_count": 53,
     "metadata": {},
     "output_type": "execute_result"
    }
   ],
   "source": [
    "isinstance(p, Person) #뒤의 클래스에서 나온 인스턴스가 맞는지"
   ]
  },
  {
   "cell_type": "code",
   "execution_count": 54,
   "id": "c198f262",
   "metadata": {},
   "outputs": [
    {
     "data": {
      "text/plain": [
       "True"
      ]
     },
     "execution_count": 54,
     "metadata": {},
     "output_type": "execute_result"
    }
   ],
   "source": [
    "isinstance(s, Person) # 상속받아 나온 인스턴스도 결과는 맞다고 나옴. 호환됨"
   ]
  },
  {
   "cell_type": "code",
   "execution_count": 55,
   "id": "cc442fa8",
   "metadata": {},
   "outputs": [
    {
     "data": {
      "text/plain": [
       "True"
      ]
     },
     "execution_count": 55,
     "metadata": {},
     "output_type": "execute_result"
    }
   ],
   "source": [
    "isinstance(s, object) # 파이썬은 object에서부터 시작되었기때문에 object최후의 보루로. 호환됨"
   ]
  },
  {
   "cell_type": "code",
   "execution_count": 56,
   "id": "1fb8c85a",
   "metadata": {},
   "outputs": [
    {
     "data": {
      "text/plain": [
       "False"
      ]
     },
     "execution_count": 56,
     "metadata": {},
     "output_type": "execute_result"
    }
   ],
   "source": [
    "isinstance(p, Bird)"
   ]
  },
  {
   "cell_type": "code",
   "execution_count": 75,
   "id": "9e4ad14f",
   "metadata": {},
   "outputs": [],
   "source": [
    "# 생성자, 소멸자 (클래스가 시작(없어질)될때 먼가 동작을 주고 싶을때)\n",
    "# 어떤 메소드를 만들 때 생성되는 것: 생성자\n",
    "# 어떤 메소드가 사라질 때 생성되는 것 : 소멸자\n",
    "\n",
    "class MyClass:\n",
    "    #생성자, 생성자는 이름이 딱 정해져있음.\n",
    "    def __init__(self,value): #value는 변수이기에 다른 이름으로 변경 가능. 클래스 만들어질때 생성자가 처음 동작함\n",
    "        self.Value = value\n",
    "        print('Class is created! Value =  ', value)\n",
    "        \n",
    "        \n",
    "    def __del__(self): #소멸자도 이름 정해져있고, 파라미터 쓸 수 없다. \n",
    "        print('Class is deleted')\n",
    "        "
   ]
  },
  {
   "cell_type": "code",
   "execution_count": 76,
   "id": "e2643a53",
   "metadata": {},
   "outputs": [
    {
     "name": "stdout",
     "output_type": "stream",
     "text": [
      "Class is created! Value =   10\n"
     ]
    }
   ],
   "source": [
    "m = MyClass(10)"
   ]
  },
  {
   "cell_type": "code",
   "execution_count": 77,
   "id": "d1cf8681",
   "metadata": {},
   "outputs": [
    {
     "name": "stdout",
     "output_type": "stream",
     "text": [
      "Class is deleted\n"
     ]
    }
   ],
   "source": [
    "del m # del하고 object하면 아예 지워버림"
   ]
  },
  {
   "cell_type": "markdown",
   "id": "ba33427e",
   "metadata": {},
   "source": [
    "# 정적 메소드"
   ]
  },
  {
   "cell_type": "code",
   "execution_count": 14,
   "id": "e045e47e",
   "metadata": {},
   "outputs": [],
   "source": [
    "class CounterManager:\n",
    "    insCount=0 #인스턴스 개수 몇 개인지 세어보기 위해 함수 만들어보자\n",
    "    \n",
    "    def __init__(self):\n",
    "        CounterManager.insCount +=1\n",
    "        \n",
    "    def printInstanceCount():\n",
    "        print('Instance Count : ' , CounterManager.insCount)\n",
    "        "
   ]
  },
  {
   "cell_type": "code",
   "execution_count": 16,
   "id": "8cb7724e",
   "metadata": {},
   "outputs": [],
   "source": [
    "# a = CounterManager()\n",
    "# b= CounterManager()\n",
    "# c= CounterManager()\n",
    "# #파이썬쓰는 사람들은 이렇게 안쓰고 밑에 방식으로 쓴다\n",
    "\n",
    "\n",
    "a, b, c = CounterManager(), CounterManager(), CounterManager()"
   ]
  },
  {
   "cell_type": "code",
   "execution_count": 17,
   "id": "6e8c212d",
   "metadata": {},
   "outputs": [
    {
     "name": "stdout",
     "output_type": "stream",
     "text": [
      "Instance Count :  3\n"
     ]
    }
   ],
   "source": [
    "CounterManager.printInstanceCount()"
   ]
  },
  {
   "cell_type": "markdown",
   "id": "00d3704d",
   "metadata": {},
   "source": [
    "# 상속의 확장"
   ]
  },
  {
   "cell_type": "code",
   "execution_count": 44,
   "id": "409fd247",
   "metadata": {},
   "outputs": [],
   "source": [
    "class Person:\n",
    "    def __init__(self, name, phone): #클래스에 들어가는 메소드에는 무조건 self가 들어간다고 생각!\n",
    "        self.Name = name\n",
    "        self.Phone = phone\n",
    "    def PrintInfo(self):\n",
    "        print('Info(Name: {0}, Phone: {1})'.format(self.Name, self.Phone))\n",
    "        \n",
    "    def PrintPersonData(self):\n",
    "        print('Person(Name: {0}, Phone: {1})'.format(self.Name, self.Phone))"
   ]
  },
  {
   "cell_type": "code",
   "execution_count": 51,
   "id": "f5cc9292",
   "metadata": {},
   "outputs": [],
   "source": [
    "class Student(Person): #Student 클래스는 Person을 상속받아서 만들기로 하자\n",
    "    def __init__(self, name, phone, subject, studentID):\n",
    "        self.Name = name\n",
    "        self.Phone = phone\n",
    "        self.Subject = subject\n",
    "        self.StudentID = studentID\n"
   ]
  },
  {
   "cell_type": "code",
   "execution_count": 45,
   "id": "4ec584b1",
   "metadata": {},
   "outputs": [],
   "source": [
    "p = Person('IU', '010-0000-0000')\n",
    "s = Student('MinA','010-1111-2222','Computer Science','000000')"
   ]
  },
  {
   "cell_type": "code",
   "execution_count": 46,
   "id": "54cbbe0d",
   "metadata": {},
   "outputs": [
    {
     "data": {
      "text/plain": [
       "<__main__.Person at 0x264921aa850>"
      ]
     },
     "execution_count": 46,
     "metadata": {},
     "output_type": "execute_result"
    }
   ],
   "source": [
    "p"
   ]
  },
  {
   "cell_type": "code",
   "execution_count": 47,
   "id": "dd1d8463",
   "metadata": {},
   "outputs": [
    {
     "data": {
      "text/plain": [
       "{'Name': 'IU', 'Phone': '010-0000-0000'}"
      ]
     },
     "execution_count": 47,
     "metadata": {},
     "output_type": "execute_result"
    }
   ],
   "source": [
    "p.__dict__ # 딕셔너리 형태로 저장되기에 .__dict__로 속성을 확인할 수 있다."
   ]
  },
  {
   "cell_type": "code",
   "execution_count": 48,
   "id": "d466a012",
   "metadata": {},
   "outputs": [
    {
     "data": {
      "text/plain": [
       "{'Name': 'MinA',\n",
       " 'Phone': '010-1111-2222',\n",
       " 'Subject': 'Computer Science',\n",
       " 'StudentID': '000000'}"
      ]
     },
     "execution_count": 48,
     "metadata": {},
     "output_type": "execute_result"
    }
   ],
   "source": [
    "s.__dict__"
   ]
  },
  {
   "cell_type": "code",
   "execution_count": 49,
   "id": "885354b7",
   "metadata": {},
   "outputs": [
    {
     "name": "stdout",
     "output_type": "stream",
     "text": [
      "Info(Name: IU, Phone: 010-0000-0000)\n"
     ]
    }
   ],
   "source": [
    "p.PrintInfo()"
   ]
  },
  {
   "cell_type": "code",
   "execution_count": 50,
   "id": "17ae9363",
   "metadata": {},
   "outputs": [
    {
     "name": "stdout",
     "output_type": "stream",
     "text": [
      "Info(Name: MinA, Phone: 010-1111-2222)\n"
     ]
    }
   ],
   "source": [
    "s.PrintInfo()"
   ]
  },
  {
   "cell_type": "code",
   "execution_count": 32,
   "id": "08363db3",
   "metadata": {},
   "outputs": [],
   "source": [
    "# 상속받은애는 상속받은거만 쓸수 있냐하면\n",
    "#상속 해준 클래스 꺼를 오버라이트하거나\n",
    "#혹은 메소드 추가"
   ]
  },
  {
   "cell_type": "code",
   "execution_count": 53,
   "id": "6318a413",
   "metadata": {},
   "outputs": [],
   "source": [
    "class Student(Person):\n",
    "    \n",
    "    def __init__(self, name, phone, subject, studentID):\n",
    "        self.Name = name\n",
    "        self.Phone = phone\n",
    "        self.Subject = subject\n",
    "        self.StudentID = studentID\n",
    "        \n",
    "    def PrintStudentID(self):\n",
    "        print(self.StudentID)"
   ]
  },
  {
   "cell_type": "code",
   "execution_count": 54,
   "id": "1e65971d",
   "metadata": {},
   "outputs": [
    {
     "name": "stdout",
     "output_type": "stream",
     "text": [
      "000000\n"
     ]
    }
   ],
   "source": [
    "s.PrintStudentID()"
   ]
  },
  {
   "cell_type": "code",
   "execution_count": 130,
   "id": "188dbdaf",
   "metadata": {},
   "outputs": [],
   "source": [
    "#상속 관계의 확인"
   ]
  },
  {
   "cell_type": "code",
   "execution_count": 131,
   "id": "60e9797e",
   "metadata": {},
   "outputs": [
    {
     "data": {
      "text/plain": [
       "True"
      ]
     },
     "execution_count": 131,
     "metadata": {},
     "output_type": "execute_result"
    }
   ],
   "source": [
    "issubclass(Student, Person)"
   ]
  },
  {
   "cell_type": "code",
   "execution_count": 132,
   "id": "1f19bc9a",
   "metadata": {},
   "outputs": [
    {
     "data": {
      "text/plain": [
       "False"
      ]
     },
     "execution_count": 132,
     "metadata": {},
     "output_type": "execute_result"
    }
   ],
   "source": [
    "issubclass(Person, Student)"
   ]
  },
  {
   "cell_type": "code",
   "execution_count": 141,
   "id": "c090205a",
   "metadata": {},
   "outputs": [],
   "source": [
    "# 다중 상속   (이건 C#과 파이썬만 남아있는 듯)\n",
    "# 실제로 작업할 때는 꼬이기에 가급적이면 안하는게 좋다고 함.\n",
    "\n",
    "class Tiger:\n",
    "    def Jump(self):\n",
    "        print('Tiger Jump!!')"
   ]
  },
  {
   "cell_type": "code",
   "execution_count": 142,
   "id": "ef975553",
   "metadata": {},
   "outputs": [],
   "source": [
    "class Lion:\n",
    "    def Bite(self):\n",
    "        print('Lion Bite!!')"
   ]
  },
  {
   "cell_type": "code",
   "execution_count": 143,
   "id": "c364e87a",
   "metadata": {},
   "outputs": [],
   "source": [
    "class Liger(Tiger, Lion):\n",
    "    def Play(self):\n",
    "        print('Liger player')"
   ]
  },
  {
   "cell_type": "code",
   "execution_count": 146,
   "id": "c354fa9e",
   "metadata": {},
   "outputs": [],
   "source": [
    "l = Liger()"
   ]
  },
  {
   "cell_type": "code",
   "execution_count": 147,
   "id": "5a22f606",
   "metadata": {},
   "outputs": [
    {
     "name": "stdout",
     "output_type": "stream",
     "text": [
      "Liger player\n"
     ]
    }
   ],
   "source": [
    "l.Play()"
   ]
  },
  {
   "cell_type": "code",
   "execution_count": 148,
   "id": "1065df8a",
   "metadata": {},
   "outputs": [
    {
     "name": "stdout",
     "output_type": "stream",
     "text": [
      "Lion Bite!!\n"
     ]
    }
   ],
   "source": [
    "l.Bite()"
   ]
  },
  {
   "cell_type": "code",
   "execution_count": 149,
   "id": "5c09f4f9",
   "metadata": {},
   "outputs": [
    {
     "name": "stdout",
     "output_type": "stream",
     "text": [
      "Tiger Jump!!\n"
     ]
    }
   ],
   "source": [
    "l.Jump()"
   ]
  },
  {
   "cell_type": "code",
   "execution_count": 150,
   "id": "d138960a",
   "metadata": {},
   "outputs": [],
   "source": [
    "# 족보가 꼬이기 때문에 엥간하면 안쓰기로 한다.\n",
    "# 정말 꼭 필요할 때만 물어보고 쓰자."
   ]
  },
  {
   "cell_type": "code",
   "execution_count": null,
   "id": "554e8f35",
   "metadata": {},
   "outputs": [],
   "source": []
  },
  {
   "cell_type": "code",
   "execution_count": null,
   "id": "e668db22",
   "metadata": {},
   "outputs": [],
   "source": []
  },
  {
   "cell_type": "code",
   "execution_count": null,
   "id": "194a47a6",
   "metadata": {},
   "outputs": [],
   "source": []
  }
 ],
 "metadata": {
  "kernelspec": {
   "display_name": "Python 3 (ipykernel)",
   "language": "python",
   "name": "python3"
  },
  "language_info": {
   "codemirror_mode": {
    "name": "ipython",
    "version": 3
   },
   "file_extension": ".py",
   "mimetype": "text/x-python",
   "name": "python",
   "nbconvert_exporter": "python",
   "pygments_lexer": "ipython3",
   "version": "3.9.12"
  }
 },
 "nbformat": 4,
 "nbformat_minor": 5
}
