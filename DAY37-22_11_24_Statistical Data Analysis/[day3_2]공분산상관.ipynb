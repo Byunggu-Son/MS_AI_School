{
 "cells": [
  {
   "cell_type": "markdown",
   "id": "9721f31f",
   "metadata": {},
   "source": [
    "## 공분산과 상관계수"
   ]
  },
  {
   "cell_type": "markdown",
   "id": "afedc27e",
   "metadata": {},
   "source": [
    "## 표본공분산(Sample covariance)\n",
    "\n",
    "$${s_{xy}}=\\frac{1}{N}\\Sigma({x_i}-\\hat{x})({y_i}-\\hat{y})$$"
   ]
  },
  {
   "cell_type": "markdown",
   "id": "5b0553de",
   "metadata": {},
   "source": [
    "## 표본상관계수(Sample correlation coefficient)\n",
    "\n",
    "공분산에 각각의 표준편차 값으로 나눈 값   \n",
    "각각의 표준편차를 나눠 주는 이유 자료 분포의 방향성만 분리해서 보기 위함과 표준화를 하기 위함\n",
    "\n",
    "$${r_xy} = \\frac{{s_xy}}{({s_x^2}{x_y^2})^{1/2}}$$"
   ]
  },
  {
   "cell_type": "code",
   "execution_count": 1,
   "id": "741665d5",
   "metadata": {},
   "outputs": [
    {
     "name": "stdout",
     "output_type": "stream",
     "text": [
      "Defaulting to user installation because normal site-packages is not writeable\n",
      "Requirement already satisfied: scikit-learn in c:\\programdata\\anaconda3\\lib\\site-packages (1.0.2)\n",
      "Requirement already satisfied: scipy>=1.1.0 in c:\\programdata\\anaconda3\\lib\\site-packages (from scikit-learn) (1.7.3)\n",
      "Requirement already satisfied: numpy>=1.14.6 in c:\\programdata\\anaconda3\\lib\\site-packages (from scikit-learn) (1.21.5)\n",
      "Requirement already satisfied: joblib>=0.11 in c:\\programdata\\anaconda3\\lib\\site-packages (from scikit-learn) (1.1.0)\n",
      "Requirement already satisfied: threadpoolctl>=2.0.0 in c:\\programdata\\anaconda3\\lib\\site-packages (from scikit-learn) (2.2.0)\n"
     ]
    }
   ],
   "source": [
    "!pip install scikit-learn"
   ]
  },
  {
   "cell_type": "code",
   "execution_count": 33,
   "id": "1e49f8db",
   "metadata": {},
   "outputs": [
    {
     "name": "stdout",
     "output_type": "stream",
     "text": [
      "Defaulting to user installation because normal site-packages is not writeable\n",
      "Requirement already satisfied: koreanize-matplotlib in c:\\users\\user\\appdata\\roaming\\python\\python39\\site-packages (0.0.1)\n",
      "Requirement already satisfied: matplotlib in c:\\programdata\\anaconda3\\lib\\site-packages (from koreanize-matplotlib) (3.5.1)\n",
      "Requirement already satisfied: fonttools>=4.22.0 in c:\\programdata\\anaconda3\\lib\\site-packages (from matplotlib->koreanize-matplotlib) (4.25.0)\n",
      "Requirement already satisfied: numpy>=1.17 in c:\\programdata\\anaconda3\\lib\\site-packages (from matplotlib->koreanize-matplotlib) (1.21.5)\n",
      "Requirement already satisfied: python-dateutil>=2.7 in c:\\programdata\\anaconda3\\lib\\site-packages (from matplotlib->koreanize-matplotlib) (2.8.2)\n",
      "Requirement already satisfied: kiwisolver>=1.0.1 in c:\\programdata\\anaconda3\\lib\\site-packages (from matplotlib->koreanize-matplotlib) (1.3.2)\n",
      "Requirement already satisfied: pyparsing>=2.2.1 in c:\\programdata\\anaconda3\\lib\\site-packages (from matplotlib->koreanize-matplotlib) (3.0.4)\n",
      "Requirement already satisfied: packaging>=20.0 in c:\\programdata\\anaconda3\\lib\\site-packages (from matplotlib->koreanize-matplotlib) (21.3)\n",
      "Requirement already satisfied: cycler>=0.10 in c:\\programdata\\anaconda3\\lib\\site-packages (from matplotlib->koreanize-matplotlib) (0.11.0)\n",
      "Requirement already satisfied: pillow>=6.2.0 in c:\\programdata\\anaconda3\\lib\\site-packages (from matplotlib->koreanize-matplotlib) (9.0.1)\n",
      "Requirement already satisfied: six>=1.5 in c:\\programdata\\anaconda3\\lib\\site-packages (from python-dateutil>=2.7->matplotlib->koreanize-matplotlib) (1.16.0)\n"
     ]
    }
   ],
   "source": [
    "!pip install koreanize-matplotlib"
   ]
  },
  {
   "cell_type": "code",
   "execution_count": 62,
   "id": "b1163820",
   "metadata": {},
   "outputs": [],
   "source": [
    "from sklearn.datasets import load_iris\n",
    "import scipy as sp\n",
    "import numpy as np\n",
    "import matplotlib.pyplot as plt\n",
    "import koreanize_matplotlib\n",
    "import statsmodels.api as sm\n",
    "import seaborn as sns\n",
    "X = load_iris()"
   ]
  },
  {
   "cell_type": "code",
   "execution_count": 24,
   "id": "64df9489",
   "metadata": {},
   "outputs": [
    {
     "data": {
      "text/plain": [
       "dict_keys(['data', 'target', 'frame', 'target_names', 'DESCR', 'feature_names', 'filename', 'data_module'])"
      ]
     },
     "execution_count": 24,
     "metadata": {},
     "output_type": "execute_result"
    }
   ],
   "source": [
    "load_iris().keys()"
   ]
  },
  {
   "cell_type": "code",
   "execution_count": 25,
   "id": "8e3e4323",
   "metadata": {},
   "outputs": [
    {
     "data": {
      "text/plain": [
       "['sepal length (cm)',\n",
       " 'sepal width (cm)',\n",
       " 'petal length (cm)',\n",
       " 'petal width (cm)']"
      ]
     },
     "execution_count": 25,
     "metadata": {},
     "output_type": "execute_result"
    }
   ],
   "source": [
    "load_iris().feature_names"
   ]
  },
  {
   "cell_type": "code",
   "execution_count": 26,
   "id": "13350bfc",
   "metadata": {},
   "outputs": [
    {
     "data": {
      "text/plain": [
       "0.8717537758865832"
      ]
     },
     "execution_count": 26,
     "metadata": {},
     "output_type": "execute_result"
    }
   ],
   "source": [
    "# X.data는 iris의 데이터 밸류값이 정리되어 있음,\n",
    "# X.feature_names 에 각각의 컬럼 이름이 정의되 있음\n",
    "# X.feature의 순서에 따라서 해당되는 데이터를 가져오는 코드\n",
    "sepal_length = X.data[:,0]\n",
    "sepal_width = X.data[:,1]\n",
    "petal_length = X.data[:,2]\n",
    "petal_width = X.data[:,3]\n",
    "sp.stats.pearsonr(sepal_length, petal_length)[0]"
   ]
  },
  {
   "cell_type": "code",
   "execution_count": 28,
   "id": "56135a2a",
   "metadata": {},
   "outputs": [
    {
     "name": "stdout",
     "output_type": "stream",
     "text": [
      "[[0.30235661 0.06203641 0.45986034 0.83525338 0.92699705 0.72698898\n",
      "  0.76849622]\n",
      " [0.26920507 0.64402929 0.09337326 0.07968589 0.58961375 0.34334054\n",
      "  0.98887615]\n",
      " [0.62647321 0.68177928 0.55225681 0.26886006 0.37325939 0.2229281\n",
      "  0.1864426 ]\n",
      " [0.39064809 0.19316241 0.61091093 0.88280845 0.62233882 0.25311894\n",
      "  0.17993031]\n",
      " [0.81640447 0.22537162 0.51685714 0.51849582 0.60037494 0.53262048\n",
      "  0.01331005]]\n"
     ]
    },
    {
     "data": {
      "text/plain": [
       "array([0.30235661, 0.26920507, 0.62647321, 0.39064809, 0.81640447])"
      ]
     },
     "execution_count": 28,
     "metadata": {},
     "output_type": "execute_result"
    }
   ],
   "source": [
    "np_array = np.random.rand(5,7)\n",
    "print(np_array)\n",
    "np_array[:, 0]"
   ]
  },
  {
   "cell_type": "markdown",
   "id": "6a5aa708",
   "metadata": {},
   "source": [
    "## 상관계수 Scatter Plot"
   ]
  },
  {
   "cell_type": "markdown",
   "id": "795a9c06",
   "metadata": {},
   "source": [
    "- 피어슨 상관계수의 경우 선형적인 관계만을 측정하기 때문에 선형적이 않으면서 관계가 있는 데이터의 경우에 피어슨 상관계수는 0"
   ]
  },
  {
   "cell_type": "code",
   "execution_count": 36,
   "id": "fda56e1f",
   "metadata": {},
   "outputs": [
    {
     "data": {
      "image/png": "[encoded data removed]",
      "text/plain": [
       "<Figure size 504x144 with 7 Axes>"
      ]
     },
     "metadata": {},
     "output_type": "display_data"
    }
   ],
   "source": [
    "np.random.seed(0) #알아두기) 머신러닝 때 seed를 고정해서 변화되는 값을 최소화시켜 최적의 파라미터를 구한다.\n",
    "corrs = [1, 0.7, 0.3, 0, -0.3, -0.7, -1]\n",
    "plt.figure(figsize=(len(corrs) , 2))\n",
    "for i, r in enumerate(corrs):\n",
    "    x, y, = np.random.multivariate_normal([0,0], [[1, r],[r, 1]], 1000).T\n",
    "    plt.subplot(1, len(corrs), i + 1)\n",
    "    plt.plot(x,y, 'ro', ms=1)\n",
    "    plt.axis('equal')\n",
    "    plt.xticks([])\n",
    "    plt.yticks([])\n",
    "    plt.title(f'corr : {r}')\n",
    "\n",
    "plt.suptitle('상관계수와 산점도 그래프의 모양', y=1.1)\n",
    "plt.tight_layout()\n",
    "plt.show()"
   ]
  },
  {
   "cell_type": "code",
   "execution_count": 45,
   "id": "89a57c17",
   "metadata": {},
   "outputs": [
    {
     "data": {
      "image/png": "[encoded data removed]",
      "text/plain": [
       "<Figure size 504x144 with 7 Axes>"
      ]
     },
     "metadata": {},
     "output_type": "display_data"
    }
   ],
   "source": [
    "# 랜덤 요소 제거\n",
    "np.random.seed(1)\n",
    "\n",
    "# 기울기 설정\n",
    "slops = [1, 0.7, 0.3, 0, -0.3, -0.7, -1]\n",
    "\n",
    "# 그래프 설정\n",
    "plt.figure(figsize=(len(slops),2))\n",
    "for i, s in enumerate(slops):\n",
    "    #서브플롯(배경) 그리기\n",
    "    plt.subplot(1, len(slops), i + 1)\n",
    "    \n",
    "    #다변수 표준정규분포(다 0과 1이기 때문에)\n",
    "    x, y = np.random.multivariate_normal([0,0], [[1,1], [1,1]], 1000).T\n",
    "    \n",
    "    #기울기 변경\n",
    "    y2 = s * y\n",
    "    \n",
    "    # 데이터 플롯 그리기\n",
    "    plt.plot(x, y2, 'ro', ms=1)\n",
    "    \n",
    "    # x값과 y값의 범위를 맞춰준다.\n",
    "    plt.axis('equal')\n",
    "    \n",
    "    # 특정된 x와 y값을 표현하는 것. 지금은 아무것도 표현하지 않도록 설정.\n",
    "    # 만약 아무것도 안주면 자동으로 생성하기 때문에 [ ] 로 인자를 전달.\n",
    "    plt.xticks([])\n",
    "    plt.yticks([])\n",
    "    if s > 0:\n",
    "        \n",
    "    # 서브플롯의 제목\n",
    "        plt.title('corr=1')\n",
    "    elif s<0:\n",
    "        plt.title('corr=-1')\n",
    "    \n",
    "# 플롯의 대제목\n",
    "plt.suptitle('상관계수와 기울기의 관계', y=1.1)\n",
    "\n",
    "# 축의 글자가 겹치지 않도록 layout 설정\n",
    "plt.tight_layout()\n",
    "\n",
    "# 그래프 show\n",
    "plt.show()\n",
    "        \n",
    "        \n"
   ]
  },
  {
   "cell_type": "code",
   "execution_count": 53,
   "id": "e4a4a621",
   "metadata": {},
   "outputs": [
    {
     "data": {
      "image/png": "[encoded data removed]",
      "text/plain": [
       "<Figure size 432x288 with 3 Axes>"
      ]
     },
     "metadata": {
      "needs_background": "light"
     },
     "output_type": "display_data"
    }
   ],
   "source": [
    "n = 500\n",
    "np.random.seed(2)\n",
    "plt.subplot(221)\n",
    "x1 = np.random.uniform(-1, 1, n)\n",
    "y1 = 2*x1**2 + np.random.uniform(-0.1, 0.1, n)\n",
    "plt.scatter(x1, y1)\n",
    "r1 = sp.stats.pearsonr(x1, y1)[0]\n",
    "plt.title(f'비선형 상관관계 : 1: r= {r1.round(3)}')\n",
    "plt.subplot(222)\n",
    "x2 = np.random.uniform(-1, 1, n)\n",
    "y2 = 4 * (x2**2-0.5)**2 + 0.1 * np.random.uniform(-0.1, 0.1, n)\n",
    "plt.scatter(x2, y2)\n",
    "r2 = sp.stats.pearsonr(x2, y2)[0]\n",
    "plt.title('비선형 상관관계 2:r={r2.round(3)}')\n",
    "\n",
    "plt.subplot(223)\n",
    "x3 = np.random.uniform(-1, 1, n)\n",
    "y3 = np.cos(x3 * np.pi) + np.random.uniform(0, 1/8, n)\n",
    "x3 = np.sin(x3 * np.pi) + np.random.uniform(0, 1/8, n)\n",
    "plt.scatter(x3, y3)\n",
    "r3 = sp.stats.pearsonr(x3, y3)[0]\n",
    "plt.title('비선형 상관관계 3 : r={r3.round(3)}')\n",
    "plt.tight_layout() #글자 겹침 방지\n",
    "plt.show()\n"
   ]
  },
  {
   "cell_type": "markdown",
   "id": "0872eb46",
   "metadata": {},
   "source": [
    "### 데이터 분포에 따른 유의점"
   ]
  },
  {
   "cell_type": "code",
   "execution_count": 57,
   "id": "0fa867a5",
   "metadata": {},
   "outputs": [
    {
     "data": {
      "text/plain": [
       "<class 'statsmodels.datasets.utils.Dataset'>"
      ]
     },
     "execution_count": 57,
     "metadata": {},
     "output_type": "execute_result"
    }
   ],
   "source": [
    "data = sm.datasets.get_rdataset('anscombe')\n",
    "data"
   ]
  },
  {
   "cell_type": "code",
   "execution_count": 60,
   "id": "f20a8317",
   "metadata": {},
   "outputs": [],
   "source": [
    "df = data.data"
   ]
  },
  {
   "cell_type": "code",
   "execution_count": 63,
   "id": "7b9bde28",
   "metadata": {},
   "outputs": [
    {
     "data": {
      "text/html": [
       "<div>\n",
       "<style scoped>\n",
       "    .dataframe tbody tr th:only-of-type {\n",
       "        vertical-align: middle;\n",
       "    }\n",
       "\n",
       "    .dataframe tbody tr th {\n",
       "        vertical-align: top;\n",
       "    }\n",
       "\n",
       "    .dataframe thead th {\n",
       "        text-align: right;\n",
       "    }\n",
       "</style>\n",
       "<table border=\"1\" class=\"dataframe\">\n",
       "  <thead>\n",
       "    <tr style=\"text-align: right;\">\n",
       "      <th></th>\n",
       "      <th>x1</th>\n",
       "      <th>y1</th>\n",
       "      <th>x2</th>\n",
       "      <th>y2</th>\n",
       "      <th>x3</th>\n",
       "      <th>y3</th>\n",
       "      <th>x4</th>\n",
       "      <th>y4</th>\n",
       "    </tr>\n",
       "  </thead>\n",
       "  <tbody>\n",
       "    <tr>\n",
       "      <th>0</th>\n",
       "      <td>10</td>\n",
       "      <td>8.04</td>\n",
       "      <td>10</td>\n",
       "      <td>9.14</td>\n",
       "      <td>10</td>\n",
       "      <td>7.46</td>\n",
       "      <td>8</td>\n",
       "      <td>6.58</td>\n",
       "    </tr>\n",
       "    <tr>\n",
       "      <th>1</th>\n",
       "      <td>8</td>\n",
       "      <td>6.95</td>\n",
       "      <td>8</td>\n",
       "      <td>8.14</td>\n",
       "      <td>8</td>\n",
       "      <td>6.77</td>\n",
       "      <td>8</td>\n",
       "      <td>5.76</td>\n",
       "    </tr>\n",
       "    <tr>\n",
       "      <th>2</th>\n",
       "      <td>13</td>\n",
       "      <td>7.58</td>\n",
       "      <td>13</td>\n",
       "      <td>8.74</td>\n",
       "      <td>13</td>\n",
       "      <td>12.74</td>\n",
       "      <td>8</td>\n",
       "      <td>7.71</td>\n",
       "    </tr>\n",
       "    <tr>\n",
       "      <th>3</th>\n",
       "      <td>9</td>\n",
       "      <td>8.81</td>\n",
       "      <td>9</td>\n",
       "      <td>8.77</td>\n",
       "      <td>9</td>\n",
       "      <td>7.11</td>\n",
       "      <td>8</td>\n",
       "      <td>8.84</td>\n",
       "    </tr>\n",
       "    <tr>\n",
       "      <th>4</th>\n",
       "      <td>11</td>\n",
       "      <td>8.33</td>\n",
       "      <td>11</td>\n",
       "      <td>9.26</td>\n",
       "      <td>11</td>\n",
       "      <td>7.81</td>\n",
       "      <td>8</td>\n",
       "      <td>8.47</td>\n",
       "    </tr>\n",
       "    <tr>\n",
       "      <th>5</th>\n",
       "      <td>14</td>\n",
       "      <td>9.96</td>\n",
       "      <td>14</td>\n",
       "      <td>8.10</td>\n",
       "      <td>14</td>\n",
       "      <td>8.84</td>\n",
       "      <td>8</td>\n",
       "      <td>7.04</td>\n",
       "    </tr>\n",
       "    <tr>\n",
       "      <th>6</th>\n",
       "      <td>6</td>\n",
       "      <td>7.24</td>\n",
       "      <td>6</td>\n",
       "      <td>6.13</td>\n",
       "      <td>6</td>\n",
       "      <td>6.08</td>\n",
       "      <td>8</td>\n",
       "      <td>5.25</td>\n",
       "    </tr>\n",
       "    <tr>\n",
       "      <th>7</th>\n",
       "      <td>4</td>\n",
       "      <td>4.26</td>\n",
       "      <td>4</td>\n",
       "      <td>3.10</td>\n",
       "      <td>4</td>\n",
       "      <td>5.39</td>\n",
       "      <td>19</td>\n",
       "      <td>12.50</td>\n",
       "    </tr>\n",
       "    <tr>\n",
       "      <th>8</th>\n",
       "      <td>12</td>\n",
       "      <td>10.84</td>\n",
       "      <td>12</td>\n",
       "      <td>9.13</td>\n",
       "      <td>12</td>\n",
       "      <td>8.15</td>\n",
       "      <td>8</td>\n",
       "      <td>5.56</td>\n",
       "    </tr>\n",
       "    <tr>\n",
       "      <th>9</th>\n",
       "      <td>7</td>\n",
       "      <td>4.82</td>\n",
       "      <td>7</td>\n",
       "      <td>7.26</td>\n",
       "      <td>7</td>\n",
       "      <td>6.42</td>\n",
       "      <td>8</td>\n",
       "      <td>7.91</td>\n",
       "    </tr>\n",
       "    <tr>\n",
       "      <th>10</th>\n",
       "      <td>5</td>\n",
       "      <td>5.68</td>\n",
       "      <td>5</td>\n",
       "      <td>4.74</td>\n",
       "      <td>5</td>\n",
       "      <td>5.73</td>\n",
       "      <td>8</td>\n",
       "      <td>6.89</td>\n",
       "    </tr>\n",
       "  </tbody>\n",
       "</table>\n",
       "</div>"
      ],
      "text/plain": [
       "    x1     y1  x2    y2  x3     y3  x4     y4\n",
       "0   10   8.04  10  9.14  10   7.46   8   6.58\n",
       "1    8   6.95   8  8.14   8   6.77   8   5.76\n",
       "2   13   7.58  13  8.74  13  12.74   8   7.71\n",
       "3    9   8.81   9  8.77   9   7.11   8   8.84\n",
       "4   11   8.33  11  9.26  11   7.81   8   8.47\n",
       "5   14   9.96  14  8.10  14   8.84   8   7.04\n",
       "6    6   7.24   6  6.13   6   6.08   8   5.25\n",
       "7    4   4.26   4  3.10   4   5.39  19  12.50\n",
       "8   12  10.84  12  9.13  12   8.15   8   5.56\n",
       "9    7   4.82   7  7.26   7   6.42   8   7.91\n",
       "10   5   5.68   5  4.74   5   5.73   8   6.89"
      ]
     },
     "execution_count": 63,
     "metadata": {},
     "output_type": "execute_result"
    }
   ],
   "source": [
    "df[['x1','y1','x2','y2','x3','y3','x4','y4']]"
   ]
  },
  {
   "cell_type": "code",
   "execution_count": 65,
   "id": "93cab118",
   "metadata": {},
   "outputs": [
    {
     "data": {
      "image/png": "[encoded data removed]",
      "text/plain": [
       "<Figure size 432x288 with 4 Axes>"
      ]
     },
     "metadata": {
      "needs_background": "light"
     },
     "output_type": "display_data"
    }
   ],
   "source": [
    "plt.subplot(221)\n",
    "sns.regplot(x = 'x1', y = 'y1', data=df)\n",
    "plt.subplot(222)\n",
    "sns.regplot(x = 'x2', y = 'y2', data=df)\n",
    "plt.subplot(223)\n",
    "sns.regplot(x = 'x3', y = 'y3', data=df)\n",
    "plt.subplot(224)\n",
    "sns.regplot(x = 'x4', y = 'y4', data=df)\n",
    "plt.tight_layout()\n",
    "plt.subplots_adjust(top=0.9)\n",
    "plt.suptitle('anscomb data')\n",
    "plt.show()"
   ]
  },
  {
   "cell_type": "code",
   "execution_count": 72,
   "id": "1dff7444",
   "metadata": {},
   "outputs": [
    {
     "name": "stdout",
     "output_type": "stream",
     "text": [
      "x1, y1 의 상관계수 0.8164205163448399\n",
      "x2, y2 의 상관계수 0.8162365060002428\n",
      "x3, y3 의 상관계수 0.8162867394895983\n",
      "x4, y4 의 상관계수 0.816521436888503\n"
     ]
    }
   ],
   "source": [
    "for i in range(1,5):\n",
    "    print(f'x{i}, y{i} 의 상관계수', sp.stats.pearsonr(df[f'x{i}'], df[f'y{i}'])[0])"
   ]
  },
  {
   "cell_type": "code",
   "execution_count": null,
   "id": "9a3f5c5f",
   "metadata": {},
   "outputs": [],
   "source": []
  }
 ],
 "metadata": {
  "kernelspec": {
   "display_name": "Python 3 (ipykernel)",
   "language": "python",
   "name": "python3"
  },
  "language_info": {
   "codemirror_mode": {
    "name": "ipython",
    "version": 3
   },
   "file_extension": ".py",
   "mimetype": "text/x-python",
   "name": "python",
   "nbconvert_exporter": "python",
   "pygments_lexer": "ipython3",
   "version": "3.9.12"
  }
 },
 "nbformat": 4,
 "nbformat_minor": 5
}
