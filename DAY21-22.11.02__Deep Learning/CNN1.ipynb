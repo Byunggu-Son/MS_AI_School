{
 "cells": [
  {
   "cell_type": "markdown",
   "id": "615bc6aa",
   "metadata": {},
   "source": [
    "# 합성곱 신경망\n",
    "## Conv2D와 Maxpooling2D로 층을 쌓아 올림."
   ]
  },
  {
   "cell_type": "code",
   "execution_count": 1,
   "id": "eacdb7f8-1243-43e3-8851-0918a5e407d2",
   "metadata": {},
   "outputs": [
    {
     "name": "stdout",
     "output_type": "stream",
     "text": [
      "Hello Azure\n"
     ]
    }
   ],
   "source": [
    "print(\"Hello Azure\")"
   ]
  },
  {
   "cell_type": "markdown",
   "id": "28808c5c",
   "metadata": {},
   "source": [
    "### MNIST 숫자 이미지 분류에 컨브넷을 사용"
   ]
  },
  {
   "cell_type": "code",
   "execution_count": 2,
   "id": "faca0692-683f-40c4-95e4-da932fd2a26f",
   "metadata": {},
   "outputs": [],
   "source": [
    "import os\n",
    "\n",
    "import tensorflow as tf\n",
    "from tensorflow import keras\n",
    "\n",
    "from tensorflow.keras import layers\n",
    "from tensorflow.keras import models"
   ]
  },
  {
   "cell_type": "code",
   "execution_count": 3,
   "id": "35a20ec3-14c6-48d3-bac8-a9c3e410e956",
   "metadata": {},
   "outputs": [],
   "source": [
    "#순차적으로 쌓아올림.\n",
    "# MNIST 이미지 포맷인 (28,28,1) 크기의 입력 설정을 위해\n",
    "# 첫 번째 층 매개변수로 input_shape=(28,28,1)을 전달.\n",
    "model = models.Sequential()\n",
    "model.add(layers.Conv2D(32, (3,3), activation='relu', input_shape=(28,28,1))) \n",
    "model.add(layers.MaxPooling2D(2,2))\n",
    "model.add(layers.Conv2D(64, (3,3), activation='relu'))\n",
    "model.add(layers.MaxPooling2D(2,2))\n",
    "model.add(layers.Conv2D(64, (3,3), activation='relu'))"
   ]
  },
  {
   "cell_type": "code",
   "execution_count": 4,
   "id": "21248e71-6af2-4791-8eea-cb46200fafb8",
   "metadata": {},
   "outputs": [
    {
     "name": "stdout",
     "output_type": "stream",
     "text": [
      "Model: \"sequential\"\n",
      "_________________________________________________________________\n",
      "Layer (type)                 Output Shape              Param #   \n",
      "=================================================================\n",
      "conv2d (Conv2D)              (None, 26, 26, 32)        320       \n",
      "_________________________________________________________________\n",
      "max_pooling2d (MaxPooling2D) (None, 13, 13, 32)        0         \n",
      "_________________________________________________________________\n",
      "conv2d_1 (Conv2D)            (None, 11, 11, 64)        18496     \n",
      "_________________________________________________________________\n",
      "max_pooling2d_1 (MaxPooling2 (None, 5, 5, 64)          0         \n",
      "_________________________________________________________________\n",
      "conv2d_2 (Conv2D)            (None, 3, 3, 64)          36928     \n",
      "=================================================================\n",
      "Total params: 55,744\n",
      "Trainable params: 55,744\n",
      "Non-trainable params: 0\n",
      "_________________________________________________________________\n"
     ]
    }
   ],
   "source": [
    "model.summary() #컨브넷 구조 출력"
   ]
  },
  {
   "cell_type": "code",
   "execution_count": 5,
   "id": "67e4a398-adef-476c-8622-e9e262eacd12",
   "metadata": {},
   "outputs": [],
   "source": [
    "model.add(layers.Flatten()) # 3차원을 1차원으로 펴준다.\n",
    "model.add(layers.Dense(64, activation='relu'))\n",
    "model.add(layers.Dense(10, activation='softmax'))"
   ]
  },
  {
   "cell_type": "code",
   "execution_count": 6,
   "id": "16f0d6ce-c2da-46cd-933b-f8824e20d280",
   "metadata": {},
   "outputs": [
    {
     "name": "stdout",
     "output_type": "stream",
     "text": [
      "Model: \"sequential\"\n",
      "_________________________________________________________________\n",
      "Layer (type)                 Output Shape              Param #   \n",
      "=================================================================\n",
      "conv2d (Conv2D)              (None, 26, 26, 32)        320       \n",
      "_________________________________________________________________\n",
      "max_pooling2d (MaxPooling2D) (None, 13, 13, 32)        0         \n",
      "_________________________________________________________________\n",
      "conv2d_1 (Conv2D)            (None, 11, 11, 64)        18496     \n",
      "_________________________________________________________________\n",
      "max_pooling2d_1 (MaxPooling2 (None, 5, 5, 64)          0         \n",
      "_________________________________________________________________\n",
      "conv2d_2 (Conv2D)            (None, 3, 3, 64)          36928     \n",
      "_________________________________________________________________\n",
      "flatten (Flatten)            (None, 576)               0         \n",
      "_________________________________________________________________\n",
      "dense (Dense)                (None, 64)                36928     \n",
      "_________________________________________________________________\n",
      "dense_1 (Dense)              (None, 10)                650       \n",
      "=================================================================\n",
      "Total params: 93,322\n",
      "Trainable params: 93,322\n",
      "Non-trainable params: 0\n",
      "_________________________________________________________________\n"
     ]
    }
   ],
   "source": [
    "model.summary() # (3,3,64) 출력이 (576,) 크기의 벡터로 펼쳐진 후 Dense층으로 주입됨."
   ]
  },
  {
   "cell_type": "code",
   "execution_count": 7,
   "id": "e87732a2-3333-415b-9fcb-84d284d1796a",
   "metadata": {},
   "outputs": [],
   "source": [
    "from tensorflow.keras.datasets import mnist\n",
    "from tensorflow.keras.utils import to_categorical\n",
    "\n",
    "(train_images, train_labels),(test_images, test_labels) = mnist.load_data()\n",
    "\n",
    " #데이터 형태 설정\n",
    "train_images = train_images.reshape((60000,28,28,1)) #이미지는 3차원. 뒤의 1은 데이터가 흑백이기 때문.()\n",
    "train_images = train_images.astype('float32')\n",
    "test_images = test_images.reshape((10000,28,28,1))\n",
    "test_images = test_images.astype('float32')\n",
    "\n",
    "train_labels = to_categorical(train_labels)\n",
    "test_labels = to_categorical(test_labels) # 위 두 개의 label들도 categorical해준다."
   ]
  },
  {
   "cell_type": "code",
   "execution_count": 8,
   "id": "62996e9f-7b84-4772-9f18-5effedebcecc",
   "metadata": {},
   "outputs": [
    {
     "name": "stdout",
     "output_type": "stream",
     "text": [
      "Epoch 1/5\n",
      "938/938 [==============================] - 112s 119ms/step - loss: 0.3452 - accuracy: 0.9409\n",
      "Epoch 2/5\n",
      "938/938 [==============================] - 96s 103ms/step - loss: 0.0639 - accuracy: 0.9824\n",
      "Epoch 3/5\n",
      "938/938 [==============================] - 95s 101ms/step - loss: 0.0465 - accuracy: 0.9877\n",
      "Epoch 4/5\n",
      "938/938 [==============================] - 94s 100ms/step - loss: 0.0415 - accuracy: 0.9889\n",
      "Epoch 5/5\n",
      "938/938 [==============================] - 94s 100ms/step - loss: 0.0417 - accuracy: 0.9896\n"
     ]
    },
    {
     "data": {
      "text/plain": [
       "<tensorflow.python.keras.callbacks.History at 0x142c060e790>"
      ]
     },
     "execution_count": 8,
     "metadata": {},
     "output_type": "execute_result"
    }
   ],
   "source": [
    "# 모델을 적용하기 위해 마지막 단계인 complie을 해준다.\n",
    "model.compile(optimizer='rmsprop',\n",
    "             loss='categorical_crossentropy',\n",
    "             metrics=['accuracy'])\n",
    "model.fit(train_images, train_labels, epochs=5, batch_size=64)"
   ]
  },
  {
   "cell_type": "code",
   "execution_count": 9,
   "id": "cfd12593-cf43-48bc-a167-812537c577a4",
   "metadata": {},
   "outputs": [
    {
     "name": "stdout",
     "output_type": "stream",
     "text": [
      "313/313 [==============================] - 5s 15ms/step - loss: 0.0646 - accuracy: 0.9869\n"
     ]
    }
   ],
   "source": [
    "test_loss, test_acc = model.evaluate(test_images, test_labels)"
   ]
  },
  {
   "cell_type": "code",
   "execution_count": 10,
   "id": "c5ac75f7-166b-4582-ae65-264f2b53b61f",
   "metadata": {},
   "outputs": [
    {
     "data": {
      "text/plain": [
       "0.9868999719619751"
      ]
     },
     "execution_count": 10,
     "metadata": {},
     "output_type": "execute_result"
    }
   ],
   "source": [
    "test_acc"
   ]
  }
 ],
 "metadata": {
  "kernelspec": {
   "display_name": "Python 3 (ipykernel)",
   "language": "python",
   "name": "python3"
  },
  "language_info": {
   "codemirror_mode": {
    "name": "ipython",
    "version": 3
   },
   "file_extension": ".py",
   "mimetype": "text/x-python",
   "name": "python",
   "nbconvert_exporter": "python",
   "pygments_lexer": "ipython3",
   "version": "3.9.12"
  }
 },
 "nbformat": 4,
 "nbformat_minor": 5
}
