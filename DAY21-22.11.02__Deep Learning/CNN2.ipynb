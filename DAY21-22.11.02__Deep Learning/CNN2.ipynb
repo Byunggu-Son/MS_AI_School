{
 "cells": [
  {
   "cell_type": "code",
   "execution_count": 1,
   "id": "defd7ad3-bdcc-417e-99ae-d4cf3097167e",
   "metadata": {},
   "outputs": [],
   "source": [
    "import os\n",
    "import shutil\n",
    "\n",
    "import tensorflow as tf\n",
    "from tensorflow import keras\n",
    "\n",
    "from tensorflow.keras import layers\n",
    "from tensorflow.keras import models"
   ]
  },
  {
   "cell_type": "code",
   "execution_count": 4,
   "id": "4f404d63-dc20-4ea8-8971-f5ef33ee630a",
   "metadata": {},
   "outputs": [],
   "source": [
    "# Original Data Path\n",
    "original_dataset_dir = './datasets/train'\n",
    "\n",
    "# 훈련,테스트,검증을 위한 이미지 3등분\n",
    "# Small Dataset Path\n",
    "base_dir = './datasets/cats_and_dogs_small'\n",
    "\n",
    "if os.path.exists(base_dir): ## 반복적인 실행을 위해 디렉터리를 삭제함.(매번 작업을 할 때마다 지워주기 귀찮으니깐!)\n",
    "    shutil.rmtree(base_dir)\n",
    "os.mkdir(base_dir)"
   ]
  },
  {
   "cell_type": "code",
   "execution_count": 8,
   "id": "b74b33b2-f86d-4453-a38e-381d23a58dc9",
   "metadata": {},
   "outputs": [],
   "source": [
    "# Train, Vaildation, Test data\n",
    "train_dir = os.path.join(base_dir, 'train') # 위에 쓰인 경로 뒤에 각각 train, validation, test를 붙여 디렉터리 생성.\n",
    "os.mkdir(train_dir)\n",
    "validation_dir = os.path.join(base_dir, 'validation')\n",
    "os.mkdir(validation_dir)\n",
    "test_dir = os.path.join(base_dir, 'test')\n",
    "os.mkdir(test_dir)"
   ]
  },
  {
   "cell_type": "code",
   "execution_count": 9,
   "id": "31811368-d9d3-47fe-86b1-bf58c4f1f14c",
   "metadata": {},
   "outputs": [],
   "source": [
    "train_cats_dir = os.path.join(train_dir, 'cats')\n",
    "train_dogs_dir = os.path.join(train_dir, 'dogs')\n",
    "validation_cats_dir = os.path.join(validation_dir, 'cats')\n",
    "validation_dogs_dir = os.path.join(validation_dir, 'dogs')\n",
    "test_cats_dir = os.path.join(test_dir,'cats')\n",
    "test_dogs_dir = os.path.join(test_dir,'dogs')\n",
    "\n",
    "os.mkdir(train_cats_dir)\n",
    "os.mkdir(train_dogs_dir)\n",
    "os.mkdir(validation_cats_dir)\n",
    "os.mkdir(validation_dogs_dir)\n",
    "os.mkdir(test_cats_dir)\n",
    "os.mkdir(test_dogs_dir)"
   ]
  },
  {
   "cell_type": "code",
   "execution_count": 15,
   "id": "9edfce6c-43a5-41d1-ab68-74dc86f8a010",
   "metadata": {},
   "outputs": [],
   "source": [
    "# file copy\n",
    "\n",
    "# # 파이썬 코린이 방법\n",
    "# fnames = []\n",
    "# for i in range(1000):\n",
    "#     filename = 'cat.P{}'.format(i)\n",
    "#     fnames.append(filename)\n",
    "# print(fnames)\n",
    "\n",
    "#cat train data copy\n",
    "fnames = ['cat.{}.jpg'.format(i) for i in range(1000)] # 위에 과정을 이 한줄로 끝!\n",
    "for fname in fnames:\n",
    "    src = os.path.join(original_dataset_dir, fname)# 원본 경로\n",
    "    dst = os.path.join(train_cats_dir, fname) #학습 시킬 경로\n",
    "    shutil.copyfile(src, dst) # 원본 경로 -> 학습시킬 경로로 copyfile\n",
    "# 이렇게해서 학습용 데이터 1000개를 확보한 것\n",
    "    \n",
    "#cat train data copy\n",
    "fnames = ['dog.{}.jpg'.format(i) for i in range(1000)]\n",
    "for fname in fnames:\n",
    "    src = os.path.join(original_dataset_dir, fname)\n",
    "    dst = os.path.join(train_dogs_dir, fname)\n",
    "    shutil.copyfile(src, dst)\n",
    "    \n",
    "# 이렇게해서 학습용 데이터 1000개를 확보한 것\n",
    "print('---------------------------Test dataset copy completed')"
   ]
  },
  {
   "cell_type": "code",
   "execution_count": 16,
   "id": "c731b30f-a615-470b-95b2-6d77e3032a15",
   "metadata": {},
   "outputs": [
    {
     "name": "stdout",
     "output_type": "stream",
     "text": [
      "---------------------------Validation dataset copy completed\n"
     ]
    }
   ],
   "source": [
    "#cat validation data copy\n",
    "fnames = ['cat.{}.jpg'.format(i) for i in range(1000, 1500)]\n",
    "for fname in fnames:\n",
    "    src = os.path.join(original_dataset_dir, fname)\n",
    "    dst = os.path.join(validation_cats_dir, fname) \n",
    "    shutil.copyfile(src, dst)\n",
    "    \n",
    "    \n",
    "#dog validation data copy\n",
    "fnames = ['dog.{}.jpg'.format(i) for i in range(1000,1500)]\n",
    "for fname in fnames:\n",
    "    src = os.path.join(original_dataset_dir, fname)\n",
    "    dst = os.path.join(validation_dogs_dir, fname) \n",
    "    shutil.copyfile(src, dst)\n",
    "print('---------------------------Validation dataset copy completed') # 언제 끝났는지모르니 이거 표시해주는게 좋다."
   ]
  },
  {
   "cell_type": "code",
   "execution_count": 17,
   "id": "af62bf88-fa7b-4062-99c3-6e946bda7295",
   "metadata": {},
   "outputs": [
    {
     "name": "stdout",
     "output_type": "stream",
     "text": [
      "---------------------------test dataset copy completed\n"
     ]
    }
   ],
   "source": [
    "#cat test data copy\n",
    "fnames = ['cat.{}.jpg'.format(i) for i in range(1500,2000)]\n",
    "for fname in fnames:\n",
    "    src = os.path.join(original_dataset_dir, fname)\n",
    "    dst = os.path.join(test_cats_dir, fname) \n",
    "    shutil.copyfile(src, dst)\n",
    "    \n",
    "#dog test data copy\n",
    "fnames = ['dog.{}.jpg'.format(i) for i in range(1500,2000)]\n",
    "for fname in fnames:\n",
    "    src = os.path.join(original_dataset_dir, fname)\n",
    "    dst = os.path.join(test_dogs_dir, fname) \n",
    "    shutil.copyfile(src, dst)\n",
    "print('---------------------------test dataset copy completed')"
   ]
  },
  {
   "cell_type": "code",
   "execution_count": 22,
   "id": "2cd2ca95-e59a-479b-8c36-8b4bc1c6afe6",
   "metadata": {},
   "outputs": [
    {
     "name": "stdout",
     "output_type": "stream",
     "text": [
      "Train cat images:  1000\n",
      "Train dog images:  1000\n",
      "Validation cat images:  500\n",
      "Validation dog images:  500\n",
      "Test cat images:  500\n",
      "Test dog images:  500\n"
     ]
    }
   ],
   "source": [
    "print('Train cat images: ', len(os.listdir(train_cats_dir))) #listdir : 지정되어 있는 경로의 파일 목록이 나옴.(갯수X) 그러므로 len을 통해 몇 개인지 알아본다.\n",
    "print('Train dog images: ', len(os.listdir(train_dogs_dir)))\n",
    "print('Validation cat images: ', len(os.listdir(validation_cats_dir)))\n",
    "print('Validation dog images: ', len(os.listdir(validation_dogs_dir)))\n",
    "print('Test cat images: ', len(os.listdir(test_cats_dir)))\n",
    "print('Test dog images: ', len(os.listdir(test_dogs_dir)))"
   ]
  },
  {
   "cell_type": "code",
   "execution_count": 23,
   "id": "80f8e5bb-b16e-45c3-a5b0-3c981864730d",
   "metadata": {},
   "outputs": [
    {
     "name": "stdout",
     "output_type": "stream",
     "text": [
      "Model: \"sequential\"\n",
      "_________________________________________________________________\n",
      "Layer (type)                 Output Shape              Param #   \n",
      "=================================================================\n",
      "conv2d (Conv2D)              (None, 148, 148, 32)      896       \n",
      "_________________________________________________________________\n",
      "max_pooling2d (MaxPooling2D) (None, 74, 74, 32)        0         \n",
      "_________________________________________________________________\n",
      "conv2d_1 (Conv2D)            (None, 72, 72, 64)        18496     \n",
      "_________________________________________________________________\n",
      "max_pooling2d_1 (MaxPooling2 (None, 36, 36, 64)        0         \n",
      "_________________________________________________________________\n",
      "conv2d_2 (Conv2D)            (None, 34, 34, 128)       73856     \n",
      "_________________________________________________________________\n",
      "max_pooling2d_2 (MaxPooling2 (None, 17, 17, 128)       0         \n",
      "_________________________________________________________________\n",
      "conv2d_3 (Conv2D)            (None, 15, 15, 128)       147584    \n",
      "_________________________________________________________________\n",
      "max_pooling2d_3 (MaxPooling2 (None, 7, 7, 128)         0         \n",
      "_________________________________________________________________\n",
      "flatten (Flatten)            (None, 6272)              0         \n",
      "_________________________________________________________________\n",
      "dense (Dense)                (None, 512)               3211776   \n",
      "_________________________________________________________________\n",
      "dense_1 (Dense)              (None, 1)                 513       \n",
      "=================================================================\n",
      "Total params: 3,453,121\n",
      "Trainable params: 3,453,121\n",
      "Non-trainable params: 0\n",
      "_________________________________________________________________\n"
     ]
    }
   ],
   "source": [
    "# Build network\n",
    "\n",
    "from tensorflow.keras import layers\n",
    "from tensorflow.keras import models\n",
    "\n",
    "model = models.Sequential()\n",
    "model.add(layers.Conv2D(32,(3,3), activation='relu', input_shape=(150,150,3))) # input_shape 150,150,3인 이유는 컬러라서. conv2D에서 (3,3)은 합성곱\n",
    "model.add(layers.MaxPooling2D((2,2))) # 항상 Conv2D와 MaxPool2D는 같이 교차해서 사용한다.\n",
    "model.add(layers.Conv2D(64,(3,3), activation='relu'))\n",
    "model.add(layers.MaxPooling2D((2,2))) # 필터링\n",
    "model.add(layers.Conv2D(128,(3,3), activation='relu'))\n",
    "model.add(layers.MaxPooling2D((2,2)))\n",
    "model.add(layers.Conv2D(128,(3,3), activation='relu'))\n",
    "model.add(layers.MaxPooling2D((2,2)))\n",
    "model.add(layers.Flatten()) # 한줄로(1차원)으로 펴주는 애\n",
    "model.add(layers.Dense(512, activation='relu'))\n",
    "model.add(layers.Dense(1, activation='sigmoid')) # 마지막 개 or 고양이 분류(이진분류)\n",
    "model.summary()"
   ]
  },
  {
   "cell_type": "code",
   "execution_count": 24,
   "id": "97671e7b-42c1-4313-ab23-dfc2fe3e572b",
   "metadata": {},
   "outputs": [],
   "source": [
    "from tensorflow.keras import optimizers\n",
    "\n",
    "model.compile(optimizer='rmsprop',\n",
    "             loss='binary_crossentropy',\n",
    "             metrics=['accuracy'])"
   ]
  },
  {
   "cell_type": "markdown",
   "id": "3538b3c9",
   "metadata": {},
   "source": [
    "- 지금은 데이터가 JPEG 파일로 되어 있으므로 다음 과정이 필요.\n",
    "\n",
    "1. 사진 파일을 읽음.\n",
    "2. JPEG 콘텐츠를 RGB 픽셀 값으로 디코딩.\n",
    "3. 부동 소수 타입의 텐서로 변환.\n",
    "4. 픽셀 값(0~ 255 사이)의 스케일을 [0, 1] 사이로 조정(신경망은 작은 입력 값을 선호하기 때문)."
   ]
  },
  {
   "cell_type": "code",
   "execution_count": 25,
   "id": "94d7c4da-bc4c-4722-90a3-701acb9d36c2",
   "metadata": {},
   "outputs": [
    {
     "name": "stdout",
     "output_type": "stream",
     "text": [
      "Found 2000 images belonging to 2 classes.\n",
      "Found 1000 images belonging to 2 classes.\n"
     ]
    }
   ],
   "source": [
    "# 위에 만든 것들을 텐서로 만들어보자.\n",
    "#Data preprocessing\n",
    "\n",
    "# Image scaling 각 이미지마다 크기가 다르므로.\n",
    "from tensorflow.keras.preprocessing.image import ImageDataGenerator\n",
    "\n",
    "# 0-255의 RGB 계수로 구성을 0~1 범위로 표현\n",
    "train_datagen = ImageDataGenerator(rescale = 1./255) \n",
    "validation_datagen = ImageDataGenerator(rescale = 1./255)\n",
    "\n",
    "train_generator = train_datagen.flow_from_directory(\n",
    "    # 타깃 디렉터리\n",
    "                        train_dir,\n",
    "    # 모든 이미지를 150 × 150 크기로 변경\n",
    "                        target_size=(150,150),\n",
    "                        batch_size=20,\n",
    "                        class_mode='binary')\n",
    "\n",
    "\n",
    "validation_generator = test_datagen.flow_from_directory(\n",
    "                        test_dir,\n",
    "                        target_size=(150,150),\n",
    "                        batch_size=20,\n",
    "                        class_mode='binary')"
   ]
  },
  {
   "cell_type": "code",
   "execution_count": 26,
   "id": "36642f30-83b8-417f-b709-7660e5ae8949",
   "metadata": {},
   "outputs": [
    {
     "data": {
      "text/plain": [
       "<keras_preprocessing.image.directory_iterator.DirectoryIterator at 0x216c00003a0>"
      ]
     },
     "execution_count": 26,
     "metadata": {},
     "output_type": "execute_result"
    }
   ],
   "source": [
    "train_generator"
   ]
  },
  {
   "cell_type": "code",
   "execution_count": 29,
   "id": "ea27ac59-289c-45cc-be64-72ff835c1800",
   "metadata": {},
   "outputs": [
    {
     "name": "stdout",
     "output_type": "stream",
     "text": [
      "Batch Data Size:  (20, 150, 150, 3)\n",
      "Batch Label Size:  (20,)\n"
     ]
    }
   ],
   "source": [
    "for data_batch, labels_batch in train_generator:\n",
    "    print('Batch Data Size: ', data_batch.shape)\n",
    "    print('Batch Label Size: ', labels_batch.shape)\n",
    "    break"
   ]
  },
  {
   "cell_type": "code",
   "execution_count": 33,
   "id": "579793ff-8ad4-426b-b445-a51b0d09a849",
   "metadata": {},
   "outputs": [
    {
     "name": "stdout",
     "output_type": "stream",
     "text": [
      "Epoch 1/30\n",
      "100/100 [==============================] - 182s 2s/step - loss: 0.7432 - accuracy: 0.5175 - val_loss: 0.6824 - val_accuracy: 0.5300\n",
      "Epoch 2/30\n",
      "100/100 [==============================] - 166s 2s/step - loss: 0.6964 - accuracy: 0.5790 - val_loss: 0.6739 - val_accuracy: 0.5630\n",
      "Epoch 3/30\n",
      "100/100 [==============================] - 166s 2s/step - loss: 0.6278 - accuracy: 0.6465 - val_loss: 0.6380 - val_accuracy: 0.6330\n",
      "Epoch 4/30\n",
      "100/100 [==============================] - 167s 2s/step - loss: 0.5888 - accuracy: 0.6985 - val_loss: 0.5949 - val_accuracy: 0.6970\n",
      "Epoch 5/30\n",
      "100/100 [==============================] - 166s 2s/step - loss: 0.5294 - accuracy: 0.7245 - val_loss: 0.5635 - val_accuracy: 0.7030\n",
      "Epoch 6/30\n",
      "100/100 [==============================] - 165s 2s/step - loss: 0.4959 - accuracy: 0.7765 - val_loss: 0.5846 - val_accuracy: 0.7120\n",
      "Epoch 7/30\n",
      "100/100 [==============================] - 159s 2s/step - loss: 0.4255 - accuracy: 0.7995 - val_loss: 0.6277 - val_accuracy: 0.7070\n",
      "Epoch 8/30\n",
      "100/100 [==============================] - 161s 2s/step - loss: 0.3580 - accuracy: 0.8435 - val_loss: 0.6534 - val_accuracy: 0.7230\n",
      "Epoch 9/30\n",
      "100/100 [==============================] - 164s 2s/step - loss: 0.2946 - accuracy: 0.8740 - val_loss: 0.6992 - val_accuracy: 0.7400\n",
      "Epoch 10/30\n",
      "100/100 [==============================] - 162s 2s/step - loss: 0.2265 - accuracy: 0.9035 - val_loss: 0.7615 - val_accuracy: 0.7260\n",
      "Epoch 11/30\n",
      "100/100 [==============================] - 165s 2s/step - loss: 0.1829 - accuracy: 0.9255 - val_loss: 1.3321 - val_accuracy: 0.6410\n",
      "Epoch 12/30\n",
      "100/100 [==============================] - 167s 2s/step - loss: 0.1413 - accuracy: 0.9430 - val_loss: 1.0704 - val_accuracy: 0.7040\n",
      "Epoch 13/30\n",
      "100/100 [==============================] - 164s 2s/step - loss: 0.1180 - accuracy: 0.9525 - val_loss: 1.1084 - val_accuracy: 0.7040\n",
      "Epoch 14/30\n",
      "100/100 [==============================] - 164s 2s/step - loss: 0.0744 - accuracy: 0.9720 - val_loss: 1.6044 - val_accuracy: 0.7190\n",
      "Epoch 15/30\n",
      "100/100 [==============================] - 162s 2s/step - loss: 0.1022 - accuracy: 0.9725 - val_loss: 1.3344 - val_accuracy: 0.7200\n",
      "Epoch 16/30\n",
      "100/100 [==============================] - 165s 2s/step - loss: 0.0640 - accuracy: 0.9790 - val_loss: 1.6005 - val_accuracy: 0.7200\n",
      "Epoch 17/30\n",
      "100/100 [==============================] - 173s 2s/step - loss: 0.0706 - accuracy: 0.9745 - val_loss: 1.6092 - val_accuracy: 0.7110\n",
      "Epoch 18/30\n",
      "100/100 [==============================] - 163s 2s/step - loss: 0.0706 - accuracy: 0.9810 - val_loss: 1.7193 - val_accuracy: 0.6970\n",
      "Epoch 19/30\n",
      "100/100 [==============================] - 163s 2s/step - loss: 0.0502 - accuracy: 0.9830 - val_loss: 2.0947 - val_accuracy: 0.7320\n",
      "Epoch 20/30\n",
      "100/100 [==============================] - 162s 2s/step - loss: 0.0329 - accuracy: 0.9900 - val_loss: 2.2804 - val_accuracy: 0.7450\n",
      "Epoch 21/30\n",
      "100/100 [==============================] - 163s 2s/step - loss: 0.0408 - accuracy: 0.9870 - val_loss: 2.4390 - val_accuracy: 0.7220\n",
      "Epoch 22/30\n",
      "100/100 [==============================] - 163s 2s/step - loss: 0.0698 - accuracy: 0.9810 - val_loss: 2.9209 - val_accuracy: 0.7030\n",
      "Epoch 23/30\n",
      "100/100 [==============================] - 165s 2s/step - loss: 0.0438 - accuracy: 0.9875 - val_loss: 2.5835 - val_accuracy: 0.7060\n",
      "Epoch 24/30\n",
      "100/100 [==============================] - 163s 2s/step - loss: 0.0492 - accuracy: 0.9850 - val_loss: 2.2098 - val_accuracy: 0.6890\n",
      "Epoch 25/30\n",
      "100/100 [==============================] - 163s 2s/step - loss: 0.0683 - accuracy: 0.9795 - val_loss: 2.5935 - val_accuracy: 0.7180\n",
      "Epoch 26/30\n",
      "100/100 [==============================] - 169s 2s/step - loss: 0.0429 - accuracy: 0.9910 - val_loss: 3.5634 - val_accuracy: 0.6940\n",
      "Epoch 27/30\n",
      "100/100 [==============================] - 160s 2s/step - loss: 0.0714 - accuracy: 0.9890 - val_loss: 2.6431 - val_accuracy: 0.7110\n",
      "Epoch 28/30\n",
      "100/100 [==============================] - 165s 2s/step - loss: 0.0350 - accuracy: 0.9935 - val_loss: 3.7602 - val_accuracy: 0.7070\n",
      "Epoch 29/30\n",
      "100/100 [==============================] - 158s 2s/step - loss: 0.0636 - accuracy: 0.9840 - val_loss: 2.4413 - val_accuracy: 0.7080\n",
      "Epoch 30/30\n",
      "100/100 [==============================] - 159s 2s/step - loss: 0.0411 - accuracy: 0.9900 - val_loss: 3.8048 - val_accuracy: 0.7010\n"
     ]
    }
   ],
   "source": [
    "history = model.fit_generator(\n",
    "    train_generator,\n",
    "    steps_per_epoch=100, #이미지를 읽어와 처리하는 단위. 100개 단위로 끊어서 처리\n",
    "    epochs=30, #총 30번을 반복\n",
    "    validation_data=validation_generator,\n",
    "    validation_steps=50 # 50개 단위로 검증\n",
    ")"
   ]
  },
  {
   "cell_type": "code",
   "execution_count": 34,
   "id": "1d8cfb23-baf7-4b23-b2c7-6d891e69b7d7",
   "metadata": {},
   "outputs": [],
   "source": [
    "model.save('cats_and_dogs_small_1.0.h5') #케라스 파일 확장자는 .h5"
   ]
  },
  {
   "cell_type": "code",
   "execution_count": 48,
   "id": "3da9dbdb-f9e2-4a65-baef-f516164078a1",
   "metadata": {},
   "outputs": [
    {
     "data": {
      "image/png": "[encoded data removed]",
      "text/plain": [
       "<Figure size 432x288 with 1 Axes>"
      ]
     },
     "metadata": {
      "needs_background": "light"
     },
     "output_type": "display_data"
    },
    {
     "data": {
      "image/png": "[encoded data removed]",
      "text/plain": [
       "<Figure size 432x288 with 1 Axes>"
      ]
     },
     "metadata": {
      "needs_background": "light"
     },
     "output_type": "display_data"
    }
   ],
   "source": [
    "import matplotlib.pyplot as plt\n",
    "\n",
    "acc = history.history['accuracy']\n",
    "val_acc = history.history['val_accuracy']\n",
    "loss = history.history['loss']\n",
    "val_loss = history.history['val_loss']\n",
    "\n",
    "epochs = range(len(acc))\n",
    "\n",
    "plt.plot(epochs, acc, 'bo', label='Training accuracy')\n",
    "plt.plot(epochs, val_acc, 'b', label='Validation accuracy')\n",
    "plt.title('Training and validation accuracy')\n",
    "plt.legend()\n",
    "\n",
    "plt.figure()\n",
    "\n",
    "plt.plot(epochs, loss, 'bo', label='Training loss')\n",
    "plt.plot(epochs, val_loss, 'b', label='Validation loss')\n",
    "plt.title('Training and validation loss')\n",
    "plt.legend()\n",
    "\n",
    "plt.show()"
   ]
  },
  {
   "cell_type": "markdown",
   "id": "ab4cf752",
   "metadata": {},
   "source": [
    "- 과대적합의 특성을 확인"
   ]
  },
  {
   "cell_type": "code",
   "execution_count": 49,
   "id": "000db76a-7411-4a5c-a671-8908c4da07e7",
   "metadata": {},
   "outputs": [],
   "source": [
    "#Data가 절대적으로 적을 때 증식하는 방법1(이미 내장되어 있다. 사진을 돌리거나 각도조절해서 다른 사진인 것 처럼)\n",
    "datagen = ImageDataGenerator(\n",
    "    rotation_range =  40, #사진회전\n",
    "    width_shift_range = 0.2, #수평 이동\n",
    "    height_shift_range = 0.2, # 수직 이동\n",
    "    shear_range = 0.2, # 기울기 변환\n",
    "    zoom_range = 0.2,# 확대 범위\n",
    "    horizontal_flip = True, # 수평으로 뒤집음\n",
    "    fill_mode='nearest'# 가로, 세로 이동으로 인해 새롭게 생성한 픽셀을 채움.\n",
    ")"
   ]
  },
  {
   "cell_type": "code",
   "execution_count": 55,
   "id": "958eddd9-2851-4556-bb82-8204e804b24d",
   "metadata": {
    "collapsed": true
   },
   "outputs": [
    {
     "ename": "AttributeError",
     "evalue": "module 'tensorflow.compat.v2' has no attribute '__internal__'",
     "output_type": "error",
     "traceback": [
      "\u001b[1;31m---------------------------------------------------------------------------\u001b[0m",
      "\u001b[1;31mAttributeError\u001b[0m                            Traceback (most recent call last)",
      "Input \u001b[1;32mIn [55]\u001b[0m, in \u001b[0;36m<cell line: 1>\u001b[1;34m()\u001b[0m\n\u001b[1;32m----> 1\u001b[0m \u001b[38;5;28;01mfrom\u001b[39;00m \u001b[38;5;21;01mkeras\u001b[39;00m\u001b[38;5;21;01m.\u001b[39;00m\u001b[38;5;21;01mpreprocessing\u001b[39;00m \u001b[38;5;28;01mimport\u001b[39;00m image\n\u001b[0;32m      3\u001b[0m fnames \u001b[38;5;241m=\u001b[39m \u001b[38;5;28msorted\u001b[39m([os\u001b[38;5;241m.\u001b[39mpath\u001b[38;5;241m.\u001b[39mjoin(train_cats_dir,fname) \u001b[38;5;28;01mfor\u001b[39;00m fname \u001b[38;5;129;01min\u001b[39;00m os\u001b[38;5;241m.\u001b[39mlistdir(train_cats_dir)])\n\u001b[0;32m      5\u001b[0m img_path \u001b[38;5;241m=\u001b[39m fnames[\u001b[38;5;241m4\u001b[39m]\n",
      "File \u001b[1;32mC:\\Miniconda\\envs\\azureml_py38\\lib\\site-packages\\keras\\__init__.py:20\u001b[0m, in \u001b[0;36m<module>\u001b[1;34m\u001b[0m\n\u001b[0;32m      1\u001b[0m \u001b[38;5;66;03m# Copyright 2015 The TensorFlow Authors. All Rights Reserved.\u001b[39;00m\n\u001b[0;32m      2\u001b[0m \u001b[38;5;66;03m#\u001b[39;00m\n\u001b[0;32m      3\u001b[0m \u001b[38;5;66;03m# Licensed under the Apache License, Version 2.0 (the \"License\");\u001b[39;00m\n\u001b[1;32m   (...)\u001b[0m\n\u001b[0;32m     13\u001b[0m \u001b[38;5;66;03m# limitations under the License.\u001b[39;00m\n\u001b[0;32m     14\u001b[0m \u001b[38;5;66;03m# ==============================================================================\u001b[39;00m\n\u001b[0;32m     15\u001b[0m \u001b[38;5;124;03m\"\"\"Implementation of the Keras API, the high-level API of TensorFlow.\u001b[39;00m\n\u001b[0;32m     16\u001b[0m \n\u001b[0;32m     17\u001b[0m \u001b[38;5;124;03mDetailed documentation and user guides are available at\u001b[39;00m\n\u001b[0;32m     18\u001b[0m \u001b[38;5;124;03m[keras.io](https://keras.io).\u001b[39;00m\n\u001b[0;32m     19\u001b[0m \u001b[38;5;124;03m\"\"\"\u001b[39;00m\n\u001b[1;32m---> 20\u001b[0m \u001b[38;5;28;01mfrom\u001b[39;00m \u001b[38;5;21;01mkeras\u001b[39;00m \u001b[38;5;28;01mimport\u001b[39;00m distribute\n\u001b[0;32m     21\u001b[0m \u001b[38;5;28;01mfrom\u001b[39;00m \u001b[38;5;21;01mkeras\u001b[39;00m \u001b[38;5;28;01mimport\u001b[39;00m models\n\u001b[0;32m     22\u001b[0m \u001b[38;5;28;01mfrom\u001b[39;00m \u001b[38;5;21;01mkeras\u001b[39;00m\u001b[38;5;21;01m.\u001b[39;00m\u001b[38;5;21;01mengine\u001b[39;00m\u001b[38;5;21;01m.\u001b[39;00m\u001b[38;5;21;01minput_layer\u001b[39;00m \u001b[38;5;28;01mimport\u001b[39;00m Input\n",
      "File \u001b[1;32mC:\\Miniconda\\envs\\azureml_py38\\lib\\site-packages\\keras\\distribute\\__init__.py:18\u001b[0m, in \u001b[0;36m<module>\u001b[1;34m\u001b[0m\n\u001b[0;32m      1\u001b[0m \u001b[38;5;66;03m# Copyright 2019 The TensorFlow Authors. All Rights Reserved.\u001b[39;00m\n\u001b[0;32m      2\u001b[0m \u001b[38;5;66;03m#\u001b[39;00m\n\u001b[0;32m      3\u001b[0m \u001b[38;5;66;03m# Licensed under the Apache License, Version 2.0 (the \"License\");\u001b[39;00m\n\u001b[1;32m   (...)\u001b[0m\n\u001b[0;32m     13\u001b[0m \u001b[38;5;66;03m# limitations under the License.\u001b[39;00m\n\u001b[0;32m     14\u001b[0m \u001b[38;5;66;03m# ==============================================================================\u001b[39;00m\n\u001b[0;32m     15\u001b[0m \u001b[38;5;124;03m\"\"\"Keras' Distribution Strategy library.\"\"\"\u001b[39;00m\n\u001b[1;32m---> 18\u001b[0m \u001b[38;5;28;01mfrom\u001b[39;00m \u001b[38;5;21;01mkeras\u001b[39;00m\u001b[38;5;21;01m.\u001b[39;00m\u001b[38;5;21;01mdistribute\u001b[39;00m \u001b[38;5;28;01mimport\u001b[39;00m sidecar_evaluator\n",
      "File \u001b[1;32mC:\\Miniconda\\envs\\azureml_py38\\lib\\site-packages\\keras\\distribute\\sidecar_evaluator.py:22\u001b[0m, in \u001b[0;36m<module>\u001b[1;34m\u001b[0m\n\u001b[0;32m     20\u001b[0m \u001b[38;5;28;01mfrom\u001b[39;00m \u001b[38;5;21;01mtensorflow\u001b[39;00m\u001b[38;5;21;01m.\u001b[39;00m\u001b[38;5;21;01mpython\u001b[39;00m\u001b[38;5;21;01m.\u001b[39;00m\u001b[38;5;21;01mplatform\u001b[39;00m \u001b[38;5;28;01mimport\u001b[39;00m tf_logging \u001b[38;5;28;01mas\u001b[39;00m logging\n\u001b[0;32m     21\u001b[0m \u001b[38;5;28;01mfrom\u001b[39;00m \u001b[38;5;21;01mtensorflow\u001b[39;00m\u001b[38;5;21;01m.\u001b[39;00m\u001b[38;5;21;01mpython\u001b[39;00m\u001b[38;5;21;01m.\u001b[39;00m\u001b[38;5;21;01mutil\u001b[39;00m \u001b[38;5;28;01mimport\u001b[39;00m deprecation\n\u001b[1;32m---> 22\u001b[0m \u001b[38;5;28;01mfrom\u001b[39;00m \u001b[38;5;21;01mkeras\u001b[39;00m\u001b[38;5;21;01m.\u001b[39;00m\u001b[38;5;21;01moptimizers\u001b[39;00m\u001b[38;5;21;01m.\u001b[39;00m\u001b[38;5;21;01moptimizer_experimental\u001b[39;00m \u001b[38;5;28;01mimport\u001b[39;00m (\n\u001b[0;32m     23\u001b[0m     optimizer \u001b[38;5;28;01mas\u001b[39;00m optimizer_experimental,\n\u001b[0;32m     24\u001b[0m )\n\u001b[0;32m     25\u001b[0m \u001b[38;5;28;01mfrom\u001b[39;00m \u001b[38;5;21;01mtensorflow\u001b[39;00m\u001b[38;5;21;01m.\u001b[39;00m\u001b[38;5;21;01mpython\u001b[39;00m\u001b[38;5;21;01m.\u001b[39;00m\u001b[38;5;21;01mutil\u001b[39;00m\u001b[38;5;21;01m.\u001b[39;00m\u001b[38;5;21;01mtf_export\u001b[39;00m \u001b[38;5;28;01mimport\u001b[39;00m keras_export\n\u001b[0;32m     27\u001b[0m _PRINT_EVAL_STEP_EVERY_SEC \u001b[38;5;241m=\u001b[39m \u001b[38;5;241m60.0\u001b[39m\n",
      "File \u001b[1;32mC:\\Miniconda\\envs\\azureml_py38\\lib\\site-packages\\keras\\optimizers\\__init__.py:25\u001b[0m, in \u001b[0;36m<module>\u001b[1;34m\u001b[0m\n\u001b[0;32m     22\u001b[0m \u001b[38;5;28;01mimport\u001b[39;00m \u001b[38;5;21;01mtensorflow\u001b[39;00m\u001b[38;5;21;01m.\u001b[39;00m\u001b[38;5;21;01mcompat\u001b[39;00m\u001b[38;5;21;01m.\u001b[39;00m\u001b[38;5;21;01mv2\u001b[39;00m \u001b[38;5;28;01mas\u001b[39;00m \u001b[38;5;21;01mtf\u001b[39;00m\n\u001b[0;32m     24\u001b[0m \u001b[38;5;66;03m# Imports needed for deserialization.\u001b[39;00m\n\u001b[1;32m---> 25\u001b[0m \u001b[38;5;28;01mfrom\u001b[39;00m \u001b[38;5;21;01mkeras\u001b[39;00m \u001b[38;5;28;01mimport\u001b[39;00m backend\n\u001b[0;32m     26\u001b[0m \u001b[38;5;28;01mfrom\u001b[39;00m \u001b[38;5;21;01mkeras\u001b[39;00m\u001b[38;5;21;01m.\u001b[39;00m\u001b[38;5;21;01moptimizers\u001b[39;00m\u001b[38;5;21;01m.\u001b[39;00m\u001b[38;5;21;01mlegacy\u001b[39;00m \u001b[38;5;28;01mimport\u001b[39;00m adadelta \u001b[38;5;28;01mas\u001b[39;00m adadelta_legacy\n\u001b[0;32m     27\u001b[0m \u001b[38;5;28;01mfrom\u001b[39;00m \u001b[38;5;21;01mkeras\u001b[39;00m\u001b[38;5;21;01m.\u001b[39;00m\u001b[38;5;21;01moptimizers\u001b[39;00m\u001b[38;5;21;01m.\u001b[39;00m\u001b[38;5;21;01mlegacy\u001b[39;00m \u001b[38;5;28;01mimport\u001b[39;00m adagrad \u001b[38;5;28;01mas\u001b[39;00m adagrad_legacy\n",
      "File \u001b[1;32mC:\\Miniconda\\envs\\azureml_py38\\lib\\site-packages\\keras\\backend.py:32\u001b[0m, in \u001b[0;36m<module>\u001b[1;34m\u001b[0m\n\u001b[0;32m     29\u001b[0m \u001b[38;5;28;01mimport\u001b[39;00m \u001b[38;5;21;01mnumpy\u001b[39;00m \u001b[38;5;28;01mas\u001b[39;00m \u001b[38;5;21;01mnp\u001b[39;00m\n\u001b[0;32m     30\u001b[0m \u001b[38;5;28;01mimport\u001b[39;00m \u001b[38;5;21;01mtensorflow\u001b[39;00m\u001b[38;5;21;01m.\u001b[39;00m\u001b[38;5;21;01mcompat\u001b[39;00m\u001b[38;5;21;01m.\u001b[39;00m\u001b[38;5;21;01mv2\u001b[39;00m \u001b[38;5;28;01mas\u001b[39;00m \u001b[38;5;21;01mtf\u001b[39;00m\n\u001b[1;32m---> 32\u001b[0m \u001b[38;5;28;01mfrom\u001b[39;00m \u001b[38;5;21;01mkeras\u001b[39;00m \u001b[38;5;28;01mimport\u001b[39;00m backend_config\n\u001b[0;32m     33\u001b[0m \u001b[38;5;28;01mfrom\u001b[39;00m \u001b[38;5;21;01mkeras\u001b[39;00m\u001b[38;5;21;01m.\u001b[39;00m\u001b[38;5;21;01mdistribute\u001b[39;00m \u001b[38;5;28;01mimport\u001b[39;00m distribute_coordinator_utils \u001b[38;5;28;01mas\u001b[39;00m dc\n\u001b[0;32m     34\u001b[0m \u001b[38;5;28;01mfrom\u001b[39;00m \u001b[38;5;21;01mkeras\u001b[39;00m\u001b[38;5;21;01m.\u001b[39;00m\u001b[38;5;21;01mengine\u001b[39;00m \u001b[38;5;28;01mimport\u001b[39;00m keras_tensor\n",
      "File \u001b[1;32mC:\\Miniconda\\envs\\azureml_py38\\lib\\site-packages\\keras\\backend_config.py:33\u001b[0m, in \u001b[0;36m<module>\u001b[1;34m\u001b[0m\n\u001b[0;32m     28\u001b[0m \u001b[38;5;66;03m# Default image data format, one of \"channels_last\", \"channels_first\".\u001b[39;00m\n\u001b[0;32m     29\u001b[0m _IMAGE_DATA_FORMAT \u001b[38;5;241m=\u001b[39m \u001b[38;5;124m\"\u001b[39m\u001b[38;5;124mchannels_last\u001b[39m\u001b[38;5;124m\"\u001b[39m\n\u001b[0;32m     32\u001b[0m \u001b[38;5;129m@keras_export\u001b[39m(\u001b[38;5;124m\"\u001b[39m\u001b[38;5;124mkeras.backend.epsilon\u001b[39m\u001b[38;5;124m\"\u001b[39m)\n\u001b[1;32m---> 33\u001b[0m \u001b[38;5;129m@tf\u001b[39m\u001b[38;5;241;43m.\u001b[39;49m\u001b[43m__internal__\u001b[49m\u001b[38;5;241m.\u001b[39mdispatch\u001b[38;5;241m.\u001b[39madd_dispatch_support\n\u001b[0;32m     34\u001b[0m \u001b[38;5;28;01mdef\u001b[39;00m \u001b[38;5;21mepsilon\u001b[39m():\n\u001b[0;32m     35\u001b[0m     \u001b[38;5;124;03m\"\"\"Returns the value of the fuzz factor used in numeric expressions.\u001b[39;00m\n\u001b[0;32m     36\u001b[0m \n\u001b[0;32m     37\u001b[0m \u001b[38;5;124;03m    Returns:\u001b[39;00m\n\u001b[1;32m   (...)\u001b[0m\n\u001b[0;32m     42\u001b[0m \u001b[38;5;124;03m    1e-07\u001b[39;00m\n\u001b[0;32m     43\u001b[0m \u001b[38;5;124;03m    \"\"\"\u001b[39;00m\n\u001b[0;32m     44\u001b[0m     \u001b[38;5;28;01mreturn\u001b[39;00m _EPSILON\n",
      "\u001b[1;31mAttributeError\u001b[0m: module 'tensorflow.compat.v2' has no attribute '__internal__'"
     ]
    }
   ],
   "source": [
    "# 이미지 전처리 유틸리티 모듈\n",
    "from keras.preprocessing import image # 이미지 볼때 사용\n",
    "\n",
    "fnames = sorted([os.path.join(train_cats_dir, fname) for fname in os.listdir(train_cats_dir)])\n",
    "\n",
    "# 증식할 이미지 선택합니다\n",
    "img_path = fnames[4]\n",
    "\n",
    "# 이미지를 읽고 크기를 변경합니다\n",
    "img = image.load_img(img_path, target_size=(150, 150))\n",
    "\n",
    "# (150, 150, 3) 크기의 넘파이 배열로 변환합니다\n",
    "x = image.img_to_array(img)\n",
    "\n",
    "# (1, 150, 150, 3) 크기로 변환합니다\n",
    "x = x.reshape((1,) + x.shape)\n",
    "\n",
    "# flow() 메서드는 랜덤하게 변환된 이미지의 배치를 생성합니다.\n",
    "# 무한 반복되기 때문에 어느 지점에서 중지해야 합니다!\n",
    "i = 0\n",
    "for batch in datagen.flow(x, batch_size=1): # datagen에 의해 사진 증식. batch_size=1 : 한 개당 한번씩.\n",
    "    plt.figure(i)\n",
    "    imgplot = plt.imshow(image.array_to_img(batch[0]))\n",
    "    i += 1\n",
    "    if i % 4 == 0:\n",
    "        break\n",
    "\n",
    "plt.show()"
   ]
  },
  {
   "cell_type": "code",
   "execution_count": null,
   "id": "970bcaef-b801-4cb4-b18b-ee6111032c7e",
   "metadata": {},
   "outputs": [],
   "source": [
    "train_datagen = ImageDataGenerator(\n",
    "    rescale=1./255,\n",
    "    rotation_range=40,\n",
    "    width_shift_range=0.2,\n",
    "    height_shift_range=0.2,\n",
    "    shear_range=0.2,\n",
    "    zoom_range=0.2,\n",
    "    horizontal_flip=True,)\n",
    "\n",
    "# 검증 데이터는 증식되어서는 안 됩니다!\n",
    "test_datagen = ImageDataGenerator(rescale=1./255)\n",
    "\n",
    "train_generator = train_datagen.flow_from_directory(\n",
    "    # 타깃 디렉터리\n",
    "    train_dir,\n",
    "    # 모든 이미지를 150 × 150 크기로 바꿉니다\n",
    "    target_size=(150, 150),\n",
    "    batch_size=32,\n",
    "    # binary_crossentropy 손실을 사용하기 때문에 이진 레이블을 만들어야 합니다\n",
    "    class_mode='binary')\n",
    "\n",
    "validation_generator = test_datagen.flow_from_directory(\n",
    "    validation_dir,\n",
    "    target_size=(150, 150),\n",
    "    batch_size=32,\n",
    "    class_mode='binary')\n",
    "\n",
    "history = model.fit_generator(\n",
    "    train_generator,\n",
    "    steps_per_epoch=100,\n",
    "    epochs=30,\n",
    "    validation_data=validation_generator,\n",
    "    validation_steps=50)"
   ]
  }
 ],
 "metadata": {
  "kernelspec": {
   "display_name": "Python 3 (ipykernel)",
   "language": "python",
   "name": "python3"
  },
  "language_info": {
   "codemirror_mode": {
    "name": "ipython",
    "version": 3
   },
   "file_extension": ".py",
   "mimetype": "text/x-python",
   "name": "python",
   "nbconvert_exporter": "python",
   "pygments_lexer": "ipython3",
   "version": "3.9.12"
  }
 },
 "nbformat": 4,
 "nbformat_minor": 5
}
