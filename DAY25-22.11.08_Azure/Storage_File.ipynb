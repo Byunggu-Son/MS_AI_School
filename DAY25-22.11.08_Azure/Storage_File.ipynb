{
  "nbformat": 4,
  "nbformat_minor": 0,
  "metadata": {
    "colab": {
      "provenance": [],
      "collapsed_sections": []
    },
    "kernelspec": {
      "name": "python3",
      "display_name": "Python 3"
    },
    "language_info": {
      "name": "python"
    }
  },
  "cells": [
    {
      "cell_type": "code",
      "execution_count": 2,
      "metadata": {
        "colab": {
          "base_uri": "https://localhost:8080/"
        },
        "id": "HLTsCiQ6JNPm",
        "outputId": "5008c3b7-bdd6-47d5-e3ce-de932dcbe223"
      },
      "outputs": [
        {
          "output_type": "stream",
          "name": "stdout",
          "text": [
            "Looking in indexes: https://pypi.org/simple, https://us-python.pkg.dev/colab-wheels/public/simple/\n",
            "Collecting azure-storage-file\n",
            "  Downloading azure_storage_file-2.1.0-py2.py3-none-any.whl (36 kB)\n",
            "Collecting azure-storage-common~=2.1\n",
            "  Downloading azure_storage_common-2.1.0-py2.py3-none-any.whl (47 kB)\n",
            "\u001b[K     |████████████████████████████████| 47 kB 2.8 MB/s \n",
            "\u001b[?25hCollecting azure-common>=1.1.5\n",
            "  Downloading azure_common-1.1.28-py2.py3-none-any.whl (14 kB)\n",
            "Requirement already satisfied: python-dateutil in /usr/local/lib/python3.7/dist-packages (from azure-storage-common~=2.1->azure-storage-file) (2.8.2)\n",
            "Collecting cryptography\n",
            "  Downloading cryptography-38.0.3-cp36-abi3-manylinux_2_24_x86_64.whl (4.1 MB)\n",
            "\u001b[K     |████████████████████████████████| 4.1 MB 10.8 MB/s \n",
            "\u001b[?25hRequirement already satisfied: requests in /usr/local/lib/python3.7/dist-packages (from azure-storage-common~=2.1->azure-storage-file) (2.23.0)\n",
            "Requirement already satisfied: cffi>=1.12 in /usr/local/lib/python3.7/dist-packages (from cryptography->azure-storage-common~=2.1->azure-storage-file) (1.15.1)\n",
            "Requirement already satisfied: pycparser in /usr/local/lib/python3.7/dist-packages (from cffi>=1.12->cryptography->azure-storage-common~=2.1->azure-storage-file) (2.21)\n",
            "Requirement already satisfied: six>=1.5 in /usr/local/lib/python3.7/dist-packages (from python-dateutil->azure-storage-common~=2.1->azure-storage-file) (1.15.0)\n",
            "Requirement already satisfied: chardet<4,>=3.0.2 in /usr/local/lib/python3.7/dist-packages (from requests->azure-storage-common~=2.1->azure-storage-file) (3.0.4)\n",
            "Requirement already satisfied: idna<3,>=2.5 in /usr/local/lib/python3.7/dist-packages (from requests->azure-storage-common~=2.1->azure-storage-file) (2.10)\n",
            "Requirement already satisfied: certifi>=2017.4.17 in /usr/local/lib/python3.7/dist-packages (from requests->azure-storage-common~=2.1->azure-storage-file) (2022.9.24)\n",
            "Requirement already satisfied: urllib3!=1.25.0,!=1.25.1,<1.26,>=1.21.1 in /usr/local/lib/python3.7/dist-packages (from requests->azure-storage-common~=2.1->azure-storage-file) (1.24.3)\n",
            "Installing collected packages: cryptography, azure-common, azure-storage-common, azure-storage-file\n",
            "Successfully installed azure-common-1.1.28 azure-storage-common-2.1.0 azure-storage-file-2.1.0 cryptography-38.0.3\n"
          ]
        }
      ],
      "source": [
        "!pip install azure-storage-file"
      ]
    },
    {
      "cell_type": "code",
      "source": [
        "# file Share와 연결하는 코드\n",
        "from azure.storage.file import FileService\n",
        "file_service = FileService(account_name='',\n",
        "                           account_key='')"
      ],
      "metadata": {
        "id": "wL9W9MdQJXi1"
      },
      "execution_count": 4,
      "outputs": []
    },
    {
      "cell_type": "code",
      "source": [
        "# myshare라는 공유 폴더를 생성\n",
        "file_service.create_share('myshare')"
      ],
      "metadata": {
        "colab": {
          "base_uri": "https://localhost:8080/"
        },
        "id": "caxWxxUIM5a2",
        "outputId": "6ac5320c-fa59-42dc-d58d-eca77efbae28"
      },
      "execution_count": 5,
      "outputs": [
        {
          "output_type": "execute_result",
          "data": {
            "text/plain": [
              "True"
            ]
          },
          "metadata": {},
          "execution_count": 5
        }
      ]
    },
    {
      "cell_type": "code",
      "source": [
        "# myshare 안에 샘플 디렉토리인 sampledir을 생성\n",
        "file_service.create_directory('myshare','sampledir')"
      ],
      "metadata": {
        "colab": {
          "base_uri": "https://localhost:8080/"
        },
        "id": "xPP9ZJ7oNIYe",
        "outputId": "35180eb8-0cc9-4f18-d03c-133bdd07052f"
      },
      "execution_count": 6,
      "outputs": [
        {
          "output_type": "execute_result",
          "data": {
            "text/plain": [
              "True"
            ]
          },
          "metadata": {},
          "execution_count": 6
        }
      ]
    },
    {
      "cell_type": "code",
      "source": [
        "# 파일 업로드(ml_map.jpg를 myfile로 해당 공유 폴더에 복사)\n",
        "from azure.storage.file import ContentSettings\n",
        "\n",
        "file_service.create_file_from_path('myshare',\n",
        "                                   None,  #하위폴더를 지정안할거라 None으로 표시\n",
        "                                   'myfile',\n",
        "                                   'ml_map.jpg', # ml_map.jpg를 myfile의 이름으로 업로드\n",
        "                                   content_settings=ContentSettings(content_type='image/jpg'))"
      ],
      "metadata": {
        "id": "N84tSoS3Nl42"
      },
      "execution_count": 8,
      "outputs": []
    },
    {
      "cell_type": "code",
      "source": [
        "공유 폴더안에 파일 목록을 가져와서 보여준다.\n",
        "generator = file_service.list_directories_and_files('myshare')\n",
        "for file_or_dir in generator:\n",
        "  print(file_or_dir.name)"
      ],
      "metadata": {
        "colab": {
          "base_uri": "https://localhost:8080/"
        },
        "id": "Oc-vYzJpOt30",
        "outputId": "436977b6-5d58-4693-b079-b1c74a140c88"
      },
      "execution_count": 9,
      "outputs": [
        {
          "output_type": "stream",
          "name": "stdout",
          "text": [
            "myfile\n",
            "sampledir\n"
          ]
        }
      ]
    },
    {
      "cell_type": "code",
      "source": [
        "# 다시 myfile로 복사된 ml_map.jpg를 out-ml_map.jpg로 가져온다. \n",
        "file_service.get_file_to_path('myshare',None,'myfile','out-ml_map.jpg') # myfile을 out-ml_map.jpg로 다운로드"
      ],
      "metadata": {
        "colab": {
          "base_uri": "https://localhost:8080/"
        },
        "id": "paGYWZCrPkXZ",
        "outputId": "d4b5a6d3-49ff-43d6-d662-32574f4fe026"
      },
      "execution_count": 10,
      "outputs": [
        {
          "output_type": "execute_result",
          "data": {
            "text/plain": [
              "<azure.storage.file.models.File at 0x7f613ff09d50>"
            ]
          },
          "metadata": {},
          "execution_count": 10
        }
      ]
    },
    {
      "cell_type": "code",
      "source": [
        "# 코드로 스냅샷 추가하기(스냅샷을 찍어둔다.)\n",
        "metadata = {\"foo\": \"bar\"}\n",
        "snapshot = file_service.snapshot_share('myshare', metadata=metadata) # 스냅샷이 추가됨. 내가 원하는 공유 폴더들의 목록을 뽑고 할 때 메타데이터로 찾게 됨."
      ],
      "metadata": {
        "id": "1zjSPJfpl6n3"
      },
      "execution_count": 11,
      "outputs": []
    },
    {
      "cell_type": "code",
      "source": [
        "# 전체 스냅샷의 목록을 가져온다.\n",
        "shares = list(file_service.list_shares(include_snapshots=True))\n",
        "\n",
        "for s in shares:\n",
        "  print(s.snapshot)"
      ],
      "metadata": {
        "colab": {
          "base_uri": "https://localhost:8080/"
        },
        "id": "iFDFXq7Hn7Vg",
        "outputId": "cd2aef81-07d0-4119-dd3c-bfca4e4bf9be"
      },
      "execution_count": 16,
      "outputs": [
        {
          "output_type": "stream",
          "name": "stdout",
          "text": [
            "2022-11-08T00:22:42.0000000Z\n",
            "2022-11-08T00:24:23.0000000Z\n",
            "None\n"
          ]
        }
      ]
    },
    {
      "cell_type": "code",
      "source": [
        "# 스냅샷의 파일과 디렉토리 목록을 가져온다. \n",
        "directories_and_files = list(\n",
        "    file_service.list_directories_and_files('myshare', snapshot='2022-11-08T00:24:23.0000000Z')) # 방금 위에서 만든 스냅샷의 이름"
      ],
      "metadata": {
        "id": "h6w8pEyDn_hg"
      },
      "execution_count": 13,
      "outputs": []
    },
    {
      "cell_type": "code",
      "source": [
        "# 파일과 디렉토리 목록을 출력한다. \n",
        "directories_and_files\n",
        "for file_or_dir in generator:\n",
        "  print(file_or_dir.name)"
      ],
      "metadata": {
        "colab": {
          "base_uri": "https://localhost:8080/"
        },
        "id": "_bvLVZK4oeP6",
        "outputId": "a3e5ccb9-ff0b-4080-e14e-592de7b8eba6"
      },
      "execution_count": 14,
      "outputs": [
        {
          "output_type": "stream",
          "name": "stdout",
          "text": [
            "myfile\n",
            "sampledir\n"
          ]
        }
      ]
    },
    {
      "cell_type": "code",
      "source": [
        "# 스냅샷의 삭제 \n",
        "\n",
        "file_service.delete_share('myshare', snapshot='2022-11-08T00:24:23.0000000Z')"
      ],
      "metadata": {
        "colab": {
          "base_uri": "https://localhost:8080/"
        },
        "id": "-_BdEJoIokvl",
        "outputId": "6ebdecc9-dbfe-4545-8651-20d1b6a20e46"
      },
      "execution_count": 17,
      "outputs": [
        {
          "output_type": "execute_result",
          "data": {
            "text/plain": [
              "True"
            ]
          },
          "metadata": {},
          "execution_count": 17
        }
      ]
    },
    {
      "cell_type": "code",
      "source": [
        "# 공유 폴더 내의 파일 삭제\n",
        "file_service.delete_file('myshare', None, 'myfile')"
      ],
      "metadata": {
        "id": "UUW_NSN1op7H"
      },
      "execution_count": 18,
      "outputs": []
    },
    {
      "cell_type": "code",
      "source": [
        "# 공유 폴더의 삭제\n",
        "file_service.delete_share('myshare') \n",
        "# 처음에는 에러가 남. 이유는 스냅샷이 남아있는 상태에서는 폴더 삭제가 안됨. 안전장치 역할. \n",
        "# 처음 portal에서 수동으로 만든 파일이 남아있어서 삭제가 안된 것. 그러므로 수동 삭제 후 코드 실행"
      ],
      "metadata": {
        "colab": {
          "base_uri": "https://localhost:8080/"
        },
        "id": "Uz6EiKxjq0qy",
        "outputId": "f4d77c28-a5dd-45eb-bded-cccdceabb52d"
      },
      "execution_count": 20,
      "outputs": [
        {
          "output_type": "execute_result",
          "data": {
            "text/plain": [
              "True"
            ]
          },
          "metadata": {},
          "execution_count": 20
        }
      ]
    }
  ]
}