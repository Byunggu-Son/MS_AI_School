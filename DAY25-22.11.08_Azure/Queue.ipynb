{
  "nbformat": 4,
  "nbformat_minor": 0,
  "metadata": {
    "colab": {
      "provenance": [],
      "collapsed_sections": []
    },
    "kernelspec": {
      "name": "python3",
      "display_name": "Python 3"
    },
    "language_info": {
      "name": "python"
    }
  },
  "cells": [
    {
      "cell_type": "code",
      "execution_count": null,
      "metadata": {
        "colab": {
          "base_uri": "https://localhost:8080/"
        },
        "id": "QNW99eudzmd1",
        "outputId": "ec28b685-340c-4c24-e799-18194caee032"
      },
      "outputs": [
        {
          "output_type": "stream",
          "name": "stdout",
          "text": [
            "Looking in indexes: https://pypi.org/simple, https://us-python.pkg.dev/colab-wheels/public/simple/\n",
            "Collecting azure-storage-queue==2.1.0\n",
            "  Downloading azure_storage_queue-2.1.0-py2.py3-none-any.whl (24 kB)\n",
            "Collecting azure-common>=1.1.5\n",
            "  Downloading azure_common-1.1.28-py2.py3-none-any.whl (14 kB)\n",
            "Collecting azure-storage-common~=2.1\n",
            "  Downloading azure_storage_common-2.1.0-py2.py3-none-any.whl (47 kB)\n",
            "\u001b[K     |████████████████████████████████| 47 kB 2.5 MB/s \n",
            "\u001b[?25hRequirement already satisfied: python-dateutil in /usr/local/lib/python3.7/dist-packages (from azure-storage-common~=2.1->azure-storage-queue==2.1.0) (2.8.2)\n",
            "Requirement already satisfied: requests in /usr/local/lib/python3.7/dist-packages (from azure-storage-common~=2.1->azure-storage-queue==2.1.0) (2.23.0)\n",
            "Collecting cryptography\n",
            "  Downloading cryptography-38.0.3-cp36-abi3-manylinux_2_24_x86_64.whl (4.1 MB)\n",
            "\u001b[K     |████████████████████████████████| 4.1 MB 26.1 MB/s \n",
            "\u001b[?25hRequirement already satisfied: cffi>=1.12 in /usr/local/lib/python3.7/dist-packages (from cryptography->azure-storage-common~=2.1->azure-storage-queue==2.1.0) (1.15.1)\n",
            "Requirement already satisfied: pycparser in /usr/local/lib/python3.7/dist-packages (from cffi>=1.12->cryptography->azure-storage-common~=2.1->azure-storage-queue==2.1.0) (2.21)\n",
            "Requirement already satisfied: six>=1.5 in /usr/local/lib/python3.7/dist-packages (from python-dateutil->azure-storage-common~=2.1->azure-storage-queue==2.1.0) (1.15.0)\n",
            "Requirement already satisfied: chardet<4,>=3.0.2 in /usr/local/lib/python3.7/dist-packages (from requests->azure-storage-common~=2.1->azure-storage-queue==2.1.0) (3.0.4)\n",
            "Requirement already satisfied: idna<3,>=2.5 in /usr/local/lib/python3.7/dist-packages (from requests->azure-storage-common~=2.1->azure-storage-queue==2.1.0) (2.10)\n",
            "Requirement already satisfied: certifi>=2017.4.17 in /usr/local/lib/python3.7/dist-packages (from requests->azure-storage-common~=2.1->azure-storage-queue==2.1.0) (2022.9.24)\n",
            "Requirement already satisfied: urllib3!=1.25.0,!=1.25.1,<1.26,>=1.21.1 in /usr/local/lib/python3.7/dist-packages (from requests->azure-storage-common~=2.1->azure-storage-queue==2.1.0) (1.24.3)\n",
            "Installing collected packages: cryptography, azure-common, azure-storage-common, azure-storage-queue\n",
            "Successfully installed azure-common-1.1.28 azure-storage-common-2.1.0 azure-storage-queue-2.1.0 cryptography-38.0.3\n"
          ]
        }
      ],
      "source": [
        "!pip install azure-storage-queue==2.1.0 # 특정 버전을 설치하고 싶을 시."
      ]
    },
    {
      "cell_type": "code",
      "source": [
        "from azure.storage.queue import QueueService, QueueMessageFormat"
      ],
      "metadata": {
        "id": "clRKnU43zxLN"
      },
      "execution_count": null,
      "outputs": []
    },
    {
      "cell_type": "code",
      "source": [
        "import os, uuid\n",
        "# uuid 난수 만들어 줌"
      ],
      "metadata": {
        "id": "B0j9P7zl0dyr"
      },
      "execution_count": null,
      "outputs": []
    },
    {
      "cell_type": "code",
      "source": [
        "connect_str = ''\n",
        "queue_name =  'queue-' + str(uuid.uuid4()) # random의 경우 겹칠 수는 있으나, 난수가 겹칠 일은 없기 때문에 파일 이름으로 겹치지 않는 uuid를 사용함.\n",
        "\n",
        "print('Creating queue:' + queue_name)\n",
        "queue_service = QueueService(connection_string=connect_str) # queue service까지 연결은 했으나, 아직까지 queue는 생성하지 않았음.\n",
        "\n",
        "queue_service.create_queue(queue_name) # queue생성\n"
      ],
      "metadata": {
        "colab": {
          "base_uri": "https://localhost:8080/"
        },
        "id": "hVWOBGpb0j93",
        "outputId": "c8e18aba-fcf4-4d4d-9cd1-5c0e820fc0c5"
      },
      "execution_count": null,
      "outputs": [
        {
          "output_type": "stream",
          "name": "stdout",
          "text": [
            "Creating queue:queue-ea747f43-50e7-4cba-87d8-8996a357dfc2\n"
          ]
        },
        {
          "output_type": "execute_result",
          "data": {
            "text/plain": [
              "True"
            ]
          },
          "metadata": {},
          "execution_count": 21
        }
      ]
    },
    {
      "cell_type": "code",
      "source": [
        "# 내용 집어넣기\n",
        "\n",
        "# Setup Base64 encoding and decoding functions\n",
        "# 인터넷 상에 message보낼 때는 encoding이 필요하다.\n",
        "queue_service.encode_function = QueueMessageFormat.binary_base64encode\n",
        "queue_service.decode_function = QueueMessageFormat.binary_base64decode # 그냥 문자열만 주고 받는게 아닌, 이 두개를 선언해서 바이너리로 엔코딩과 디코딩으로 주고 받음.\n",
        "\n",
        "import base64\n",
        "message = 'Hello Queue'\n",
        "\n",
        "print('Adding message: ' + message) # encoding 되면 binary data이다.\n",
        "message = base64.b64encode(message.encode('utf-8')) # queue는 base64, 코드화해서 사용하므로 앞에 base64붙인다.\n",
        "message\n",
        "\n",
        "# encoding된 데이터는 binary데이터이기에 맨 앞에 b가 붙어 있다.\n",
        "# 한글로 된 주소는 깨지기 때문에 encoding해서 보낸다고 한다.\n",
        "\n",
        "# queue 안에 메세지 넣기\n",
        "queue_service.put_message(queue_name, message)"
      ],
      "metadata": {
        "colab": {
          "base_uri": "https://localhost:8080/"
        },
        "id": "GaWvP5Ir1a9P",
        "outputId": "2f458f00-fb05-4515-9978-b55103e3536b"
      },
      "execution_count": null,
      "outputs": [
        {
          "output_type": "stream",
          "name": "stdout",
          "text": [
            "Adding message: Hello Queue\n"
          ]
        },
        {
          "output_type": "execute_result",
          "data": {
            "text/plain": [
              "<azure.storage.queue.models.QueueMessage at 0x7fe37467a110>"
            ]
          },
          "metadata": {},
          "execution_count": 22
        }
      ]
    },
    {
      "cell_type": "code",
      "source": [
        "# 들어가있는 queue 메세지를 확인하기\n",
        "\n",
        "messages = queue_service.peek_messages(queue_name)\n",
        "\n",
        "for peeked_message in messages:\n",
        "\n",
        "# 그냥 메세지를 보려고 하면 안됨. 엔코딩 되어있기에 디코딩 작업이 필요!!\n",
        "  message = base64.b64decode(peeked_message.content)\n",
        "  print('Peeked message: ' + message.decode('utf-8'))"
      ],
      "metadata": {
        "colab": {
          "base_uri": "https://localhost:8080/"
        },
        "id": "QsU3_6wx57VS",
        "outputId": "86b66db1-ce91-4727-d391-c35857a5fb3a"
      },
      "execution_count": null,
      "outputs": [
        {
          "output_type": "stream",
          "name": "stdout",
          "text": [
            "Peeked message: Hello Queue\n"
          ]
        }
      ]
    },
    {
      "cell_type": "code",
      "source": [
        "# get을 통해 완전히 가져오기\n",
        "\n",
        "messsage = queue_service.get_messages(queue_name)\n",
        "\n",
        "for msg in messages:\n",
        "  #가지고 온 메세지 그대로 볼 수 없어서 디코딩을 한다.\n",
        "  message = base64.b64decode(msg.content)\n",
        "  print('Message: ' + message.decode('utf-8'))"
      ],
      "metadata": {
        "colab": {
          "base_uri": "https://localhost:8080/"
        },
        "id": "wWBXKwTf8W6K",
        "outputId": "00da824d-655d-416c-e425-d1fc17d4f2ab"
      },
      "execution_count": null,
      "outputs": [
        {
          "output_type": "stream",
          "name": "stdout",
          "text": [
            "Message: Hello Queue\n"
          ]
        }
      ]
    },
    {
      "cell_type": "code",
      "source": [
        "messsage = queue_service.get_messages(queue_name)\n",
        "\n",
        "for msg in messages:\n",
        "  #가지고 온 메세지 그대로 볼 수 없어서 디코딩을 한다.\n",
        "  message = base64.b64decode(msg.content)\n",
        "  print('Message: ' + message.decode('utf-8'))"
      ],
      "metadata": {
        "colab": {
          "base_uri": "https://localhost:8080/"
        },
        "id": "0L8DqQb0-LXW",
        "outputId": "152cee1d-cc60-4b86-87a1-6fd271d3c0ad"
      },
      "execution_count": null,
      "outputs": [
        {
          "output_type": "stream",
          "name": "stdout",
          "text": [
            "Message: Hello Queue\n"
          ]
        }
      ]
    },
    {
      "cell_type": "code",
      "source": [
        "# 메세지를 다 가져오면 더 이상 가져올 게 없어서 출력값이 안 보인다.\n",
        "# 이 순서는 자료의 순서일 수도 있고, 명령어의 순서일 수도 있다.\n",
        "messsage = queue_service.get_messages(queue_name)\n",
        "\n",
        "for msg in messages:\n",
        "  message = base64.b64decode(msg.content)\n",
        "  print('Message: ' + message.decode('utf-8'))"
      ],
      "metadata": {
        "id": "rfAVUVeF-gqp"
      },
      "execution_count": null,
      "outputs": []
    },
    {
      "cell_type": "code",
      "source": [
        "print('Deleting queue: ' + queue_name)\n",
        "queue_service.delete_queue(queue_name)"
      ],
      "metadata": {
        "colab": {
          "base_uri": "https://localhost:8080/"
        },
        "id": "FUf-IpMN-hev",
        "outputId": "802f03d0-cf2a-41e2-a44d-9e19fe2b1a7b"
      },
      "execution_count": null,
      "outputs": [
        {
          "output_type": "stream",
          "name": "stdout",
          "text": [
            "Deleting queue: queue-ea747f43-50e7-4cba-87d8-8996a357dfc2\n"
          ]
        },
        {
          "output_type": "execute_result",
          "data": {
            "text/plain": [
              "True"
            ]
          },
          "metadata": {},
          "execution_count": 39
        }
      ]
    },
    {
      "cell_type": "code",
      "source": [],
      "metadata": {
        "id": "4i5ELw3K-zZf"
      },
      "execution_count": null,
      "outputs": []
    }
  ]
}