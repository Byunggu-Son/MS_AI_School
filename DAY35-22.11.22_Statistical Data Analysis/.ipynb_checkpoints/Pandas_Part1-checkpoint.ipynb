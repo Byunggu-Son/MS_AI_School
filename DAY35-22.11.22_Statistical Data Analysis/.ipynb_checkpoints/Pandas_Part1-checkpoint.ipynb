{
 "cells": [
  {
   "cell_type": "code",
   "execution_count": 1,
   "id": "4fc6da64",
   "metadata": {},
   "outputs": [],
   "source": [
    "import pandas as pd"
   ]
  },
  {
   "cell_type": "markdown",
   "id": "409c72ea",
   "metadata": {},
   "source": [
    "# 1. Series"
   ]
  },
  {
   "cell_type": "code",
   "execution_count": 11,
   "id": "473a9ba5",
   "metadata": {},
   "outputs": [
    {
     "name": "stdout",
     "output_type": "stream",
     "text": [
      "0      1116\n",
      "1    122259\n",
      "2     65119\n",
      "3     16699\n",
      "dtype: int64\n",
      "RangeIndex(start=0, stop=4, step=1)\n",
      "서울      1116\n",
      "부산    122259\n",
      "인천     65119\n",
      "대구     16699\n",
      "dtype: int64\n",
      "Index(['서울', '부산', '인천', '대구'], dtype='object')\n"
     ]
    }
   ],
   "source": [
    "# index를 넣지 않은 경우.\n",
    "s = pd.Series([1116, 122259, 65119, 16699]) # 넘파이와 유사. 1차원 데이터를 표현하는데 사용\n",
    "print(s)\n",
    "print(s.index) # 인덱스를 순서대로 가져옴. \n",
    "\n",
    "#index를 넣은 경우\n",
    "s = pd.Series([1116, 122259, 65119, 16699], index=['서울','부산','인천','대구'])\n",
    "print(s)\n",
    "print(s.index) string으로 되어있을때 데이터 타입이 object로 표현됨."
   ]
  },
  {
   "cell_type": "code",
   "execution_count": 12,
   "id": "d6e40129",
   "metadata": {},
   "outputs": [
    {
     "data": {
      "text/plain": [
       "array([  1116, 122259,  65119,  16699], dtype=int64)"
      ]
     },
     "execution_count": 12,
     "metadata": {},
     "output_type": "execute_result"
    }
   ],
   "source": [
    "s.values"
   ]
  },
  {
   "cell_type": "code",
   "execution_count": 13,
   "id": "591454e7",
   "metadata": {},
   "outputs": [],
   "source": [
    "s.name = '농작물 생산량(톤)'"
   ]
  },
  {
   "cell_type": "code",
   "execution_count": 15,
   "id": "c6755fa1",
   "metadata": {},
   "outputs": [],
   "source": [
    "s.index.name = '지역구'"
   ]
  },
  {
   "cell_type": "code",
   "execution_count": 16,
   "id": "2998340e",
   "metadata": {},
   "outputs": [
    {
     "data": {
      "text/plain": [
       "지역구\n",
       "서울      1116\n",
       "부산    122259\n",
       "인천     65119\n",
       "대구     16699\n",
       "Name: 농작물 생산량(톤), dtype: int64"
      ]
     },
     "execution_count": 16,
     "metadata": {},
     "output_type": "execute_result"
    }
   ],
   "source": [
    "s"
   ]
  },
  {
   "cell_type": "code",
   "execution_count": 19,
   "id": "75118bb8",
   "metadata": {},
   "outputs": [
    {
     "data": {
      "text/plain": [
       "지역구\n",
       "서울      1.116\n",
       "부산    122.259\n",
       "인천     65.119\n",
       "대구     16.699\n",
       "Name: 농작물 생산량(k톤), dtype: float64"
      ]
     },
     "execution_count": 19,
     "metadata": {},
     "output_type": "execute_result"
    }
   ],
   "source": [
    "s1 = s/1000\n",
    "s1.name = '농작물 생산량(k톤)'\n",
    "s1"
   ]
  },
  {
   "cell_type": "code",
   "execution_count": 21,
   "id": "2002d5bc",
   "metadata": {},
   "outputs": [
    {
     "data": {
      "text/plain": [
       "지역구\n",
       "서울    0.03\n",
       "부산    2.74\n",
       "인천    1.46\n",
       "대구    0.37\n",
       "Name: 농작물 생산량(톤), dtype: float64"
      ]
     },
     "execution_count": 21,
     "metadata": {},
     "output_type": "execute_result"
    }
   ],
   "source": [
    "(s/4456952 * 100).round(2)"
   ]
  },
  {
   "cell_type": "code",
   "execution_count": 23,
   "id": "66a0c446",
   "metadata": {},
   "outputs": [
    {
     "data": {
      "text/plain": [
       "지역구\n",
       "서울      1116\n",
       "부산    122259\n",
       "인천     65119\n",
       "대구     16699\n",
       "Name: 농작물 생산량(톤), dtype: int64"
      ]
     },
     "execution_count": 23,
     "metadata": {},
     "output_type": "execute_result"
    }
   ],
   "source": [
    "s"
   ]
  },
  {
   "cell_type": "code",
   "execution_count": 24,
   "id": "c5c5b748",
   "metadata": {},
   "outputs": [
    {
     "data": {
      "text/plain": [
       "(1116, 1116)"
      ]
     },
     "execution_count": 24,
     "metadata": {},
     "output_type": "execute_result"
    }
   ],
   "source": [
    "s[0], s['서울'] # 인덱스와 키값 모두 접근이 가능하다"
   ]
  },
  {
   "cell_type": "code",
   "execution_count": 25,
   "id": "a5f93545",
   "metadata": {},
   "outputs": [
    {
     "data": {
      "text/plain": [
       "지역구\n",
       "부산    122259\n",
       "서울      1116\n",
       "Name: 농작물 생산량(톤), dtype: int64"
      ]
     },
     "execution_count": 25,
     "metadata": {},
     "output_type": "execute_result"
    }
   ],
   "source": [
    "s[[1,0]] # 순서를 뒤바꿔서 가져올 수 있다."
   ]
  },
  {
   "cell_type": "code",
   "execution_count": 27,
   "id": "38ab479d",
   "metadata": {},
   "outputs": [
    {
     "data": {
      "text/plain": [
       "지역구\n",
       "부산    122259\n",
       "서울      1116\n",
       "Name: 농작물 생산량(톤), dtype: int64"
      ]
     },
     "execution_count": 27,
     "metadata": {},
     "output_type": "execute_result"
    }
   ],
   "source": [
    "s[['부산','서울']] # 인덱스보다 키값으로 가져오는게 안전하다.(인덱스는 상대적이니)"
   ]
  },
  {
   "cell_type": "code",
   "execution_count": 33,
   "id": "4fb08c2a",
   "metadata": {},
   "outputs": [
    {
     "name": "stdout",
     "output_type": "stream",
     "text": [
      "지역구\n",
      "부산    122259\n",
      "인천     65119\n",
      "대구     16699\n",
      "Name: 농작물 생산량(톤), dtype: int64\n",
      "-----------------\n",
      "지역구\n",
      "부산    122259\n",
      "인천     65119\n",
      "대구     16699\n",
      "Name: 농작물 생산량(톤), dtype: int64\n",
      "-----------------\n",
      "지역구\n",
      "부산    122259\n",
      "인천     65119\n",
      "Name: 농작물 생산량(톤), dtype: int64\n"
     ]
    }
   ],
   "source": [
    "print(s[s>10000]) # 조건을 줄 수 있다.\n",
    "print('-----------------')\n",
    "print(s[(s>10000) & (s>10000)])\n",
    "print('-----------------')\n",
    "print(s[(s/4456952 * 100)>0.5])"
   ]
  },
  {
   "cell_type": "code",
   "execution_count": 41,
   "id": "8824b6ab",
   "metadata": {},
   "outputs": [
    {
     "data": {
      "text/plain": [
       "지역구\n",
       "제주도      1.116\n",
       "부산     122.259\n",
       "인천      65.119\n",
       "대구      16.699\n",
       "Name: 농작물 생산량(k톤), dtype: float64"
      ]
     },
     "execution_count": 41,
     "metadata": {},
     "output_type": "execute_result"
    }
   ],
   "source": [
    "# 시리즈 인덱스 이름 변경\n",
    "# s1.index[0] = '제주도' # 시리즈에서 인덱스 이름변경은 rename\n",
    "s1 = s1.rename({'서울':'제주도'})\n",
    "s1"
   ]
  },
  {
   "cell_type": "code",
   "execution_count": 38,
   "id": "36f814b5",
   "metadata": {},
   "outputs": [
    {
     "data": {
      "text/plain": [
       "1116"
      ]
     },
     "execution_count": 38,
     "metadata": {},
     "output_type": "execute_result"
    }
   ],
   "source": [
    "s.서울"
   ]
  },
  {
   "cell_type": "code",
   "execution_count": 48,
   "id": "a03ccacc",
   "metadata": {},
   "outputs": [
    {
     "data": {
      "text/plain": [
       "서울    1\n",
       "부산    2\n",
       "dtype: int64"
      ]
     },
     "execution_count": 48,
     "metadata": {},
     "output_type": "execute_result"
    }
   ],
   "source": [
    "# 인덱스값과 데이터를 수기로 입력하여 시리즈 생성\n",
    "d1 = {'서울':1,'부산':2}\n",
    "pd.Series(d1)"
   ]
  },
  {
   "cell_type": "code",
   "execution_count": 47,
   "id": "e431c009",
   "metadata": {},
   "outputs": [
    {
     "name": "stdout",
     "output_type": "stream",
     "text": [
      "서울 1116\n",
      "부산 122259\n",
      "인천 65119\n",
      "대구 16699\n"
     ]
    }
   ],
   "source": [
    "for k, v in s.items(): # items로 인덱스와 데이터 둘 다 가져올 수 있다.\n",
    "    print(k,v)"
   ]
  },
  {
   "cell_type": "code",
   "execution_count": 45,
   "id": "030fe2d0",
   "metadata": {},
   "outputs": [
    {
     "name": "stdout",
     "output_type": "stream",
     "text": [
      "True\n",
      "False\n",
      "True\n"
     ]
    }
   ],
   "source": [
    "print('서울' in s)\n",
    "print('강원도' in s)\n",
    "print('서울' in s.keys())"
   ]
  },
  {
   "cell_type": "code",
   "execution_count": 59,
   "id": "2d0cda63",
   "metadata": {},
   "outputs": [
    {
     "name": "stdout",
     "output_type": "stream",
     "text": [
      "지역구\n",
      "대구      16682.301\n",
      "부산     122136.741\n",
      "서울            NaN\n",
      "인천      65053.881\n",
      "제주도           NaN\n",
      "dtype: float64\n",
      "------------------------\n",
      "NaN의 타입은 :  <class 'float'>\n"
     ]
    }
   ],
   "source": [
    "# 같은 인덱스가 아니라며 NaN이 발생.\n",
    "print(s-s1) # NaN은 float64타입이다.\n",
    "print('------------------------')\n",
    "import numpy as np\n",
    "print('NaN의 타입은 : ',type(np.nan))"
   ]
  },
  {
   "cell_type": "code",
   "execution_count": 53,
   "id": "b87bbc2d",
   "metadata": {},
   "outputs": [
    {
     "name": "stdout",
     "output_type": "stream",
     "text": [
      "Index(['서울', '부산', '인천', '대구'], dtype='object', name='지역구')\n",
      "Index(['제주도', '부산', '인천', '대구'], dtype='object', name='지역구')\n"
     ]
    }
   ],
   "source": [
    "print(s.index)\n",
    "print(s1.index)"
   ]
  },
  {
   "cell_type": "code",
   "execution_count": 60,
   "id": "57cf2ad9",
   "metadata": {},
   "outputs": [
    {
     "name": "stdout",
     "output_type": "stream",
     "text": [
      "Python 3.9.12\n"
     ]
    }
   ],
   "source": [
    "!python --version"
   ]
  },
  {
   "cell_type": "code",
   "execution_count": 62,
   "id": "d77f918f",
   "metadata": {},
   "outputs": [
    {
     "data": {
      "text/plain": [
       "지역구\n",
       "제주도      1\n",
       "부산     122\n",
       "인천      65\n",
       "대구      16\n",
       "Name: 농작물 생산량(k톤), dtype: int32"
      ]
     },
     "execution_count": 62,
     "metadata": {},
     "output_type": "execute_result"
    }
   ],
   "source": [
    "# 형변환\n",
    "s1_2 = s1[:]\n",
    "s1_2.astype(int)"
   ]
  },
  {
   "cell_type": "code",
   "execution_count": 65,
   "id": "0d5b1d58",
   "metadata": {},
   "outputs": [
    {
     "data": {
      "text/plain": [
       "지역구\n",
       "대구     -16682.301\n",
       "부산    -122136.741\n",
       "서울      -1116.000\n",
       "인천     -65053.881\n",
       "제주도         1.116\n",
       "dtype: float64"
      ]
     },
     "execution_count": 65,
     "metadata": {},
     "output_type": "execute_result"
    }
   ],
   "source": [
    "s1_2.sub(s, fill_value=0) # .000으로 채워진 것은 s1_2에 없는 값이라는 의미"
   ]
  },
  {
   "cell_type": "code",
   "execution_count": 68,
   "id": "fc6ef5fd",
   "metadata": {},
   "outputs": [],
   "source": [
    "s3 = s1_2.sub(s)"
   ]
  },
  {
   "cell_type": "code",
   "execution_count": 69,
   "id": "fa0b822c",
   "metadata": {},
   "outputs": [
    {
     "data": {
      "text/plain": [
       "지역구\n",
       "대구     -16682.301\n",
       "부산    -122136.741\n",
       "서울          0.000\n",
       "인천     -65053.881\n",
       "제주도         0.000\n",
       "dtype: float64"
      ]
     },
     "execution_count": 69,
     "metadata": {},
     "output_type": "execute_result"
    }
   ],
   "source": [
    "# NaN값을 0으로 채움.\n",
    "s3.fillna(0)"
   ]
  },
  {
   "cell_type": "code",
   "execution_count": 88,
   "id": "adf11f02",
   "metadata": {},
   "outputs": [
    {
     "data": {
      "text/plain": [
       "지역구\n",
       "대구     99900.0\n",
       "부산     99900.0\n",
       "서울         NaN\n",
       "인천     99900.0\n",
       "제주도        NaN\n",
       "dtype: float64"
      ]
     },
     "execution_count": 88,
     "metadata": {},
     "output_type": "execute_result"
    }
   ],
   "source": [
    "# 증감을 확인\n",
    "rs = ((s - s1) / s1 * 100).round(3)\n",
    "rs"
   ]
  },
  {
   "cell_type": "code",
   "execution_count": 89,
   "id": "004a8a50",
   "metadata": {},
   "outputs": [
    {
     "name": "stdout",
     "output_type": "stream",
     "text": [
      "nan\n"
     ]
    },
    {
     "data": {
      "text/plain": [
       "지역구\n",
       "대구     99900.0\n",
       "부산     99900.0\n",
       "서울       123.0\n",
       "인천     99900.0\n",
       "제주도        NaN\n",
       "dtype: float64"
      ]
     },
     "execution_count": 89,
     "metadata": {},
     "output_type": "execute_result"
    }
   ],
   "source": [
    "# 값을 변경\n",
    "print(rs['서울'])\n",
    "rs['서울'] = 0\n",
    "rs[2] = 123\n",
    "rs"
   ]
  },
  {
   "cell_type": "code",
   "execution_count": 90,
   "id": "266d59b0",
   "metadata": {},
   "outputs": [
    {
     "data": {
      "text/plain": [
       "지역구\n",
       "부산     99900.0\n",
       "서울       123.0\n",
       "인천     99900.0\n",
       "제주도        NaN\n",
       "dtype: float64"
      ]
     },
     "execution_count": 90,
     "metadata": {},
     "output_type": "execute_result"
    }
   ],
   "source": [
    "# 삭제 (del) , del에서 인덱스 접근은 불가.\n",
    "del rs['대구']\n",
    "rs"
   ]
  },
  {
   "cell_type": "code",
   "execution_count": 91,
   "id": "60749e3e",
   "metadata": {},
   "outputs": [
    {
     "data": {
      "text/plain": [
       "지역구\n",
       "부산     99900.00\n",
       "서울       123.00\n",
       "인천     99900.00\n",
       "제주도         NaN\n",
       "경상도        5.42\n",
       "dtype: float64"
      ]
     },
     "execution_count": 91,
     "metadata": {},
     "output_type": "execute_result"
    }
   ],
   "source": [
    "# 값을 추가\n",
    "rs['경상도'] = 5.42\n",
    "rs"
   ]
  },
  {
   "cell_type": "code",
   "execution_count": 93,
   "id": "277090db",
   "metadata": {},
   "outputs": [],
   "source": [
    "import random"
   ]
  },
  {
   "cell_type": "code",
   "execution_count": 115,
   "id": "446ec447",
   "metadata": {},
   "outputs": [
    {
     "data": {
      "text/plain": [
       "0     22.0\n",
       "1     76.0\n",
       "2     10.0\n",
       "3    -87.0\n",
       "4     54.0\n",
       "      ... \n",
       "95    17.0\n",
       "96     NaN\n",
       "97   -51.0\n",
       "98    52.0\n",
       "99   -85.0\n",
       "Length: 100, dtype: float64"
      ]
     },
     "execution_count": 115,
     "metadata": {},
     "output_type": "execute_result"
    }
   ],
   "source": [
    "# 0 ~ 100 사이의 랜덤값 100개 추출.\n",
    "key100 = random.sample(range(100), 100)\n",
    "\n",
    "# pd.Series() # 크기가 100\n",
    "# 키값 100 밸류값 100\n",
    "key80 = random.sample(list(range(100)), 80) # list를 쓰지 않아도 되지만 명시적으로 형변환\n",
    "value100 = random.sample(range(100), 100)\n",
    "value80 = random.sample(range(100),80)\n",
    "s100 = pd.Series(value100, index=key100)\n",
    "s80 = pd.Series(value80, index=key80)\n",
    "s_100_80_sub = s100 - s80 #인덱스가 맞지 않아서 NaN이 뜬다.\n",
    "s_100_80_sub"
   ]
  },
  {
   "cell_type": "code",
   "execution_count": 118,
   "id": "a70ab598",
   "metadata": {},
   "outputs": [
    {
     "ename": "AttributeError",
     "evalue": "'Series' object has no attribute 'notull'",
     "output_type": "error",
     "traceback": [
      "\u001b[1;31m---------------------------------------------------------------------------\u001b[0m",
      "\u001b[1;31mAttributeError\u001b[0m                            Traceback (most recent call last)",
      "Input \u001b[1;32mIn [118]\u001b[0m, in \u001b[0;36m<cell line: 1>\u001b[1;34m()\u001b[0m\n\u001b[1;32m----> 1\u001b[0m \u001b[38;5;28;01mfor\u001b[39;00m k, v \u001b[38;5;129;01min\u001b[39;00m \u001b[43ms_100_80_sub\u001b[49m\u001b[38;5;241;43m.\u001b[39;49m\u001b[43mnotull\u001b[49m()\u001b[38;5;241m.\u001b[39mitem():\n\u001b[0;32m      2\u001b[0m     \u001b[38;5;28;01mif\u001b[39;00m v:\n\u001b[0;32m      3\u001b[0m         \u001b[38;5;28mprint\u001b[39m(k,v)\n",
      "File \u001b[1;32mC:\\ProgramData\\Anaconda3\\lib\\site-packages\\pandas\\core\\generic.py:5575\u001b[0m, in \u001b[0;36mNDFrame.__getattr__\u001b[1;34m(self, name)\u001b[0m\n\u001b[0;32m   5568\u001b[0m \u001b[38;5;28;01mif\u001b[39;00m (\n\u001b[0;32m   5569\u001b[0m     name \u001b[38;5;129;01mnot\u001b[39;00m \u001b[38;5;129;01min\u001b[39;00m \u001b[38;5;28mself\u001b[39m\u001b[38;5;241m.\u001b[39m_internal_names_set\n\u001b[0;32m   5570\u001b[0m     \u001b[38;5;129;01mand\u001b[39;00m name \u001b[38;5;129;01mnot\u001b[39;00m \u001b[38;5;129;01min\u001b[39;00m \u001b[38;5;28mself\u001b[39m\u001b[38;5;241m.\u001b[39m_metadata\n\u001b[0;32m   5571\u001b[0m     \u001b[38;5;129;01mand\u001b[39;00m name \u001b[38;5;129;01mnot\u001b[39;00m \u001b[38;5;129;01min\u001b[39;00m \u001b[38;5;28mself\u001b[39m\u001b[38;5;241m.\u001b[39m_accessors\n\u001b[0;32m   5572\u001b[0m     \u001b[38;5;129;01mand\u001b[39;00m \u001b[38;5;28mself\u001b[39m\u001b[38;5;241m.\u001b[39m_info_axis\u001b[38;5;241m.\u001b[39m_can_hold_identifiers_and_holds_name(name)\n\u001b[0;32m   5573\u001b[0m ):\n\u001b[0;32m   5574\u001b[0m     \u001b[38;5;28;01mreturn\u001b[39;00m \u001b[38;5;28mself\u001b[39m[name]\n\u001b[1;32m-> 5575\u001b[0m \u001b[38;5;28;01mreturn\u001b[39;00m \u001b[38;5;28;43mobject\u001b[39;49m\u001b[38;5;241;43m.\u001b[39;49m\u001b[38;5;21;43m__getattribute__\u001b[39;49m\u001b[43m(\u001b[49m\u001b[38;5;28;43mself\u001b[39;49m\u001b[43m,\u001b[49m\u001b[43m \u001b[49m\u001b[43mname\u001b[49m\u001b[43m)\u001b[49m\n",
      "\u001b[1;31mAttributeError\u001b[0m: 'Series' object has no attribute 'notull'"
     ]
    }
   ],
   "source": [
    "for k, v in s_100_80_sub.notull().items():\n",
    "    if v:\n",
    "        print(k,v)"
   ]
  },
  {
   "cell_type": "markdown",
   "id": "4cd2811f",
   "metadata": {},
   "source": [
    "# 2. DataFrame"
   ]
  },
  {
   "cell_type": "code",
   "execution_count": 207,
   "id": "3dcd6eb4",
   "metadata": {},
   "outputs": [
    {
     "data": {
      "text/html": [
       "<div>\n",
       "<style scoped>\n",
       "    .dataframe tbody tr th:only-of-type {\n",
       "        vertical-align: middle;\n",
       "    }\n",
       "\n",
       "    .dataframe tbody tr th {\n",
       "        vertical-align: top;\n",
       "    }\n",
       "\n",
       "    .dataframe thead th {\n",
       "        text-align: right;\n",
       "    }\n",
       "</style>\n",
       "<table border=\"1\" class=\"dataframe\">\n",
       "  <thead>\n",
       "    <tr style=\"text-align: right;\">\n",
       "      <th></th>\n",
       "      <th>농지면적순위</th>\n",
       "      <th>2021</th>\n",
       "      <th>2020</th>\n",
       "      <th>2019</th>\n",
       "      <th>2018</th>\n",
       "    </tr>\n",
       "  </thead>\n",
       "  <tbody>\n",
       "    <tr>\n",
       "      <th>서울</th>\n",
       "      <td>4</td>\n",
       "      <td>1116</td>\n",
       "      <td>628</td>\n",
       "      <td>678</td>\n",
       "      <td>712</td>\n",
       "    </tr>\n",
       "    <tr>\n",
       "      <th>부산</th>\n",
       "      <td>3</td>\n",
       "      <td>12259</td>\n",
       "      <td>11075</td>\n",
       "      <td>12700</td>\n",
       "      <td>13597</td>\n",
       "    </tr>\n",
       "    <tr>\n",
       "      <th>대구</th>\n",
       "      <td>2</td>\n",
       "      <td>16699</td>\n",
       "      <td>15695</td>\n",
       "      <td>15148</td>\n",
       "      <td>16052</td>\n",
       "    </tr>\n",
       "    <tr>\n",
       "      <th>인천</th>\n",
       "      <td>1</td>\n",
       "      <td>65119</td>\n",
       "      <td>56013</td>\n",
       "      <td>55443</td>\n",
       "      <td>56024</td>\n",
       "    </tr>\n",
       "  </tbody>\n",
       "</table>\n",
       "</div>"
      ],
      "text/plain": [
       "    농지면적순위   2021   2020   2019   2018\n",
       "서울       4   1116    628    678    712\n",
       "부산       3  12259  11075  12700  13597\n",
       "대구       2  16699  15695  15148  16052\n",
       "인천       1  65119  56013  55443  56024"
      ]
     },
     "execution_count": 207,
     "metadata": {},
     "output_type": "execute_result"
    }
   ],
   "source": [
    "data = {\n",
    "'2021' : [1116, 12259, 16699, 65119],\n",
    "'2020' : [628, 11075, 15695, 56013],\n",
    "'2019' : [678,12700,15148,55443],\n",
    "'2018' : [712, 13597, 16052, 56024],\n",
    "'농지면적순위' : [4,3,2,1]\n",
    "}\n",
    "columns = ['농지면적순위', '2021', '2020', '2019', '2018']\n",
    "index = ['서울','부산','대구','인천']\n",
    "df = pd.DataFrame(data, index=index, columns=columns)\n",
    "df"
   ]
  },
  {
   "cell_type": "code",
   "execution_count": 208,
   "id": "ac6e31ab",
   "metadata": {},
   "outputs": [
    {
     "name": "stdout",
     "output_type": "stream",
     "text": [
      "Index(['농지면적순위', '2021', '2020', '2019', '2018'], dtype='object')\n",
      "Index(['서울', '부산', '대구', '인천'], dtype='object')\n",
      "[[    4  1116   628   678   712]\n",
      " [    3 12259 11075 12700 13597]\n",
      " [    2 16699 15695 15148 16052]\n",
      " [    1 65119 56013 55443 56024]]\n"
     ]
    }
   ],
   "source": [
    "print(df.columns)\n",
    "print(df.index)\n",
    "print(df.values)"
   ]
  },
  {
   "cell_type": "code",
   "execution_count": 209,
   "id": "043a0e04",
   "metadata": {},
   "outputs": [
    {
     "name": "stdout",
     "output_type": "stream",
     "text": [
      "<class 'pandas.core.frame.DataFrame'>\n",
      "Index: 4 entries, 서울 to 인천\n",
      "Data columns (total 5 columns):\n",
      " #   Column  Non-Null Count  Dtype\n",
      "---  ------  --------------  -----\n",
      " 0   농지면적순위  4 non-null      int64\n",
      " 1   2021    4 non-null      int64\n",
      " 2   2020    4 non-null      int64\n",
      " 3   2019    4 non-null      int64\n",
      " 4   2018    4 non-null      int64\n",
      "dtypes: int64(5)\n",
      "memory usage: 192.0+ bytes\n"
     ]
    }
   ],
   "source": [
    "df.info()"
   ]
  },
  {
   "cell_type": "code",
   "execution_count": 210,
   "id": "f09006f5",
   "metadata": {},
   "outputs": [
    {
     "data": {
      "text/html": [
       "<div>\n",
       "<style scoped>\n",
       "    .dataframe tbody tr th:only-of-type {\n",
       "        vertical-align: middle;\n",
       "    }\n",
       "\n",
       "    .dataframe tbody tr th {\n",
       "        vertical-align: top;\n",
       "    }\n",
       "\n",
       "    .dataframe thead th {\n",
       "        text-align: right;\n",
       "    }\n",
       "</style>\n",
       "<table border=\"1\" class=\"dataframe\">\n",
       "  <thead>\n",
       "    <tr style=\"text-align: right;\">\n",
       "      <th></th>\n",
       "      <th>농지면적순위</th>\n",
       "      <th>2021</th>\n",
       "      <th>2020</th>\n",
       "      <th>2019</th>\n",
       "      <th>2018</th>\n",
       "    </tr>\n",
       "    <tr>\n",
       "      <th>지역</th>\n",
       "      <th></th>\n",
       "      <th></th>\n",
       "      <th></th>\n",
       "      <th></th>\n",
       "      <th></th>\n",
       "    </tr>\n",
       "  </thead>\n",
       "  <tbody>\n",
       "    <tr>\n",
       "      <th>서울</th>\n",
       "      <td>4</td>\n",
       "      <td>1116</td>\n",
       "      <td>628</td>\n",
       "      <td>678</td>\n",
       "      <td>712</td>\n",
       "    </tr>\n",
       "    <tr>\n",
       "      <th>부산</th>\n",
       "      <td>3</td>\n",
       "      <td>12259</td>\n",
       "      <td>11075</td>\n",
       "      <td>12700</td>\n",
       "      <td>13597</td>\n",
       "    </tr>\n",
       "    <tr>\n",
       "      <th>대구</th>\n",
       "      <td>2</td>\n",
       "      <td>16699</td>\n",
       "      <td>15695</td>\n",
       "      <td>15148</td>\n",
       "      <td>16052</td>\n",
       "    </tr>\n",
       "    <tr>\n",
       "      <th>인천</th>\n",
       "      <td>1</td>\n",
       "      <td>65119</td>\n",
       "      <td>56013</td>\n",
       "      <td>55443</td>\n",
       "      <td>56024</td>\n",
       "    </tr>\n",
       "  </tbody>\n",
       "</table>\n",
       "</div>"
      ],
      "text/plain": [
       "    농지면적순위   2021   2020   2019   2018\n",
       "지역                                    \n",
       "서울       4   1116    628    678    712\n",
       "부산       3  12259  11075  12700  13597\n",
       "대구       2  16699  15695  15148  16052\n",
       "인천       1  65119  56013  55443  56024"
      ]
     },
     "execution_count": 210,
     "metadata": {},
     "output_type": "execute_result"
    }
   ],
   "source": [
    "df.index.name = '지역'\n",
    "df"
   ]
  },
  {
   "cell_type": "code",
   "execution_count": 211,
   "id": "b9f0b637",
   "metadata": {},
   "outputs": [
    {
     "data": {
      "text/html": [
       "<div>\n",
       "<style scoped>\n",
       "    .dataframe tbody tr th:only-of-type {\n",
       "        vertical-align: middle;\n",
       "    }\n",
       "\n",
       "    .dataframe tbody tr th {\n",
       "        vertical-align: top;\n",
       "    }\n",
       "\n",
       "    .dataframe thead th {\n",
       "        text-align: right;\n",
       "    }\n",
       "</style>\n",
       "<table border=\"1\" class=\"dataframe\">\n",
       "  <thead>\n",
       "    <tr style=\"text-align: right;\">\n",
       "      <th>특성</th>\n",
       "      <th>농지면적순위</th>\n",
       "      <th>2021</th>\n",
       "      <th>2020</th>\n",
       "      <th>2019</th>\n",
       "      <th>2018</th>\n",
       "    </tr>\n",
       "    <tr>\n",
       "      <th>지역</th>\n",
       "      <th></th>\n",
       "      <th></th>\n",
       "      <th></th>\n",
       "      <th></th>\n",
       "      <th></th>\n",
       "    </tr>\n",
       "  </thead>\n",
       "  <tbody>\n",
       "    <tr>\n",
       "      <th>서울</th>\n",
       "      <td>4</td>\n",
       "      <td>1116</td>\n",
       "      <td>628</td>\n",
       "      <td>678</td>\n",
       "      <td>712</td>\n",
       "    </tr>\n",
       "    <tr>\n",
       "      <th>부산</th>\n",
       "      <td>3</td>\n",
       "      <td>12259</td>\n",
       "      <td>11075</td>\n",
       "      <td>12700</td>\n",
       "      <td>13597</td>\n",
       "    </tr>\n",
       "    <tr>\n",
       "      <th>대구</th>\n",
       "      <td>2</td>\n",
       "      <td>16699</td>\n",
       "      <td>15695</td>\n",
       "      <td>15148</td>\n",
       "      <td>16052</td>\n",
       "    </tr>\n",
       "    <tr>\n",
       "      <th>인천</th>\n",
       "      <td>1</td>\n",
       "      <td>65119</td>\n",
       "      <td>56013</td>\n",
       "      <td>55443</td>\n",
       "      <td>56024</td>\n",
       "    </tr>\n",
       "  </tbody>\n",
       "</table>\n",
       "</div>"
      ],
      "text/plain": [
       "특성  농지면적순위   2021   2020   2019   2018\n",
       "지역                                    \n",
       "서울       4   1116    628    678    712\n",
       "부산       3  12259  11075  12700  13597\n",
       "대구       2  16699  15695  15148  16052\n",
       "인천       1  65119  56013  55443  56024"
      ]
     },
     "execution_count": 211,
     "metadata": {},
     "output_type": "execute_result"
    }
   ],
   "source": [
    "df.columns.name = '특성'\n",
    "df"
   ]
  },
  {
   "cell_type": "code",
   "execution_count": 212,
   "id": "5f949e14",
   "metadata": {},
   "outputs": [
    {
     "data": {
      "text/plain": [
       "0    1.0\n",
       "1    2.0\n",
       "2    3.0\n",
       "3    4.0\n",
       "4    NaN\n",
       "dtype: float64"
      ]
     },
     "execution_count": 212,
     "metadata": {},
     "output_type": "execute_result"
    }
   ],
   "source": [
    "# NaN이 나오면 자동적으로 형 변환. NaN이 있으면 float이 되어 버렸다.\n",
    "pd.Series([1,2,3,4,None])"
   ]
  },
  {
   "cell_type": "code",
   "execution_count": 213,
   "id": "adf57aae",
   "metadata": {},
   "outputs": [
    {
     "name": "stdout",
     "output_type": "stream",
     "text": [
      "0    1\n",
      "1    2\n",
      "2    3\n",
      "3    4\n",
      "4    s\n",
      "dtype: object\n",
      "--------------------\n",
      "0번째 데이터의 타입은 :  <class 'int'>\n"
     ]
    }
   ],
   "source": [
    "s = pd.Series([1,2,3,4,'s']) # int와 str이 같이오면 데이터타입은 object가 나오지만 개별적으로 type찍어보면 제대로 된 타입나옴.\n",
    "print(s)\n",
    "print('--------------------')\n",
    "print('0번째 데이터의 타입은 : ',type(s[0]))"
   ]
  },
  {
   "cell_type": "code",
   "execution_count": 214,
   "id": "cb15838b",
   "metadata": {},
   "outputs": [
    {
     "data": {
      "text/html": [
       "<div>\n",
       "<style scoped>\n",
       "    .dataframe tbody tr th:only-of-type {\n",
       "        vertical-align: middle;\n",
       "    }\n",
       "\n",
       "    .dataframe tbody tr th {\n",
       "        vertical-align: top;\n",
       "    }\n",
       "\n",
       "    .dataframe thead th {\n",
       "        text-align: right;\n",
       "    }\n",
       "</style>\n",
       "<table border=\"1\" class=\"dataframe\">\n",
       "  <thead>\n",
       "    <tr style=\"text-align: right;\">\n",
       "      <th>특성</th>\n",
       "      <th>농지면적순위</th>\n",
       "      <th>2021</th>\n",
       "      <th>2020</th>\n",
       "      <th>2019</th>\n",
       "      <th>2018</th>\n",
       "      <th>2018-2021 증가율</th>\n",
       "    </tr>\n",
       "    <tr>\n",
       "      <th>지역</th>\n",
       "      <th></th>\n",
       "      <th></th>\n",
       "      <th></th>\n",
       "      <th></th>\n",
       "      <th></th>\n",
       "      <th></th>\n",
       "    </tr>\n",
       "  </thead>\n",
       "  <tbody>\n",
       "    <tr>\n",
       "      <th>서울</th>\n",
       "      <td>4</td>\n",
       "      <td>1116</td>\n",
       "      <td>628</td>\n",
       "      <td>678</td>\n",
       "      <td>712</td>\n",
       "      <td>56.741573</td>\n",
       "    </tr>\n",
       "    <tr>\n",
       "      <th>부산</th>\n",
       "      <td>3</td>\n",
       "      <td>12259</td>\n",
       "      <td>11075</td>\n",
       "      <td>12700</td>\n",
       "      <td>13597</td>\n",
       "      <td>-9.840406</td>\n",
       "    </tr>\n",
       "    <tr>\n",
       "      <th>대구</th>\n",
       "      <td>2</td>\n",
       "      <td>16699</td>\n",
       "      <td>15695</td>\n",
       "      <td>15148</td>\n",
       "      <td>16052</td>\n",
       "      <td>4.030650</td>\n",
       "    </tr>\n",
       "    <tr>\n",
       "      <th>인천</th>\n",
       "      <td>1</td>\n",
       "      <td>65119</td>\n",
       "      <td>56013</td>\n",
       "      <td>55443</td>\n",
       "      <td>56024</td>\n",
       "      <td>16.234114</td>\n",
       "    </tr>\n",
       "  </tbody>\n",
       "</table>\n",
       "</div>"
      ],
      "text/plain": [
       "특성  농지면적순위   2021   2020   2019   2018  2018-2021 증가율\n",
       "지역                                                   \n",
       "서울       4   1116    628    678    712      56.741573\n",
       "부산       3  12259  11075  12700  13597      -9.840406\n",
       "대구       2  16699  15695  15148  16052       4.030650\n",
       "인천       1  65119  56013  55443  56024      16.234114"
      ]
     },
     "execution_count": 214,
     "metadata": {},
     "output_type": "execute_result"
    }
   ],
   "source": [
    "df[\"2018-2021 증가율\"] = ((df['2021']-df['2018'])/df['2018']*100)\n",
    "df"
   ]
  },
  {
   "cell_type": "code",
   "execution_count": 215,
   "id": "3dc75493",
   "metadata": {},
   "outputs": [
    {
     "data": {
      "text/html": [
       "<div>\n",
       "<style scoped>\n",
       "    .dataframe tbody tr th:only-of-type {\n",
       "        vertical-align: middle;\n",
       "    }\n",
       "\n",
       "    .dataframe tbody tr th {\n",
       "        vertical-align: top;\n",
       "    }\n",
       "\n",
       "    .dataframe thead th {\n",
       "        text-align: right;\n",
       "    }\n",
       "</style>\n",
       "<table border=\"1\" class=\"dataframe\">\n",
       "  <thead>\n",
       "    <tr style=\"text-align: right;\">\n",
       "      <th>특성</th>\n",
       "      <th>농지면적순위</th>\n",
       "      <th>2018</th>\n",
       "      <th>2019</th>\n",
       "      <th>2020</th>\n",
       "      <th>2021</th>\n",
       "      <th>2018-2021 증가율</th>\n",
       "    </tr>\n",
       "    <tr>\n",
       "      <th>지역</th>\n",
       "      <th></th>\n",
       "      <th></th>\n",
       "      <th></th>\n",
       "      <th></th>\n",
       "      <th></th>\n",
       "      <th></th>\n",
       "    </tr>\n",
       "  </thead>\n",
       "  <tbody>\n",
       "    <tr>\n",
       "      <th>서울</th>\n",
       "      <td>4</td>\n",
       "      <td>712</td>\n",
       "      <td>678</td>\n",
       "      <td>628</td>\n",
       "      <td>1116</td>\n",
       "      <td>56.741573</td>\n",
       "    </tr>\n",
       "    <tr>\n",
       "      <th>부산</th>\n",
       "      <td>3</td>\n",
       "      <td>13597</td>\n",
       "      <td>12700</td>\n",
       "      <td>11075</td>\n",
       "      <td>12259</td>\n",
       "      <td>-9.840406</td>\n",
       "    </tr>\n",
       "    <tr>\n",
       "      <th>대구</th>\n",
       "      <td>2</td>\n",
       "      <td>16052</td>\n",
       "      <td>15148</td>\n",
       "      <td>15695</td>\n",
       "      <td>16699</td>\n",
       "      <td>4.030650</td>\n",
       "    </tr>\n",
       "    <tr>\n",
       "      <th>인천</th>\n",
       "      <td>1</td>\n",
       "      <td>56024</td>\n",
       "      <td>55443</td>\n",
       "      <td>56013</td>\n",
       "      <td>65119</td>\n",
       "      <td>16.234114</td>\n",
       "    </tr>\n",
       "  </tbody>\n",
       "</table>\n",
       "</div>"
      ],
      "text/plain": [
       "특성  농지면적순위   2018   2019   2020   2021  2018-2021 증가율\n",
       "지역                                                   \n",
       "서울       4    712    678    628   1116      56.741573\n",
       "부산       3  13597  12700  11075  12259      -9.840406\n",
       "대구       2  16052  15148  15695  16699       4.030650\n",
       "인천       1  56024  55443  56013  65119      16.234114"
      ]
     },
     "execution_count": 215,
     "metadata": {},
     "output_type": "execute_result"
    }
   ],
   "source": [
    "# 컬럼명 순서 바꾸기.\n",
    "df = df[['농지면적순위','2018','2019','2020','2021','2018-2021 증가율']]\n",
    "df"
   ]
  },
  {
   "cell_type": "code",
   "execution_count": 216,
   "id": "781bc7f1",
   "metadata": {},
   "outputs": [
    {
     "data": {
      "text/html": [
       "<div>\n",
       "<style scoped>\n",
       "    .dataframe tbody tr th:only-of-type {\n",
       "        vertical-align: middle;\n",
       "    }\n",
       "\n",
       "    .dataframe tbody tr th {\n",
       "        vertical-align: top;\n",
       "    }\n",
       "\n",
       "    .dataframe thead th {\n",
       "        text-align: right;\n",
       "    }\n",
       "</style>\n",
       "<table border=\"1\" class=\"dataframe\">\n",
       "  <thead>\n",
       "    <tr style=\"text-align: right;\">\n",
       "      <th>지역</th>\n",
       "      <th>서울</th>\n",
       "      <th>부산</th>\n",
       "      <th>대구</th>\n",
       "      <th>인천</th>\n",
       "    </tr>\n",
       "    <tr>\n",
       "      <th>특성</th>\n",
       "      <th></th>\n",
       "      <th></th>\n",
       "      <th></th>\n",
       "      <th></th>\n",
       "    </tr>\n",
       "  </thead>\n",
       "  <tbody>\n",
       "    <tr>\n",
       "      <th>농지면적순위</th>\n",
       "      <td>4.000000</td>\n",
       "      <td>3.000000</td>\n",
       "      <td>2.00000</td>\n",
       "      <td>1.000000</td>\n",
       "    </tr>\n",
       "    <tr>\n",
       "      <th>2018</th>\n",
       "      <td>712.000000</td>\n",
       "      <td>13597.000000</td>\n",
       "      <td>16052.00000</td>\n",
       "      <td>56024.000000</td>\n",
       "    </tr>\n",
       "    <tr>\n",
       "      <th>2019</th>\n",
       "      <td>678.000000</td>\n",
       "      <td>12700.000000</td>\n",
       "      <td>15148.00000</td>\n",
       "      <td>55443.000000</td>\n",
       "    </tr>\n",
       "    <tr>\n",
       "      <th>2020</th>\n",
       "      <td>628.000000</td>\n",
       "      <td>11075.000000</td>\n",
       "      <td>15695.00000</td>\n",
       "      <td>56013.000000</td>\n",
       "    </tr>\n",
       "    <tr>\n",
       "      <th>2021</th>\n",
       "      <td>1116.000000</td>\n",
       "      <td>12259.000000</td>\n",
       "      <td>16699.00000</td>\n",
       "      <td>65119.000000</td>\n",
       "    </tr>\n",
       "    <tr>\n",
       "      <th>2018-2021 증가율</th>\n",
       "      <td>56.741573</td>\n",
       "      <td>-9.840406</td>\n",
       "      <td>4.03065</td>\n",
       "      <td>16.234114</td>\n",
       "    </tr>\n",
       "  </tbody>\n",
       "</table>\n",
       "</div>"
      ],
      "text/plain": [
       "지역                      서울            부산           대구            인천\n",
       "특성                                                                 \n",
       "농지면적순위            4.000000      3.000000      2.00000      1.000000\n",
       "2018            712.000000  13597.000000  16052.00000  56024.000000\n",
       "2019            678.000000  12700.000000  15148.00000  55443.000000\n",
       "2020            628.000000  11075.000000  15695.00000  56013.000000\n",
       "2021           1116.000000  12259.000000  16699.00000  65119.000000\n",
       "2018-2021 증가율    56.741573     -9.840406      4.03065     16.234114"
      ]
     },
     "execution_count": 216,
     "metadata": {},
     "output_type": "execute_result"
    }
   ],
   "source": [
    "# 전치\n",
    "df.T"
   ]
  },
  {
   "cell_type": "code",
   "execution_count": 217,
   "id": "bb9f1039",
   "metadata": {},
   "outputs": [
    {
     "name": "stdout",
     "output_type": "stream",
     "text": [
      "712\n"
     ]
    },
    {
     "data": {
      "text/plain": [
       "지역\n",
       "서울      712\n",
       "부산    13597\n",
       "대구    16052\n",
       "인천    56024\n",
       "Name: 2018, dtype: int64"
      ]
     },
     "execution_count": 217,
     "metadata": {},
     "output_type": "execute_result"
    }
   ],
   "source": [
    "# 값을 추출\n",
    "print(df['2018']['서울']) # 하나의 값을 가져옴.\n",
    "df['2018'] # 대괄호 하나쓰면 시리즈로 가져옴.\n",
    "# df['2018','2019'] # 시리즈로 가져올때는 하나씩"
   ]
  },
  {
   "cell_type": "code",
   "execution_count": 218,
   "id": "edd3bbaf",
   "metadata": {},
   "outputs": [
    {
     "data": {
      "text/html": [
       "<div>\n",
       "<style scoped>\n",
       "    .dataframe tbody tr th:only-of-type {\n",
       "        vertical-align: middle;\n",
       "    }\n",
       "\n",
       "    .dataframe tbody tr th {\n",
       "        vertical-align: top;\n",
       "    }\n",
       "\n",
       "    .dataframe thead th {\n",
       "        text-align: right;\n",
       "    }\n",
       "</style>\n",
       "<table border=\"1\" class=\"dataframe\">\n",
       "  <thead>\n",
       "    <tr style=\"text-align: right;\">\n",
       "      <th>특성</th>\n",
       "      <th>2018</th>\n",
       "    </tr>\n",
       "    <tr>\n",
       "      <th>지역</th>\n",
       "      <th></th>\n",
       "    </tr>\n",
       "  </thead>\n",
       "  <tbody>\n",
       "    <tr>\n",
       "      <th>서울</th>\n",
       "      <td>712</td>\n",
       "    </tr>\n",
       "    <tr>\n",
       "      <th>부산</th>\n",
       "      <td>13597</td>\n",
       "    </tr>\n",
       "    <tr>\n",
       "      <th>대구</th>\n",
       "      <td>16052</td>\n",
       "    </tr>\n",
       "    <tr>\n",
       "      <th>인천</th>\n",
       "      <td>56024</td>\n",
       "    </tr>\n",
       "  </tbody>\n",
       "</table>\n",
       "</div>"
      ],
      "text/plain": [
       "특성   2018\n",
       "지역       \n",
       "서울    712\n",
       "부산  13597\n",
       "대구  16052\n",
       "인천  56024"
      ]
     },
     "execution_count": 218,
     "metadata": {},
     "output_type": "execute_result"
    }
   ],
   "source": [
    "df[['2018']] # 대괄호 두개쓰면 데이터프레임 형태로 가져옴\n",
    "# df[['2018','2019']] 두개 이상 가져오기도 가능"
   ]
  },
  {
   "cell_type": "code",
   "execution_count": 219,
   "id": "a1c83f2c",
   "metadata": {},
   "outputs": [
    {
     "name": "stdout",
     "output_type": "stream",
     "text": [
      "c\n",
      "-----------\n",
      "1116\n",
      "1116\n"
     ]
    }
   ],
   "source": [
    "# 시리즈는 인덱스로 접근.\n",
    "temp = pd.Series(['a','b','c','d','e'])\n",
    "print(temp[2])\n",
    "print('-----------')\n",
    "# 데이터프레임은 컬럼으로 접근\n",
    "print(df['2021']['서울'])\n",
    "print(df['2021'][0])"
   ]
  },
  {
   "cell_type": "code",
   "execution_count": 220,
   "id": "34fcecd9",
   "metadata": {},
   "outputs": [
    {
     "data": {
      "text/html": [
       "<div>\n",
       "<style scoped>\n",
       "    .dataframe tbody tr th:only-of-type {\n",
       "        vertical-align: middle;\n",
       "    }\n",
       "\n",
       "    .dataframe tbody tr th {\n",
       "        vertical-align: top;\n",
       "    }\n",
       "\n",
       "    .dataframe thead th {\n",
       "        text-align: right;\n",
       "    }\n",
       "</style>\n",
       "<table border=\"1\" class=\"dataframe\">\n",
       "  <thead>\n",
       "    <tr style=\"text-align: right;\">\n",
       "      <th>특성</th>\n",
       "      <th>농지면적순위</th>\n",
       "      <th>2018</th>\n",
       "      <th>2019</th>\n",
       "      <th>2020</th>\n",
       "      <th>2021</th>\n",
       "      <th>2018-2021 증가율</th>\n",
       "    </tr>\n",
       "    <tr>\n",
       "      <th>지역</th>\n",
       "      <th></th>\n",
       "      <th></th>\n",
       "      <th></th>\n",
       "      <th></th>\n",
       "      <th></th>\n",
       "      <th></th>\n",
       "    </tr>\n",
       "  </thead>\n",
       "  <tbody>\n",
       "    <tr>\n",
       "      <th>서울</th>\n",
       "      <td>4</td>\n",
       "      <td>712</td>\n",
       "      <td>678</td>\n",
       "      <td>628</td>\n",
       "      <td>1116</td>\n",
       "      <td>56.741573</td>\n",
       "    </tr>\n",
       "    <tr>\n",
       "      <th>부산</th>\n",
       "      <td>3</td>\n",
       "      <td>13597</td>\n",
       "      <td>12700</td>\n",
       "      <td>11075</td>\n",
       "      <td>12259</td>\n",
       "      <td>-9.840406</td>\n",
       "    </tr>\n",
       "    <tr>\n",
       "      <th>대구</th>\n",
       "      <td>2</td>\n",
       "      <td>16052</td>\n",
       "      <td>15148</td>\n",
       "      <td>15695</td>\n",
       "      <td>16699</td>\n",
       "      <td>4.030650</td>\n",
       "    </tr>\n",
       "    <tr>\n",
       "      <th>인천</th>\n",
       "      <td>1</td>\n",
       "      <td>56024</td>\n",
       "      <td>55443</td>\n",
       "      <td>56013</td>\n",
       "      <td>65119</td>\n",
       "      <td>16.234114</td>\n",
       "    </tr>\n",
       "  </tbody>\n",
       "</table>\n",
       "</div>"
      ],
      "text/plain": [
       "특성  농지면적순위   2018   2019   2020   2021  2018-2021 증가율\n",
       "지역                                                   \n",
       "서울       4    712    678    628   1116      56.741573\n",
       "부산       3  13597  12700  11075  12259      -9.840406\n",
       "대구       2  16052  15148  15695  16699       4.030650\n",
       "인천       1  56024  55443  56013  65119      16.234114"
      ]
     },
     "execution_count": 220,
     "metadata": {},
     "output_type": "execute_result"
    }
   ],
   "source": [
    "# 정렬\n",
    "df.sort_values(by='농지면적순위', ascending=False)"
   ]
  },
  {
   "cell_type": "code",
   "execution_count": 221,
   "id": "daa50434",
   "metadata": {},
   "outputs": [
    {
     "data": {
      "text/html": [
       "<div>\n",
       "<style scoped>\n",
       "    .dataframe tbody tr th:only-of-type {\n",
       "        vertical-align: middle;\n",
       "    }\n",
       "\n",
       "    .dataframe tbody tr th {\n",
       "        vertical-align: top;\n",
       "    }\n",
       "\n",
       "    .dataframe thead th {\n",
       "        text-align: right;\n",
       "    }\n",
       "</style>\n",
       "<table border=\"1\" class=\"dataframe\">\n",
       "  <thead>\n",
       "    <tr style=\"text-align: right;\">\n",
       "      <th>특성</th>\n",
       "      <th>농지면적순위</th>\n",
       "      <th>2018</th>\n",
       "      <th>2019</th>\n",
       "      <th>2020</th>\n",
       "      <th>2021</th>\n",
       "      <th>2018-2021 증가율</th>\n",
       "    </tr>\n",
       "    <tr>\n",
       "      <th>지역</th>\n",
       "      <th></th>\n",
       "      <th></th>\n",
       "      <th></th>\n",
       "      <th></th>\n",
       "      <th></th>\n",
       "      <th></th>\n",
       "    </tr>\n",
       "  </thead>\n",
       "  <tbody>\n",
       "    <tr>\n",
       "      <th>서울</th>\n",
       "      <td>4</td>\n",
       "      <td>712</td>\n",
       "      <td>678</td>\n",
       "      <td>628</td>\n",
       "      <td>1116</td>\n",
       "      <td>56.741573</td>\n",
       "    </tr>\n",
       "    <tr>\n",
       "      <th>부산</th>\n",
       "      <td>3</td>\n",
       "      <td>13597</td>\n",
       "      <td>12700</td>\n",
       "      <td>11075</td>\n",
       "      <td>12259</td>\n",
       "      <td>-9.840406</td>\n",
       "    </tr>\n",
       "  </tbody>\n",
       "</table>\n",
       "</div>"
      ],
      "text/plain": [
       "특성  농지면적순위   2018   2019   2020   2021  2018-2021 증가율\n",
       "지역                                                   \n",
       "서울       4    712    678    628   1116      56.741573\n",
       "부산       3  13597  12700  11075  12259      -9.840406"
      ]
     },
     "execution_count": 221,
     "metadata": {},
     "output_type": "execute_result"
    }
   ],
   "source": [
    "# 슬라이싱\n",
    "df[:2]"
   ]
  },
  {
   "cell_type": "code",
   "execution_count": 222,
   "id": "35950b4f",
   "metadata": {},
   "outputs": [
    {
     "data": {
      "text/html": [
       "<div>\n",
       "<style scoped>\n",
       "    .dataframe tbody tr th:only-of-type {\n",
       "        vertical-align: middle;\n",
       "    }\n",
       "\n",
       "    .dataframe tbody tr th {\n",
       "        vertical-align: top;\n",
       "    }\n",
       "\n",
       "    .dataframe thead th {\n",
       "        text-align: right;\n",
       "    }\n",
       "</style>\n",
       "<table border=\"1\" class=\"dataframe\">\n",
       "  <thead>\n",
       "    <tr style=\"text-align: right;\">\n",
       "      <th>특성</th>\n",
       "      <th>농지면적순위</th>\n",
       "      <th>2018</th>\n",
       "      <th>2019</th>\n",
       "      <th>2020</th>\n",
       "      <th>2021</th>\n",
       "      <th>2018-2021 증가율</th>\n",
       "    </tr>\n",
       "    <tr>\n",
       "      <th>지역</th>\n",
       "      <th></th>\n",
       "      <th></th>\n",
       "      <th></th>\n",
       "      <th></th>\n",
       "      <th></th>\n",
       "      <th></th>\n",
       "    </tr>\n",
       "  </thead>\n",
       "  <tbody>\n",
       "    <tr>\n",
       "      <th>부산</th>\n",
       "      <td>3</td>\n",
       "      <td>13597</td>\n",
       "      <td>12700</td>\n",
       "      <td>11075</td>\n",
       "      <td>12259</td>\n",
       "      <td>-9.840406</td>\n",
       "    </tr>\n",
       "    <tr>\n",
       "      <th>대구</th>\n",
       "      <td>2</td>\n",
       "      <td>16052</td>\n",
       "      <td>15148</td>\n",
       "      <td>15695</td>\n",
       "      <td>16699</td>\n",
       "      <td>4.030650</td>\n",
       "    </tr>\n",
       "  </tbody>\n",
       "</table>\n",
       "</div>"
      ],
      "text/plain": [
       "특성  농지면적순위   2018   2019   2020   2021  2018-2021 증가율\n",
       "지역                                                   \n",
       "부산       3  13597  12700  11075  12259      -9.840406\n",
       "대구       2  16052  15148  15695  16699       4.030650"
      ]
     },
     "execution_count": 222,
     "metadata": {},
     "output_type": "execute_result"
    }
   ],
   "source": [
    "# loc, iloc\n",
    "df.loc[['부산', '대구']]"
   ]
  },
  {
   "cell_type": "code",
   "execution_count": 223,
   "id": "7b7ab295",
   "metadata": {},
   "outputs": [
    {
     "data": {
      "text/plain": [
       "13597"
      ]
     },
     "execution_count": 223,
     "metadata": {},
     "output_type": "execute_result"
    }
   ],
   "source": [
    "df.iloc[1,1]"
   ]
  },
  {
   "cell_type": "code",
   "execution_count": 224,
   "id": "1a747379",
   "metadata": {},
   "outputs": [
    {
     "data": {
      "text/plain": [
       "712"
      ]
     },
     "execution_count": 224,
     "metadata": {},
     "output_type": "execute_result"
    }
   ],
   "source": [
    "df['2018']['서울']"
   ]
  },
  {
   "cell_type": "code",
   "execution_count": 225,
   "id": "8f387fa1",
   "metadata": {},
   "outputs": [
    {
     "data": {
      "text/html": [
       "<div>\n",
       "<style scoped>\n",
       "    .dataframe tbody tr th:only-of-type {\n",
       "        vertical-align: middle;\n",
       "    }\n",
       "\n",
       "    .dataframe tbody tr th {\n",
       "        vertical-align: top;\n",
       "    }\n",
       "\n",
       "    .dataframe thead th {\n",
       "        text-align: right;\n",
       "    }\n",
       "</style>\n",
       "<table border=\"1\" class=\"dataframe\">\n",
       "  <thead>\n",
       "    <tr style=\"text-align: right;\">\n",
       "      <th>특성</th>\n",
       "      <th>농지면적순위</th>\n",
       "      <th>2018</th>\n",
       "      <th>2019</th>\n",
       "      <th>2020</th>\n",
       "      <th>2021</th>\n",
       "      <th>2018-2021 증가율</th>\n",
       "    </tr>\n",
       "    <tr>\n",
       "      <th>지역</th>\n",
       "      <th></th>\n",
       "      <th></th>\n",
       "      <th></th>\n",
       "      <th></th>\n",
       "      <th></th>\n",
       "      <th></th>\n",
       "    </tr>\n",
       "  </thead>\n",
       "  <tbody>\n",
       "    <tr>\n",
       "      <th>서울</th>\n",
       "      <td>4</td>\n",
       "      <td>712</td>\n",
       "      <td>678</td>\n",
       "      <td>628</td>\n",
       "      <td>1116</td>\n",
       "      <td>56.741573</td>\n",
       "    </tr>\n",
       "    <tr>\n",
       "      <th>서울</th>\n",
       "      <td>4</td>\n",
       "      <td>712</td>\n",
       "      <td>678</td>\n",
       "      <td>628</td>\n",
       "      <td>1116</td>\n",
       "      <td>56.741573</td>\n",
       "    </tr>\n",
       "    <tr>\n",
       "      <th>서울</th>\n",
       "      <td>4</td>\n",
       "      <td>712</td>\n",
       "      <td>678</td>\n",
       "      <td>628</td>\n",
       "      <td>1116</td>\n",
       "      <td>56.741573</td>\n",
       "    </tr>\n",
       "    <tr>\n",
       "      <th>서울</th>\n",
       "      <td>4</td>\n",
       "      <td>712</td>\n",
       "      <td>678</td>\n",
       "      <td>628</td>\n",
       "      <td>1116</td>\n",
       "      <td>56.741573</td>\n",
       "    </tr>\n",
       "  </tbody>\n",
       "</table>\n",
       "</div>"
      ],
      "text/plain": [
       "특성  농지면적순위  2018  2019  2020  2021  2018-2021 증가율\n",
       "지역                                               \n",
       "서울       4   712   678   628  1116      56.741573\n",
       "서울       4   712   678   628  1116      56.741573\n",
       "서울       4   712   678   628  1116      56.741573\n",
       "서울       4   712   678   628  1116      56.741573"
      ]
     },
     "execution_count": 225,
     "metadata": {},
     "output_type": "execute_result"
    }
   ],
   "source": [
    "df.iloc[[0,0,0,0]] # 데이터프레임 형태로 가져오면 이런식으로도 복제해서 가져오기 가능."
   ]
  },
  {
   "cell_type": "code",
   "execution_count": 226,
   "id": "81f3f464",
   "metadata": {},
   "outputs": [
    {
     "data": {
      "text/html": [
       "<div>\n",
       "<style scoped>\n",
       "    .dataframe tbody tr th:only-of-type {\n",
       "        vertical-align: middle;\n",
       "    }\n",
       "\n",
       "    .dataframe tbody tr th {\n",
       "        vertical-align: top;\n",
       "    }\n",
       "\n",
       "    .dataframe thead th {\n",
       "        text-align: right;\n",
       "    }\n",
       "</style>\n",
       "<table border=\"1\" class=\"dataframe\">\n",
       "  <thead>\n",
       "    <tr style=\"text-align: right;\">\n",
       "      <th>특성</th>\n",
       "      <th>농지면적순위</th>\n",
       "      <th>2018</th>\n",
       "      <th>2019</th>\n",
       "    </tr>\n",
       "    <tr>\n",
       "      <th>지역</th>\n",
       "      <th></th>\n",
       "      <th></th>\n",
       "      <th></th>\n",
       "    </tr>\n",
       "  </thead>\n",
       "  <tbody>\n",
       "    <tr>\n",
       "      <th>서울</th>\n",
       "      <td>4</td>\n",
       "      <td>712</td>\n",
       "      <td>678</td>\n",
       "    </tr>\n",
       "    <tr>\n",
       "      <th>부산</th>\n",
       "      <td>3</td>\n",
       "      <td>13597</td>\n",
       "      <td>12700</td>\n",
       "    </tr>\n",
       "  </tbody>\n",
       "</table>\n",
       "</div>"
      ],
      "text/plain": [
       "특성  농지면적순위   2018   2019\n",
       "지역                      \n",
       "서울       4    712    678\n",
       "부산       3  13597  12700"
      ]
     },
     "execution_count": 226,
     "metadata": {},
     "output_type": "execute_result"
    }
   ],
   "source": [
    "df.iloc[:2,:3]"
   ]
  },
  {
   "cell_type": "code",
   "execution_count": 227,
   "id": "9ef83bdd",
   "metadata": {},
   "outputs": [
    {
     "name": "stdout",
     "output_type": "stream",
     "text": [
      "4.0\n",
      "4\n"
     ]
    }
   ],
   "source": [
    "print(df.iloc[0][0])\n",
    "print(df.iloc[0,0])\n",
    "# 데이터의 타입이 다르기 때문에 모든 데이터 타입이 float으로 맞춰져서\n",
    "# 시리즈로 반환하는 과정에서 시리즈는 데이터 타입이 통일이 되어야하기 때문에\n",
    "# 자동으로 형 변환이 이루어져서 두 출력 결과가 다륵게 나옴.\n",
    "# 그러므로 df.iloc[0,0]처럼 본래 데이터 타입을 바꾸지 않고 접근하는 방식을 사용하도록 하자!"
   ]
  },
  {
   "cell_type": "code",
   "execution_count": 275,
   "id": "b3719544",
   "metadata": {},
   "outputs": [],
   "source": [
    "# 실습\n",
    "index = ['철수','영희','길동','슬기']\n",
    "columns = ['국어','영어','수학','과학']\n",
    "data = {\n",
    "    '국어' : [80,90,70,50],\n",
    "    '영어' : [90,50,60,100],\n",
    "    '수학' : [70,100,50,70],\n",
    "    '과학' : [30,50,80,80]\n",
    "}\n",
    "df = pd.DataFrame(data, index=index, columns=columns)\n",
    "\n",
    "# 데이터를 넣을 때는 data앞의 키 값은 columns를 써야됨. 데이터프레임이 시리즈를 한줄씩 붙여서 만든것이니까.\n",
    "# data 앞에 키 값을 index로 쓸 경우 모든 데이터값이 NaN으로 뜬다."
   ]
  },
  {
   "cell_type": "code",
   "execution_count": 276,
   "id": "47d10d25",
   "metadata": {},
   "outputs": [
    {
     "data": {
      "text/html": [
       "<div>\n",
       "<style scoped>\n",
       "    .dataframe tbody tr th:only-of-type {\n",
       "        vertical-align: middle;\n",
       "    }\n",
       "\n",
       "    .dataframe tbody tr th {\n",
       "        vertical-align: top;\n",
       "    }\n",
       "\n",
       "    .dataframe thead th {\n",
       "        text-align: right;\n",
       "    }\n",
       "</style>\n",
       "<table border=\"1\" class=\"dataframe\">\n",
       "  <thead>\n",
       "    <tr style=\"text-align: right;\">\n",
       "      <th></th>\n",
       "      <th>국어</th>\n",
       "      <th>영어</th>\n",
       "      <th>수학</th>\n",
       "      <th>과학</th>\n",
       "    </tr>\n",
       "  </thead>\n",
       "  <tbody>\n",
       "    <tr>\n",
       "      <th>철수</th>\n",
       "      <td>80</td>\n",
       "      <td>90</td>\n",
       "      <td>70</td>\n",
       "      <td>30</td>\n",
       "    </tr>\n",
       "    <tr>\n",
       "      <th>영희</th>\n",
       "      <td>90</td>\n",
       "      <td>50</td>\n",
       "      <td>100</td>\n",
       "      <td>50</td>\n",
       "    </tr>\n",
       "    <tr>\n",
       "      <th>길동</th>\n",
       "      <td>70</td>\n",
       "      <td>60</td>\n",
       "      <td>50</td>\n",
       "      <td>80</td>\n",
       "    </tr>\n",
       "    <tr>\n",
       "      <th>슬기</th>\n",
       "      <td>50</td>\n",
       "      <td>100</td>\n",
       "      <td>70</td>\n",
       "      <td>80</td>\n",
       "    </tr>\n",
       "  </tbody>\n",
       "</table>\n",
       "</div>"
      ],
      "text/plain": [
       "    국어   영어   수학  과학\n",
       "철수  80   90   70  30\n",
       "영희  90   50  100  50\n",
       "길동  70   60   50  80\n",
       "슬기  50  100   70  80"
      ]
     },
     "execution_count": 276,
     "metadata": {},
     "output_type": "execute_result"
    }
   ],
   "source": [
    "df"
   ]
  },
  {
   "cell_type": "code",
   "execution_count": 277,
   "id": "55129ff4",
   "metadata": {},
   "outputs": [
    {
     "data": {
      "text/html": [
       "<div>\n",
       "<style scoped>\n",
       "    .dataframe tbody tr th:only-of-type {\n",
       "        vertical-align: middle;\n",
       "    }\n",
       "\n",
       "    .dataframe tbody tr th {\n",
       "        vertical-align: top;\n",
       "    }\n",
       "\n",
       "    .dataframe thead th {\n",
       "        text-align: right;\n",
       "    }\n",
       "</style>\n",
       "<table border=\"1\" class=\"dataframe\">\n",
       "  <thead>\n",
       "    <tr style=\"text-align: right;\">\n",
       "      <th></th>\n",
       "      <th>국어</th>\n",
       "      <th>영어</th>\n",
       "      <th>수학</th>\n",
       "      <th>과학</th>\n",
       "    </tr>\n",
       "  </thead>\n",
       "  <tbody>\n",
       "    <tr>\n",
       "      <th>철수</th>\n",
       "      <td>80.0</td>\n",
       "      <td>90.0</td>\n",
       "      <td>70.0</td>\n",
       "      <td>30.0</td>\n",
       "    </tr>\n",
       "    <tr>\n",
       "      <th>영희</th>\n",
       "      <td>90.0</td>\n",
       "      <td>50.0</td>\n",
       "      <td>100.0</td>\n",
       "      <td>50.0</td>\n",
       "    </tr>\n",
       "    <tr>\n",
       "      <th>길동</th>\n",
       "      <td>70.0</td>\n",
       "      <td>60.0</td>\n",
       "      <td>50.0</td>\n",
       "      <td>80.0</td>\n",
       "    </tr>\n",
       "    <tr>\n",
       "      <th>슬기</th>\n",
       "      <td>50.0</td>\n",
       "      <td>100.0</td>\n",
       "      <td>70.0</td>\n",
       "      <td>80.0</td>\n",
       "    </tr>\n",
       "    <tr>\n",
       "      <th>과목평균</th>\n",
       "      <td>72.5</td>\n",
       "      <td>75.0</td>\n",
       "      <td>72.5</td>\n",
       "      <td>60.0</td>\n",
       "    </tr>\n",
       "  </tbody>\n",
       "</table>\n",
       "</div>"
      ],
      "text/plain": [
       "        국어     영어     수학    과학\n",
       "철수    80.0   90.0   70.0  30.0\n",
       "영희    90.0   50.0  100.0  50.0\n",
       "길동    70.0   60.0   50.0  80.0\n",
       "슬기    50.0  100.0   70.0  80.0\n",
       "과목평균  72.5   75.0   72.5  60.0"
      ]
     },
     "execution_count": 277,
     "metadata": {},
     "output_type": "execute_result"
    }
   ],
   "source": [
    "df.loc['과목평균'] = df.mean() # 행추가는 df.loc['추가할 행 이름'] = \n",
    "df"
   ]
  },
  {
   "cell_type": "code",
   "execution_count": 278,
   "id": "988caeec",
   "metadata": {},
   "outputs": [
    {
     "data": {
      "text/plain": [
       "철수      67.5\n",
       "영희      72.5\n",
       "길동      65.0\n",
       "슬기      75.0\n",
       "과목평균    70.0\n",
       "dtype: float64"
      ]
     },
     "execution_count": 278,
     "metadata": {},
     "output_type": "execute_result"
    }
   ],
   "source": [
    "df.mean(axis=1) # axis=0가 기본연산. 0은 각 열에 대한 '행'의 연산. 1은 그 반대."
   ]
  },
  {
   "cell_type": "code",
   "execution_count": 279,
   "id": "265c5459",
   "metadata": {},
   "outputs": [
    {
     "data": {
      "text/html": [
       "<div>\n",
       "<style scoped>\n",
       "    .dataframe tbody tr th:only-of-type {\n",
       "        vertical-align: middle;\n",
       "    }\n",
       "\n",
       "    .dataframe tbody tr th {\n",
       "        vertical-align: top;\n",
       "    }\n",
       "\n",
       "    .dataframe thead th {\n",
       "        text-align: right;\n",
       "    }\n",
       "</style>\n",
       "<table border=\"1\" class=\"dataframe\">\n",
       "  <thead>\n",
       "    <tr style=\"text-align: right;\">\n",
       "      <th></th>\n",
       "      <th>국어</th>\n",
       "      <th>영어</th>\n",
       "      <th>수학</th>\n",
       "      <th>과학</th>\n",
       "      <th>학생평균</th>\n",
       "    </tr>\n",
       "  </thead>\n",
       "  <tbody>\n",
       "    <tr>\n",
       "      <th>철수</th>\n",
       "      <td>80.0</td>\n",
       "      <td>90.0</td>\n",
       "      <td>70.0</td>\n",
       "      <td>30.0</td>\n",
       "      <td>67.5</td>\n",
       "    </tr>\n",
       "    <tr>\n",
       "      <th>영희</th>\n",
       "      <td>90.0</td>\n",
       "      <td>50.0</td>\n",
       "      <td>100.0</td>\n",
       "      <td>50.0</td>\n",
       "      <td>72.5</td>\n",
       "    </tr>\n",
       "    <tr>\n",
       "      <th>길동</th>\n",
       "      <td>70.0</td>\n",
       "      <td>60.0</td>\n",
       "      <td>50.0</td>\n",
       "      <td>80.0</td>\n",
       "      <td>65.0</td>\n",
       "    </tr>\n",
       "    <tr>\n",
       "      <th>슬기</th>\n",
       "      <td>50.0</td>\n",
       "      <td>100.0</td>\n",
       "      <td>70.0</td>\n",
       "      <td>80.0</td>\n",
       "      <td>75.0</td>\n",
       "    </tr>\n",
       "    <tr>\n",
       "      <th>과목평균</th>\n",
       "      <td>72.5</td>\n",
       "      <td>75.0</td>\n",
       "      <td>72.5</td>\n",
       "      <td>60.0</td>\n",
       "      <td>70.0</td>\n",
       "    </tr>\n",
       "  </tbody>\n",
       "</table>\n",
       "</div>"
      ],
      "text/plain": [
       "        국어     영어     수학    과학  학생평균\n",
       "철수    80.0   90.0   70.0  30.0  67.5\n",
       "영희    90.0   50.0  100.0  50.0  72.5\n",
       "길동    70.0   60.0   50.0  80.0  65.0\n",
       "슬기    50.0  100.0   70.0  80.0  75.0\n",
       "과목평균  72.5   75.0   72.5  60.0  70.0"
      ]
     },
     "execution_count": 279,
     "metadata": {},
     "output_type": "execute_result"
    }
   ],
   "source": [
    "df['학생평균'] = df.mean(axis=1)\n",
    "df"
   ]
  }
 ],
 "metadata": {
  "kernelspec": {
   "display_name": "Python 3 (ipykernel)",
   "language": "python",
   "name": "python3"
  },
  "language_info": {
   "codemirror_mode": {
    "name": "ipython",
    "version": 3
   },
   "file_extension": ".py",
   "mimetype": "text/x-python",
   "name": "python",
   "nbconvert_exporter": "python",
   "pygments_lexer": "ipython3",
   "version": "3.9.12"
  }
 },
 "nbformat": 4,
 "nbformat_minor": 5
}
